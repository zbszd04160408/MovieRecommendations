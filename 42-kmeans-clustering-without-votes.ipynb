{
 "cells": [
  {
   "cell_type": "markdown",
   "metadata": {},
   "source": [
    "# 42-kmeans-clustering-with-votes\n",
    "> In this notebook, K-means clustering without votes column."
   ]
  },
  {
   "cell_type": "code",
   "execution_count": 1,
   "metadata": {},
   "outputs": [],
   "source": [
    "import pandas as pd\n",
    "import numpy as np\n",
    "import matplotlib.pyplot as plt\n",
    "import os.path\n",
    "import glob\n",
    "\n",
    "from kneed import KneeLocator\n",
    "from sklearn.datasets import make_blobs\n",
    "from sklearn.cluster import KMeans\n",
    "from sklearn.metrics import silhouette_score\n",
    "from sklearn.preprocessing import StandardScaler"
   ]
  },
  {
   "cell_type": "code",
   "execution_count": 2,
   "metadata": {},
   "outputs": [],
   "source": [
    "import warnings\n",
    "warnings.filterwarnings('ignore')"
   ]
  },
  {
   "cell_type": "markdown",
   "metadata": {},
   "source": [
    "# Import Data\n",
    "\n",
    "For the first stpe, we need to import data. If you want to run this code in your local computer, please change the path of \"personal_path\" corresponding to your local environment."
   ]
  },
  {
   "cell_type": "code",
   "execution_count": 3,
   "metadata": {},
   "outputs": [],
   "source": [
    "# Define file paths\n",
    "prefix_path = os.path.expanduser('/Users/jaykim/')\n",
    "# If you want to run this code, please edit personal path below.\n",
    "personal_path = 'Documents/Yeartwo/Case_studies/'\n",
    "folder_path = 'case2/Data/cluster16_kmode/'\n",
    "path = prefix_path + personal_path + folder_path\n",
    "\n",
    "# Import all csv file in the cluster16_kmode folder.\n",
    "csv_files = glob.glob(path + \"*.csv\")"
   ]
  },
  {
   "cell_type": "code",
   "execution_count": 4,
   "metadata": {},
   "outputs": [
    {
     "data": {
      "text/plain": [
       "['/Users/jaykim/Documents/Yeartwo/Case_studies/case2/Data/cluster16_kmode/UK, USA_English_James Ivory_Drama.csv',\n",
       " '/Users/jaykim/Documents/Yeartwo/Case_studies/case2/Data/cluster16_kmode/USA_English_Tobe Hooper_Horror.csv',\n",
       " '/Users/jaykim/Documents/Yeartwo/Case_studies/case2/Data/cluster16_kmode/USA_English_Albert Pyun_Action.csv',\n",
       " '/Users/jaykim/Documents/Yeartwo/Case_studies/case2/Data/cluster16_kmode/USA_English, German_Tim Blake Nelson_Drama.csv',\n",
       " '/Users/jaykim/Documents/Yeartwo/Case_studies/case2/Data/cluster16_kmode/Australia_English_Alex Proyas_Comedy.csv']"
      ]
     },
     "execution_count": 4,
     "metadata": {},
     "output_type": "execute_result"
    }
   ],
   "source": [
    "csv_files[:5]"
   ]
  },
  {
   "cell_type": "markdown",
   "metadata": {},
   "source": [
    "Let's import all csv files and save this in \"df_list\". By doing this, we can call every csv files quickly and it helps us handle many data easily."
   ]
  },
  {
   "cell_type": "code",
   "execution_count": 5,
   "metadata": {},
   "outputs": [],
   "source": [
    "# Import dataframe and assign them to a list\n",
    "df_list = []\n",
    "for i in range(len(csv_files)):\n",
    "    df_list.append(pd.read_csv(csv_files[i]))"
   ]
  },
  {
   "cell_type": "markdown",
   "metadata": {},
   "source": [
    "let's create a new column \"group\". This value is refers to a group number after we diveded the data using Kmode in the previous notebook 40."
   ]
  },
  {
   "cell_type": "code",
   "execution_count": 6,
   "metadata": {},
   "outputs": [],
   "source": [
    "for i in range(len(df_list)):\n",
    "    df_list[i]['group'] = i + 1"
   ]
  },
  {
   "cell_type": "markdown",
   "metadata": {},
   "source": [
    "Now, let's combine all dataframe. The reason why we are combining all data together is because we are going to normalize data. "
   ]
  },
  {
   "cell_type": "code",
   "execution_count": 7,
   "metadata": {},
   "outputs": [],
   "source": [
    "# Merging multiple dataframes\n",
    "df_total = [df_list[0], df_list[1],df_list[2], df_list[3], df_list[4], df_list[5], df_list[6], df_list[7], df_list[8], df_list[9], df_list[10], df_list[11], df_list[12], df_list[13], df_list[14], df_list[15]]\n",
    "all_df = pd.concat(df_total)\n"
   ]
  },
  {
   "cell_type": "code",
   "execution_count": 8,
   "metadata": {},
   "outputs": [
    {
     "data": {
      "text/html": [
       "<div>\n",
       "<style scoped>\n",
       "    .dataframe tbody tr th:only-of-type {\n",
       "        vertical-align: middle;\n",
       "    }\n",
       "\n",
       "    .dataframe tbody tr th {\n",
       "        vertical-align: top;\n",
       "    }\n",
       "\n",
       "    .dataframe thead th {\n",
       "        text-align: right;\n",
       "    }\n",
       "</style>\n",
       "<table border=\"1\" class=\"dataframe\">\n",
       "  <thead>\n",
       "    <tr style=\"text-align: right;\">\n",
       "      <th></th>\n",
       "      <th>id</th>\n",
       "      <th>review_1st</th>\n",
       "      <th>review_2nd</th>\n",
       "      <th>description_1st</th>\n",
       "      <th>description_2nd</th>\n",
       "      <th>overview_1st</th>\n",
       "      <th>overview_2nd</th>\n",
       "      <th>votes</th>\n",
       "      <th>reviews_from_critics</th>\n",
       "      <th>popularity</th>\n",
       "      <th>recommendation1</th>\n",
       "      <th>recommendation2</th>\n",
       "      <th>recommendation3</th>\n",
       "      <th>recommendation4</th>\n",
       "      <th>recommendation5</th>\n",
       "      <th>recommendation6</th>\n",
       "      <th>group</th>\n",
       "    </tr>\n",
       "  </thead>\n",
       "  <tbody>\n",
       "    <tr>\n",
       "      <th>0</th>\n",
       "      <td>tt0248123</td>\n",
       "      <td>5.052363</td>\n",
       "      <td>14.008677</td>\n",
       "      <td>19.101181</td>\n",
       "      <td>-5.684755</td>\n",
       "      <td>10.454543</td>\n",
       "      <td>5.274888</td>\n",
       "      <td>6.60</td>\n",
       "      <td>7.0</td>\n",
       "      <td>0.041677</td>\n",
       "      <td>NaN</td>\n",
       "      <td>NaN</td>\n",
       "      <td>NaN</td>\n",
       "      <td>NaN</td>\n",
       "      <td>NaN</td>\n",
       "      <td>NaN</td>\n",
       "      <td>1</td>\n",
       "    </tr>\n",
       "    <tr>\n",
       "      <th>1</th>\n",
       "      <td>tt0443584</td>\n",
       "      <td>0.486805</td>\n",
       "      <td>11.690599</td>\n",
       "      <td>20.577621</td>\n",
       "      <td>-4.113286</td>\n",
       "      <td>13.450911</td>\n",
       "      <td>1.172032</td>\n",
       "      <td>4.45</td>\n",
       "      <td>10.0</td>\n",
       "      <td>5.257142</td>\n",
       "      <td>tt0082054</td>\n",
       "      <td>NaN</td>\n",
       "      <td>NaN</td>\n",
       "      <td>NaN</td>\n",
       "      <td>NaN</td>\n",
       "      <td>NaN</td>\n",
       "      <td>1</td>\n",
       "    </tr>\n",
       "    <tr>\n",
       "      <th>2</th>\n",
       "      <td>tt0242527</td>\n",
       "      <td>2.242022</td>\n",
       "      <td>11.166927</td>\n",
       "      <td>21.120935</td>\n",
       "      <td>-2.160072</td>\n",
       "      <td>9.920180</td>\n",
       "      <td>0.142537</td>\n",
       "      <td>6.30</td>\n",
       "      <td>47.0</td>\n",
       "      <td>4.406514</td>\n",
       "      <td>tt0366627</td>\n",
       "      <td>NaN</td>\n",
       "      <td>NaN</td>\n",
       "      <td>NaN</td>\n",
       "      <td>NaN</td>\n",
       "      <td>NaN</td>\n",
       "      <td>1</td>\n",
       "    </tr>\n",
       "    <tr>\n",
       "      <th>3</th>\n",
       "      <td>tt0374180</td>\n",
       "      <td>5.129464</td>\n",
       "      <td>9.997657</td>\n",
       "      <td>18.254795</td>\n",
       "      <td>-2.657217</td>\n",
       "      <td>10.732504</td>\n",
       "      <td>1.921588</td>\n",
       "      <td>5.35</td>\n",
       "      <td>33.0</td>\n",
       "      <td>8.643620</td>\n",
       "      <td>tt0100369</td>\n",
       "      <td>tt0115610</td>\n",
       "      <td>NaN</td>\n",
       "      <td>NaN</td>\n",
       "      <td>NaN</td>\n",
       "      <td>NaN</td>\n",
       "      <td>1</td>\n",
       "    </tr>\n",
       "    <tr>\n",
       "      <th>4</th>\n",
       "      <td>tt0428856</td>\n",
       "      <td>4.142411</td>\n",
       "      <td>12.404982</td>\n",
       "      <td>19.261920</td>\n",
       "      <td>-5.632376</td>\n",
       "      <td>12.010869</td>\n",
       "      <td>2.989712</td>\n",
       "      <td>6.40</td>\n",
       "      <td>40.0</td>\n",
       "      <td>5.545420</td>\n",
       "      <td>tt0415932</td>\n",
       "      <td>NaN</td>\n",
       "      <td>NaN</td>\n",
       "      <td>NaN</td>\n",
       "      <td>NaN</td>\n",
       "      <td>NaN</td>\n",
       "      <td>1</td>\n",
       "    </tr>\n",
       "  </tbody>\n",
       "</table>\n",
       "</div>"
      ],
      "text/plain": [
       "          id  review_1st  review_2nd  description_1st  description_2nd  \\\n",
       "0  tt0248123    5.052363   14.008677        19.101181        -5.684755   \n",
       "1  tt0443584    0.486805   11.690599        20.577621        -4.113286   \n",
       "2  tt0242527    2.242022   11.166927        21.120935        -2.160072   \n",
       "3  tt0374180    5.129464    9.997657        18.254795        -2.657217   \n",
       "4  tt0428856    4.142411   12.404982        19.261920        -5.632376   \n",
       "\n",
       "   overview_1st  overview_2nd  votes  reviews_from_critics  popularity  \\\n",
       "0     10.454543      5.274888   6.60                   7.0    0.041677   \n",
       "1     13.450911      1.172032   4.45                  10.0    5.257142   \n",
       "2      9.920180      0.142537   6.30                  47.0    4.406514   \n",
       "3     10.732504      1.921588   5.35                  33.0    8.643620   \n",
       "4     12.010869      2.989712   6.40                  40.0    5.545420   \n",
       "\n",
       "  recommendation1 recommendation2 recommendation3 recommendation4  \\\n",
       "0             NaN             NaN             NaN             NaN   \n",
       "1       tt0082054             NaN             NaN             NaN   \n",
       "2       tt0366627             NaN             NaN             NaN   \n",
       "3       tt0100369       tt0115610             NaN             NaN   \n",
       "4       tt0415932             NaN             NaN             NaN   \n",
       "\n",
       "  recommendation5 recommendation6  group  \n",
       "0             NaN             NaN      1  \n",
       "1             NaN             NaN      1  \n",
       "2             NaN             NaN      1  \n",
       "3             NaN             NaN      1  \n",
       "4             NaN             NaN      1  "
      ]
     },
     "execution_count": 8,
     "metadata": {},
     "output_type": "execute_result"
    }
   ],
   "source": [
    "all_df.head()"
   ]
  },
  {
   "cell_type": "markdown",
   "metadata": {},
   "source": [
    "Sanity check! I just want to make sure that the sizes of before merging dataframe and after merging dataframes are same."
   ]
  },
  {
   "cell_type": "code",
   "execution_count": 9,
   "metadata": {},
   "outputs": [
    {
     "data": {
      "text/plain": [
       "True"
      ]
     },
     "execution_count": 9,
     "metadata": {},
     "output_type": "execute_result"
    }
   ],
   "source": [
    "sum = 0\n",
    "for i in range(len(df_list)):\n",
    "    length = len(df_list[i])\n",
    "    sum = sum + length\n",
    "    \n",
    "sum == all_df.shape[0]"
   ]
  },
  {
   "cell_type": "markdown",
   "metadata": {},
   "source": [
    "Yay! There was no error in the merging process. From now on, let's work on k-means clustering."
   ]
  },
  {
   "cell_type": "markdown",
   "metadata": {},
   "source": [
    "# Pre-processing dataframe"
   ]
  },
  {
   "cell_type": "markdown",
   "metadata": {},
   "source": [
    "When we do K-means clustering, we do not need 'recommendation1','recommendation2','recommendation3','recommendation4','recommendation5','recommendation6' columns. Let's remove these6 columns."
   ]
  },
  {
   "cell_type": "code",
   "execution_count": 10,
   "metadata": {},
   "outputs": [],
   "source": [
    "all_df = all_df.drop(['recommendation1','recommendation2','recommendation3','recommendation4','recommendation5','recommendation6'], axis = 1)"
   ]
  },
  {
   "cell_type": "markdown",
   "metadata": {},
   "source": [
    "In addition, K-means clustering cannot handle NA values. Let's see if there is any value in our dataframe."
   ]
  },
  {
   "cell_type": "code",
   "execution_count": 11,
   "metadata": {},
   "outputs": [
    {
     "data": {
      "text/plain": [
       "14"
      ]
     },
     "execution_count": 11,
     "metadata": {},
     "output_type": "execute_result"
    }
   ],
   "source": [
    "all_df_with_na = all_df[all_df.isna().any(axis=1)]\n",
    "all_df_with_na.shape[0]"
   ]
  },
  {
   "cell_type": "markdown",
   "metadata": {},
   "source": [
    "So there are 14 rows having no values. Let's see where they are missing values."
   ]
  },
  {
   "cell_type": "code",
   "execution_count": 12,
   "metadata": {},
   "outputs": [
    {
     "data": {
      "text/html": [
       "<div>\n",
       "<style scoped>\n",
       "    .dataframe tbody tr th:only-of-type {\n",
       "        vertical-align: middle;\n",
       "    }\n",
       "\n",
       "    .dataframe tbody tr th {\n",
       "        vertical-align: top;\n",
       "    }\n",
       "\n",
       "    .dataframe thead th {\n",
       "        text-align: right;\n",
       "    }\n",
       "</style>\n",
       "<table border=\"1\" class=\"dataframe\">\n",
       "  <thead>\n",
       "    <tr style=\"text-align: right;\">\n",
       "      <th></th>\n",
       "      <th>id</th>\n",
       "      <th>review_1st</th>\n",
       "      <th>review_2nd</th>\n",
       "      <th>description_1st</th>\n",
       "      <th>description_2nd</th>\n",
       "      <th>overview_1st</th>\n",
       "      <th>overview_2nd</th>\n",
       "      <th>votes</th>\n",
       "      <th>reviews_from_critics</th>\n",
       "      <th>popularity</th>\n",
       "      <th>group</th>\n",
       "    </tr>\n",
       "  </thead>\n",
       "  <tbody>\n",
       "    <tr>\n",
       "      <th>95</th>\n",
       "      <td>tt0246425</td>\n",
       "      <td>1.843423</td>\n",
       "      <td>12.641877</td>\n",
       "      <td>18.170963</td>\n",
       "      <td>-4.066043</td>\n",
       "      <td>11.747042</td>\n",
       "      <td>3.375291</td>\n",
       "      <td>6.20</td>\n",
       "      <td>NaN</td>\n",
       "      <td>0.162737</td>\n",
       "      <td>1</td>\n",
       "    </tr>\n",
       "    <tr>\n",
       "      <th>5</th>\n",
       "      <td>tt0442781</td>\n",
       "      <td>2.853652</td>\n",
       "      <td>12.622983</td>\n",
       "      <td>20.134197</td>\n",
       "      <td>-2.426526</td>\n",
       "      <td>12.102900</td>\n",
       "      <td>4.626698</td>\n",
       "      <td>6.60</td>\n",
       "      <td>NaN</td>\n",
       "      <td>0.482527</td>\n",
       "      <td>3</td>\n",
       "    </tr>\n",
       "    <tr>\n",
       "      <th>132</th>\n",
       "      <td>tt0043852</td>\n",
       "      <td>3.557673</td>\n",
       "      <td>9.072095</td>\n",
       "      <td>21.817322</td>\n",
       "      <td>-3.754801</td>\n",
       "      <td>12.169914</td>\n",
       "      <td>0.555560</td>\n",
       "      <td>5.90</td>\n",
       "      <td>NaN</td>\n",
       "      <td>0.402496</td>\n",
       "      <td>7</td>\n",
       "    </tr>\n",
       "    <tr>\n",
       "      <th>227</th>\n",
       "      <td>tt0906783</td>\n",
       "      <td>4.616404</td>\n",
       "      <td>11.496752</td>\n",
       "      <td>19.539680</td>\n",
       "      <td>-5.075519</td>\n",
       "      <td>10.741877</td>\n",
       "      <td>3.472194</td>\n",
       "      <td>7.30</td>\n",
       "      <td>NaN</td>\n",
       "      <td>0.040054</td>\n",
       "      <td>7</td>\n",
       "    </tr>\n",
       "    <tr>\n",
       "      <th>27</th>\n",
       "      <td>tt0103790</td>\n",
       "      <td>2.158221</td>\n",
       "      <td>13.711840</td>\n",
       "      <td>18.716960</td>\n",
       "      <td>-1.695146</td>\n",
       "      <td>10.125394</td>\n",
       "      <td>4.529176</td>\n",
       "      <td>7.30</td>\n",
       "      <td>NaN</td>\n",
       "      <td>0.395425</td>\n",
       "      <td>8</td>\n",
       "    </tr>\n",
       "    <tr>\n",
       "      <th>102</th>\n",
       "      <td>tt0370919</td>\n",
       "      <td>3.468309</td>\n",
       "      <td>13.875828</td>\n",
       "      <td>17.716330</td>\n",
       "      <td>-2.600512</td>\n",
       "      <td>10.364722</td>\n",
       "      <td>5.006271</td>\n",
       "      <td>5.60</td>\n",
       "      <td>NaN</td>\n",
       "      <td>0.353403</td>\n",
       "      <td>8</td>\n",
       "    </tr>\n",
       "    <tr>\n",
       "      <th>41</th>\n",
       "      <td>tt0238119</td>\n",
       "      <td>2.866115</td>\n",
       "      <td>12.060285</td>\n",
       "      <td>19.895515</td>\n",
       "      <td>-2.652584</td>\n",
       "      <td>10.396688</td>\n",
       "      <td>4.879060</td>\n",
       "      <td>7.55</td>\n",
       "      <td>NaN</td>\n",
       "      <td>1.016074</td>\n",
       "      <td>9</td>\n",
       "    </tr>\n",
       "    <tr>\n",
       "      <th>215</th>\n",
       "      <td>tt0033368</td>\n",
       "      <td>5.709056</td>\n",
       "      <td>12.823380</td>\n",
       "      <td>18.577253</td>\n",
       "      <td>-4.927560</td>\n",
       "      <td>12.052207</td>\n",
       "      <td>3.015317</td>\n",
       "      <td>2.95</td>\n",
       "      <td>NaN</td>\n",
       "      <td>0.136618</td>\n",
       "      <td>9</td>\n",
       "    </tr>\n",
       "    <tr>\n",
       "      <th>281</th>\n",
       "      <td>tt0100100</td>\n",
       "      <td>4.451709</td>\n",
       "      <td>11.838080</td>\n",
       "      <td>17.702955</td>\n",
       "      <td>-0.597473</td>\n",
       "      <td>8.045263</td>\n",
       "      <td>2.611479</td>\n",
       "      <td>3.45</td>\n",
       "      <td>NaN</td>\n",
       "      <td>0.040273</td>\n",
       "      <td>9</td>\n",
       "    </tr>\n",
       "    <tr>\n",
       "      <th>768</th>\n",
       "      <td>tt0253614</td>\n",
       "      <td>4.859054</td>\n",
       "      <td>12.361036</td>\n",
       "      <td>18.347586</td>\n",
       "      <td>-4.458643</td>\n",
       "      <td>-7.989658</td>\n",
       "      <td>2.430631</td>\n",
       "      <td>8.60</td>\n",
       "      <td>NaN</td>\n",
       "      <td>1.115787</td>\n",
       "      <td>9</td>\n",
       "    </tr>\n",
       "    <tr>\n",
       "      <th>830</th>\n",
       "      <td>tt0142634</td>\n",
       "      <td>3.219177</td>\n",
       "      <td>11.382564</td>\n",
       "      <td>17.963861</td>\n",
       "      <td>-3.718332</td>\n",
       "      <td>11.000909</td>\n",
       "      <td>4.642813</td>\n",
       "      <td>2.90</td>\n",
       "      <td>NaN</td>\n",
       "      <td>4.362874</td>\n",
       "      <td>9</td>\n",
       "    </tr>\n",
       "    <tr>\n",
       "      <th>5</th>\n",
       "      <td>tt0082892</td>\n",
       "      <td>5.102896</td>\n",
       "      <td>11.413971</td>\n",
       "      <td>18.305227</td>\n",
       "      <td>-4.371331</td>\n",
       "      <td>10.973390</td>\n",
       "      <td>3.225543</td>\n",
       "      <td>6.35</td>\n",
       "      <td>NaN</td>\n",
       "      <td>0.545722</td>\n",
       "      <td>11</td>\n",
       "    </tr>\n",
       "    <tr>\n",
       "      <th>21</th>\n",
       "      <td>tt0131636</td>\n",
       "      <td>2.207292</td>\n",
       "      <td>12.575976</td>\n",
       "      <td>19.827126</td>\n",
       "      <td>-1.364577</td>\n",
       "      <td>10.035987</td>\n",
       "      <td>4.924392</td>\n",
       "      <td>7.90</td>\n",
       "      <td>NaN</td>\n",
       "      <td>1.025539</td>\n",
       "      <td>11</td>\n",
       "    </tr>\n",
       "    <tr>\n",
       "      <th>122</th>\n",
       "      <td>tt0276868</td>\n",
       "      <td>2.475245</td>\n",
       "      <td>10.471747</td>\n",
       "      <td>22.175304</td>\n",
       "      <td>-3.592708</td>\n",
       "      <td>12.131840</td>\n",
       "      <td>3.375428</td>\n",
       "      <td>5.60</td>\n",
       "      <td>NaN</td>\n",
       "      <td>0.719804</td>\n",
       "      <td>13</td>\n",
       "    </tr>\n",
       "  </tbody>\n",
       "</table>\n",
       "</div>"
      ],
      "text/plain": [
       "            id  review_1st  review_2nd  description_1st  description_2nd  \\\n",
       "95   tt0246425    1.843423   12.641877        18.170963        -4.066043   \n",
       "5    tt0442781    2.853652   12.622983        20.134197        -2.426526   \n",
       "132  tt0043852    3.557673    9.072095        21.817322        -3.754801   \n",
       "227  tt0906783    4.616404   11.496752        19.539680        -5.075519   \n",
       "27   tt0103790    2.158221   13.711840        18.716960        -1.695146   \n",
       "102  tt0370919    3.468309   13.875828        17.716330        -2.600512   \n",
       "41   tt0238119    2.866115   12.060285        19.895515        -2.652584   \n",
       "215  tt0033368    5.709056   12.823380        18.577253        -4.927560   \n",
       "281  tt0100100    4.451709   11.838080        17.702955        -0.597473   \n",
       "768  tt0253614    4.859054   12.361036        18.347586        -4.458643   \n",
       "830  tt0142634    3.219177   11.382564        17.963861        -3.718332   \n",
       "5    tt0082892    5.102896   11.413971        18.305227        -4.371331   \n",
       "21   tt0131636    2.207292   12.575976        19.827126        -1.364577   \n",
       "122  tt0276868    2.475245   10.471747        22.175304        -3.592708   \n",
       "\n",
       "     overview_1st  overview_2nd  votes  reviews_from_critics  popularity  \\\n",
       "95      11.747042      3.375291   6.20                   NaN    0.162737   \n",
       "5       12.102900      4.626698   6.60                   NaN    0.482527   \n",
       "132     12.169914      0.555560   5.90                   NaN    0.402496   \n",
       "227     10.741877      3.472194   7.30                   NaN    0.040054   \n",
       "27      10.125394      4.529176   7.30                   NaN    0.395425   \n",
       "102     10.364722      5.006271   5.60                   NaN    0.353403   \n",
       "41      10.396688      4.879060   7.55                   NaN    1.016074   \n",
       "215     12.052207      3.015317   2.95                   NaN    0.136618   \n",
       "281      8.045263      2.611479   3.45                   NaN    0.040273   \n",
       "768     -7.989658      2.430631   8.60                   NaN    1.115787   \n",
       "830     11.000909      4.642813   2.90                   NaN    4.362874   \n",
       "5       10.973390      3.225543   6.35                   NaN    0.545722   \n",
       "21      10.035987      4.924392   7.90                   NaN    1.025539   \n",
       "122     12.131840      3.375428   5.60                   NaN    0.719804   \n",
       "\n",
       "     group  \n",
       "95       1  \n",
       "5        3  \n",
       "132      7  \n",
       "227      7  \n",
       "27       8  \n",
       "102      8  \n",
       "41       9  \n",
       "215      9  \n",
       "281      9  \n",
       "768      9  \n",
       "830      9  \n",
       "5       11  \n",
       "21      11  \n",
       "122     13  "
      ]
     },
     "execution_count": 12,
     "metadata": {},
     "output_type": "execute_result"
    }
   ],
   "source": [
    "all_df_with_na"
   ]
  },
  {
   "cell_type": "markdown",
   "metadata": {},
   "source": [
    "There are 14 rows not having the value in 'eviews_from_critics' column. Since our recommendation system is based on content, every data has to be a \"fact\". For this reason, I am going to remove these 14 rows."
   ]
  },
  {
   "cell_type": "code",
   "execution_count": 13,
   "metadata": {},
   "outputs": [],
   "source": [
    "# Remove all rows having NA values.\n",
    "all_df = all_df.dropna()"
   ]
  },
  {
   "cell_type": "code",
   "execution_count": 14,
   "metadata": {},
   "outputs": [
    {
     "data": {
      "text/html": [
       "<div>\n",
       "<style scoped>\n",
       "    .dataframe tbody tr th:only-of-type {\n",
       "        vertical-align: middle;\n",
       "    }\n",
       "\n",
       "    .dataframe tbody tr th {\n",
       "        vertical-align: top;\n",
       "    }\n",
       "\n",
       "    .dataframe thead th {\n",
       "        text-align: right;\n",
       "    }\n",
       "</style>\n",
       "<table border=\"1\" class=\"dataframe\">\n",
       "  <thead>\n",
       "    <tr style=\"text-align: right;\">\n",
       "      <th></th>\n",
       "      <th>id</th>\n",
       "      <th>review_1st</th>\n",
       "      <th>review_2nd</th>\n",
       "      <th>description_1st</th>\n",
       "      <th>description_2nd</th>\n",
       "      <th>overview_1st</th>\n",
       "      <th>overview_2nd</th>\n",
       "      <th>votes</th>\n",
       "      <th>reviews_from_critics</th>\n",
       "      <th>popularity</th>\n",
       "      <th>group</th>\n",
       "    </tr>\n",
       "  </thead>\n",
       "  <tbody>\n",
       "    <tr>\n",
       "      <th>0</th>\n",
       "      <td>tt0248123</td>\n",
       "      <td>5.052363</td>\n",
       "      <td>14.008677</td>\n",
       "      <td>19.101181</td>\n",
       "      <td>-5.684755</td>\n",
       "      <td>10.454543</td>\n",
       "      <td>5.274888</td>\n",
       "      <td>6.60</td>\n",
       "      <td>7.0</td>\n",
       "      <td>0.041677</td>\n",
       "      <td>1</td>\n",
       "    </tr>\n",
       "    <tr>\n",
       "      <th>1</th>\n",
       "      <td>tt0443584</td>\n",
       "      <td>0.486805</td>\n",
       "      <td>11.690599</td>\n",
       "      <td>20.577621</td>\n",
       "      <td>-4.113286</td>\n",
       "      <td>13.450911</td>\n",
       "      <td>1.172032</td>\n",
       "      <td>4.45</td>\n",
       "      <td>10.0</td>\n",
       "      <td>5.257142</td>\n",
       "      <td>1</td>\n",
       "    </tr>\n",
       "    <tr>\n",
       "      <th>2</th>\n",
       "      <td>tt0242527</td>\n",
       "      <td>2.242022</td>\n",
       "      <td>11.166927</td>\n",
       "      <td>21.120935</td>\n",
       "      <td>-2.160072</td>\n",
       "      <td>9.920180</td>\n",
       "      <td>0.142537</td>\n",
       "      <td>6.30</td>\n",
       "      <td>47.0</td>\n",
       "      <td>4.406514</td>\n",
       "      <td>1</td>\n",
       "    </tr>\n",
       "    <tr>\n",
       "      <th>3</th>\n",
       "      <td>tt0374180</td>\n",
       "      <td>5.129464</td>\n",
       "      <td>9.997657</td>\n",
       "      <td>18.254795</td>\n",
       "      <td>-2.657217</td>\n",
       "      <td>10.732504</td>\n",
       "      <td>1.921588</td>\n",
       "      <td>5.35</td>\n",
       "      <td>33.0</td>\n",
       "      <td>8.643620</td>\n",
       "      <td>1</td>\n",
       "    </tr>\n",
       "    <tr>\n",
       "      <th>4</th>\n",
       "      <td>tt0428856</td>\n",
       "      <td>4.142411</td>\n",
       "      <td>12.404982</td>\n",
       "      <td>19.261920</td>\n",
       "      <td>-5.632376</td>\n",
       "      <td>12.010869</td>\n",
       "      <td>2.989712</td>\n",
       "      <td>6.40</td>\n",
       "      <td>40.0</td>\n",
       "      <td>5.545420</td>\n",
       "      <td>1</td>\n",
       "    </tr>\n",
       "  </tbody>\n",
       "</table>\n",
       "</div>"
      ],
      "text/plain": [
       "          id  review_1st  review_2nd  description_1st  description_2nd  \\\n",
       "0  tt0248123    5.052363   14.008677        19.101181        -5.684755   \n",
       "1  tt0443584    0.486805   11.690599        20.577621        -4.113286   \n",
       "2  tt0242527    2.242022   11.166927        21.120935        -2.160072   \n",
       "3  tt0374180    5.129464    9.997657        18.254795        -2.657217   \n",
       "4  tt0428856    4.142411   12.404982        19.261920        -5.632376   \n",
       "\n",
       "   overview_1st  overview_2nd  votes  reviews_from_critics  popularity  group  \n",
       "0     10.454543      5.274888   6.60                   7.0    0.041677      1  \n",
       "1     13.450911      1.172032   4.45                  10.0    5.257142      1  \n",
       "2      9.920180      0.142537   6.30                  47.0    4.406514      1  \n",
       "3     10.732504      1.921588   5.35                  33.0    8.643620      1  \n",
       "4     12.010869      2.989712   6.40                  40.0    5.545420      1  "
      ]
     },
     "execution_count": 14,
     "metadata": {},
     "output_type": "execute_result"
    }
   ],
   "source": [
    "all_df.head()"
   ]
  },
  {
   "cell_type": "code",
   "execution_count": 15,
   "metadata": {},
   "outputs": [
    {
     "data": {
      "text/plain": [
       "(3023, 11)"
      ]
     },
     "execution_count": 15,
     "metadata": {},
     "output_type": "execute_result"
    }
   ],
   "source": [
    "all_df.shape"
   ]
  },
  {
   "cell_type": "markdown",
   "metadata": {},
   "source": [
    "After removing 14 movies, 3023 movies left."
   ]
  },
  {
   "cell_type": "markdown",
   "metadata": {},
   "source": [
    "# Normalization\n",
    "\n",
    "K-means clustering is based on the distance between data point's features. For this reason, normalization is very important for K-means clustering. I am going to use min-max normalization to each column. After this process, values will be between 0 to 1."
   ]
  },
  {
   "cell_type": "code",
   "execution_count": 16,
   "metadata": {},
   "outputs": [],
   "source": [
    "def normalize(df):\n",
    "    \"\"\"\n",
    "    Normalize all values in dataframe\n",
    "    \n",
    "    Parameters\n",
    "    ----------\n",
    "    df : dataframe\n",
    "        a dataframe we want to normalize\n",
    "        \n",
    "    Returns\n",
    "    -------\n",
    "    df \n",
    "        a normalized dataframe\n",
    "    \"\"\"\n",
    "    result = df.copy()\n",
    "    for feature_name in df.columns:\n",
    "        max_value = df[feature_name].max()\n",
    "        min_value = df[feature_name].min()\n",
    "        result[feature_name] = (df[feature_name] - min_value) / (max_value - min_value)\n",
    "    return result"
   ]
  },
  {
   "cell_type": "markdown",
   "metadata": {},
   "source": [
    "When we do noramlization, we want to normalize only features. So let's remove 'id' and 'group' temporariliy."
   ]
  },
  {
   "cell_type": "code",
   "execution_count": 17,
   "metadata": {},
   "outputs": [],
   "source": [
    "all_df_id = all_df[['id', 'group']]\n",
    "left_over = all_df.drop(['id', 'group'], axis = 1)"
   ]
  },
  {
   "cell_type": "code",
   "execution_count": 18,
   "metadata": {},
   "outputs": [],
   "source": [
    "# Perform normalization\n",
    "df_norm = normalize(left_over)"
   ]
  },
  {
   "cell_type": "code",
   "execution_count": 19,
   "metadata": {},
   "outputs": [
    {
     "data": {
      "text/html": [
       "<div>\n",
       "<style scoped>\n",
       "    .dataframe tbody tr th:only-of-type {\n",
       "        vertical-align: middle;\n",
       "    }\n",
       "\n",
       "    .dataframe tbody tr th {\n",
       "        vertical-align: top;\n",
       "    }\n",
       "\n",
       "    .dataframe thead th {\n",
       "        text-align: right;\n",
       "    }\n",
       "</style>\n",
       "<table border=\"1\" class=\"dataframe\">\n",
       "  <thead>\n",
       "    <tr style=\"text-align: right;\">\n",
       "      <th></th>\n",
       "      <th>review_1st</th>\n",
       "      <th>review_2nd</th>\n",
       "      <th>description_1st</th>\n",
       "      <th>description_2nd</th>\n",
       "      <th>overview_1st</th>\n",
       "      <th>overview_2nd</th>\n",
       "      <th>votes</th>\n",
       "      <th>reviews_from_critics</th>\n",
       "      <th>popularity</th>\n",
       "    </tr>\n",
       "  </thead>\n",
       "  <tbody>\n",
       "    <tr>\n",
       "      <th>0</th>\n",
       "      <td>0.809561</td>\n",
       "      <td>0.784496</td>\n",
       "      <td>0.450726</td>\n",
       "      <td>0.026841</td>\n",
       "      <td>0.841725</td>\n",
       "      <td>0.437456</td>\n",
       "      <td>0.738854</td>\n",
       "      <td>0.008197</td>\n",
       "      <td>0.000225</td>\n",
       "    </tr>\n",
       "    <tr>\n",
       "      <th>1</th>\n",
       "      <td>0.119524</td>\n",
       "      <td>0.424670</td>\n",
       "      <td>0.662225</td>\n",
       "      <td>0.261958</td>\n",
       "      <td>0.978468</td>\n",
       "      <td>0.143147</td>\n",
       "      <td>0.464968</td>\n",
       "      <td>0.012295</td>\n",
       "      <td>0.028406</td>\n",
       "    </tr>\n",
       "    <tr>\n",
       "      <th>2</th>\n",
       "      <td>0.384807</td>\n",
       "      <td>0.343383</td>\n",
       "      <td>0.740054</td>\n",
       "      <td>0.554190</td>\n",
       "      <td>0.817338</td>\n",
       "      <td>0.069299</td>\n",
       "      <td>0.700637</td>\n",
       "      <td>0.062842</td>\n",
       "      <td>0.023810</td>\n",
       "    </tr>\n",
       "    <tr>\n",
       "      <th>3</th>\n",
       "      <td>0.821214</td>\n",
       "      <td>0.161882</td>\n",
       "      <td>0.329482</td>\n",
       "      <td>0.479809</td>\n",
       "      <td>0.854410</td>\n",
       "      <td>0.196915</td>\n",
       "      <td>0.579618</td>\n",
       "      <td>0.043716</td>\n",
       "      <td>0.046704</td>\n",
       "    </tr>\n",
       "    <tr>\n",
       "      <th>4</th>\n",
       "      <td>0.672031</td>\n",
       "      <td>0.535561</td>\n",
       "      <td>0.473752</td>\n",
       "      <td>0.034677</td>\n",
       "      <td>0.912749</td>\n",
       "      <td>0.273534</td>\n",
       "      <td>0.713376</td>\n",
       "      <td>0.053279</td>\n",
       "      <td>0.029964</td>\n",
       "    </tr>\n",
       "  </tbody>\n",
       "</table>\n",
       "</div>"
      ],
      "text/plain": [
       "   review_1st  review_2nd  description_1st  description_2nd  overview_1st  \\\n",
       "0    0.809561    0.784496         0.450726         0.026841      0.841725   \n",
       "1    0.119524    0.424670         0.662225         0.261958      0.978468   \n",
       "2    0.384807    0.343383         0.740054         0.554190      0.817338   \n",
       "3    0.821214    0.161882         0.329482         0.479809      0.854410   \n",
       "4    0.672031    0.535561         0.473752         0.034677      0.912749   \n",
       "\n",
       "   overview_2nd     votes  reviews_from_critics  popularity  \n",
       "0      0.437456  0.738854              0.008197    0.000225  \n",
       "1      0.143147  0.464968              0.012295    0.028406  \n",
       "2      0.069299  0.700637              0.062842    0.023810  \n",
       "3      0.196915  0.579618              0.043716    0.046704  \n",
       "4      0.273534  0.713376              0.053279    0.029964  "
      ]
     },
     "execution_count": 19,
     "metadata": {},
     "output_type": "execute_result"
    }
   ],
   "source": [
    "df_norm.head()"
   ]
  },
  {
   "cell_type": "markdown",
   "metadata": {},
   "source": [
    "We've done normalization! Let's put 'id' and 'group' back to the dataframe."
   ]
  },
  {
   "cell_type": "code",
   "execution_count": 20,
   "metadata": {},
   "outputs": [],
   "source": [
    "df_temp = pd.concat([all_df_id, df_norm], axis = 1)"
   ]
  },
  {
   "cell_type": "code",
   "execution_count": 21,
   "metadata": {},
   "outputs": [
    {
     "data": {
      "text/html": [
       "<div>\n",
       "<style scoped>\n",
       "    .dataframe tbody tr th:only-of-type {\n",
       "        vertical-align: middle;\n",
       "    }\n",
       "\n",
       "    .dataframe tbody tr th {\n",
       "        vertical-align: top;\n",
       "    }\n",
       "\n",
       "    .dataframe thead th {\n",
       "        text-align: right;\n",
       "    }\n",
       "</style>\n",
       "<table border=\"1\" class=\"dataframe\">\n",
       "  <thead>\n",
       "    <tr style=\"text-align: right;\">\n",
       "      <th></th>\n",
       "      <th>id</th>\n",
       "      <th>group</th>\n",
       "      <th>review_1st</th>\n",
       "      <th>review_2nd</th>\n",
       "      <th>description_1st</th>\n",
       "      <th>description_2nd</th>\n",
       "      <th>overview_1st</th>\n",
       "      <th>overview_2nd</th>\n",
       "      <th>votes</th>\n",
       "      <th>reviews_from_critics</th>\n",
       "      <th>popularity</th>\n",
       "    </tr>\n",
       "  </thead>\n",
       "  <tbody>\n",
       "    <tr>\n",
       "      <th>0</th>\n",
       "      <td>tt0248123</td>\n",
       "      <td>1</td>\n",
       "      <td>0.809561</td>\n",
       "      <td>0.784496</td>\n",
       "      <td>0.450726</td>\n",
       "      <td>0.026841</td>\n",
       "      <td>0.841725</td>\n",
       "      <td>0.437456</td>\n",
       "      <td>0.738854</td>\n",
       "      <td>0.008197</td>\n",
       "      <td>0.000225</td>\n",
       "    </tr>\n",
       "    <tr>\n",
       "      <th>1</th>\n",
       "      <td>tt0443584</td>\n",
       "      <td>1</td>\n",
       "      <td>0.119524</td>\n",
       "      <td>0.424670</td>\n",
       "      <td>0.662225</td>\n",
       "      <td>0.261958</td>\n",
       "      <td>0.978468</td>\n",
       "      <td>0.143147</td>\n",
       "      <td>0.464968</td>\n",
       "      <td>0.012295</td>\n",
       "      <td>0.028406</td>\n",
       "    </tr>\n",
       "    <tr>\n",
       "      <th>2</th>\n",
       "      <td>tt0242527</td>\n",
       "      <td>1</td>\n",
       "      <td>0.384807</td>\n",
       "      <td>0.343383</td>\n",
       "      <td>0.740054</td>\n",
       "      <td>0.554190</td>\n",
       "      <td>0.817338</td>\n",
       "      <td>0.069299</td>\n",
       "      <td>0.700637</td>\n",
       "      <td>0.062842</td>\n",
       "      <td>0.023810</td>\n",
       "    </tr>\n",
       "    <tr>\n",
       "      <th>3</th>\n",
       "      <td>tt0374180</td>\n",
       "      <td>1</td>\n",
       "      <td>0.821214</td>\n",
       "      <td>0.161882</td>\n",
       "      <td>0.329482</td>\n",
       "      <td>0.479809</td>\n",
       "      <td>0.854410</td>\n",
       "      <td>0.196915</td>\n",
       "      <td>0.579618</td>\n",
       "      <td>0.043716</td>\n",
       "      <td>0.046704</td>\n",
       "    </tr>\n",
       "    <tr>\n",
       "      <th>4</th>\n",
       "      <td>tt0428856</td>\n",
       "      <td>1</td>\n",
       "      <td>0.672031</td>\n",
       "      <td>0.535561</td>\n",
       "      <td>0.473752</td>\n",
       "      <td>0.034677</td>\n",
       "      <td>0.912749</td>\n",
       "      <td>0.273534</td>\n",
       "      <td>0.713376</td>\n",
       "      <td>0.053279</td>\n",
       "      <td>0.029964</td>\n",
       "    </tr>\n",
       "    <tr>\n",
       "      <th>5</th>\n",
       "      <td>tt0073233</td>\n",
       "      <td>1</td>\n",
       "      <td>0.142720</td>\n",
       "      <td>0.395430</td>\n",
       "      <td>0.648675</td>\n",
       "      <td>0.274619</td>\n",
       "      <td>0.973781</td>\n",
       "      <td>0.195054</td>\n",
       "      <td>0.745223</td>\n",
       "      <td>0.023224</td>\n",
       "      <td>0.001876</td>\n",
       "    </tr>\n",
       "    <tr>\n",
       "      <th>6</th>\n",
       "      <td>tt0384177</td>\n",
       "      <td>1</td>\n",
       "      <td>0.312575</td>\n",
       "      <td>0.496122</td>\n",
       "      <td>0.320774</td>\n",
       "      <td>0.701450</td>\n",
       "      <td>0.870247</td>\n",
       "      <td>0.338801</td>\n",
       "      <td>0.636943</td>\n",
       "      <td>0.030055</td>\n",
       "      <td>0.003271</td>\n",
       "    </tr>\n",
       "    <tr>\n",
       "      <th>7</th>\n",
       "      <td>tt0072933</td>\n",
       "      <td>1</td>\n",
       "      <td>0.135215</td>\n",
       "      <td>0.422772</td>\n",
       "      <td>0.441108</td>\n",
       "      <td>0.067454</td>\n",
       "      <td>0.971635</td>\n",
       "      <td>0.283054</td>\n",
       "      <td>0.515924</td>\n",
       "      <td>0.031421</td>\n",
       "      <td>0.018785</td>\n",
       "    </tr>\n",
       "    <tr>\n",
       "      <th>8</th>\n",
       "      <td>tt0002461</td>\n",
       "      <td>1</td>\n",
       "      <td>0.484374</td>\n",
       "      <td>0.370555</td>\n",
       "      <td>0.313490</td>\n",
       "      <td>0.598441</td>\n",
       "      <td>0.807931</td>\n",
       "      <td>0.288894</td>\n",
       "      <td>0.248408</td>\n",
       "      <td>0.000000</td>\n",
       "      <td>0.000277</td>\n",
       "    </tr>\n",
       "    <tr>\n",
       "      <th>9</th>\n",
       "      <td>tt0337876</td>\n",
       "      <td>1</td>\n",
       "      <td>0.407907</td>\n",
       "      <td>0.237194</td>\n",
       "      <td>0.775982</td>\n",
       "      <td>0.300408</td>\n",
       "      <td>0.936475</td>\n",
       "      <td>0.252804</td>\n",
       "      <td>0.662420</td>\n",
       "      <td>0.236339</td>\n",
       "      <td>0.036588</td>\n",
       "    </tr>\n",
       "  </tbody>\n",
       "</table>\n",
       "</div>"
      ],
      "text/plain": [
       "          id  group  review_1st  review_2nd  description_1st  description_2nd  \\\n",
       "0  tt0248123      1    0.809561    0.784496         0.450726         0.026841   \n",
       "1  tt0443584      1    0.119524    0.424670         0.662225         0.261958   \n",
       "2  tt0242527      1    0.384807    0.343383         0.740054         0.554190   \n",
       "3  tt0374180      1    0.821214    0.161882         0.329482         0.479809   \n",
       "4  tt0428856      1    0.672031    0.535561         0.473752         0.034677   \n",
       "5  tt0073233      1    0.142720    0.395430         0.648675         0.274619   \n",
       "6  tt0384177      1    0.312575    0.496122         0.320774         0.701450   \n",
       "7  tt0072933      1    0.135215    0.422772         0.441108         0.067454   \n",
       "8  tt0002461      1    0.484374    0.370555         0.313490         0.598441   \n",
       "9  tt0337876      1    0.407907    0.237194         0.775982         0.300408   \n",
       "\n",
       "   overview_1st  overview_2nd     votes  reviews_from_critics  popularity  \n",
       "0      0.841725      0.437456  0.738854              0.008197    0.000225  \n",
       "1      0.978468      0.143147  0.464968              0.012295    0.028406  \n",
       "2      0.817338      0.069299  0.700637              0.062842    0.023810  \n",
       "3      0.854410      0.196915  0.579618              0.043716    0.046704  \n",
       "4      0.912749      0.273534  0.713376              0.053279    0.029964  \n",
       "5      0.973781      0.195054  0.745223              0.023224    0.001876  \n",
       "6      0.870247      0.338801  0.636943              0.030055    0.003271  \n",
       "7      0.971635      0.283054  0.515924              0.031421    0.018785  \n",
       "8      0.807931      0.288894  0.248408              0.000000    0.000277  \n",
       "9      0.936475      0.252804  0.662420              0.236339    0.036588  "
      ]
     },
     "execution_count": 21,
     "metadata": {},
     "output_type": "execute_result"
    }
   ],
   "source": [
    "df_temp.head(10)"
   ]
  },
  {
   "cell_type": "code",
   "execution_count": 22,
   "metadata": {},
   "outputs": [],
   "source": [
    "df_temp = df_temp.drop(['votes'], axis=1)"
   ]
  },
  {
   "cell_type": "markdown",
   "metadata": {},
   "source": [
    "# Seperate dataframe by group # from K-modes.\n",
    "We want to perform K-means clustering within K-modes groups. Therefore, let's seperate the dataframe by group # from K-modes. Since we have 16 groups after K-modes, I am expecting the result will be 16 dataframes."
   ]
  },
  {
   "cell_type": "code",
   "execution_count": 23,
   "metadata": {},
   "outputs": [],
   "source": [
    "final_df_list = []\n",
    "\n",
    "group_list = df_temp[\"group\"].unique()\n",
    "megadata_groupby_id =df_temp.groupby('group')\n",
    "for i in range(len(df_list)):\n",
    "    final_df_list.append(megadata_groupby_id.get_group(i+1))"
   ]
  },
  {
   "cell_type": "code",
   "execution_count": 24,
   "metadata": {},
   "outputs": [],
   "source": [
    "for i in range(len(final_df_list)): \n",
    "    final_df_list[i].reset_index(drop=True, inplace=True)"
   ]
  },
  {
   "cell_type": "code",
   "execution_count": 25,
   "metadata": {},
   "outputs": [
    {
     "data": {
      "text/plain": [
       "16"
      ]
     },
     "execution_count": 25,
     "metadata": {},
     "output_type": "execute_result"
    }
   ],
   "source": [
    "len(final_df_list)"
   ]
  },
  {
   "cell_type": "markdown",
   "metadata": {},
   "source": [
    "# Clustering"
   ]
  },
  {
   "cell_type": "code",
   "execution_count": 26,
   "metadata": {},
   "outputs": [],
   "source": [
    "def kmeans_elbow_plot(i):\n",
    "    \"\"\"\n",
    "    Show an elbow plot for K-means clustering.\n",
    "    \n",
    "    Parameters\n",
    "    ----------\n",
    "    i : int\n",
    "        index in the \"final_df_list'\n",
    "        final_df_list[i] refers to ith dataframe in \"final_df_list\"\n",
    "        \n",
    "    Returns\n",
    "    -------\n",
    "    plot\n",
    "        an elbow plot\n",
    "        by looking at this plot, we can choose the value of k\n",
    "    \"\"\"\n",
    "    cluster = final_df_list[i]\n",
    "    X = cluster.iloc[: , 2:10]\n",
    "    wcss = [] \n",
    "    for i in range(1, 9): \n",
    "        kmeans = KMeans(n_clusters = i, init = 'k-means++', random_state = 42)\n",
    "        kmeans.fit(X) \n",
    "        wcss.append(kmeans.inertia_)\n",
    "\n",
    "    plt.plot(range(1, 9), wcss)\n",
    "    plt.xlabel('Number of clusters')\n",
    "    plt.ylabel('WCSS') \n",
    "    plt.show()"
   ]
  },
  {
   "cell_type": "code",
   "execution_count": 27,
   "metadata": {},
   "outputs": [],
   "source": [
    "def kmeans_create_subgroup(i, k):\n",
    "    \"\"\"\n",
    "    Perform K-means clustering\n",
    "    \n",
    "    Parameters\n",
    "    ----------\n",
    "    i : int\n",
    "        index in the \"final_df_list'\n",
    "        final_df_list[i] refers to ith dataframe in \"final_df_list\"\n",
    "    k : the value of k\n",
    "        By looking at an elbow plot, we can choose k value.\n",
    "        \n",
    "    Return\n",
    "    ------\n",
    "    dataframe\n",
    "        There will be a new column called 'subgroup'\n",
    "        This is result of K-means clustering.\n",
    "    \"\"\"\n",
    "    cluster = final_df_list[i]\n",
    "    X = cluster.iloc[: , 2:10]\n",
    "\n",
    "    kmeans = KMeans(n_clusters = k, init = \"k-means++\", random_state = 42)\n",
    "    one_kmeans = kmeans.fit_predict(X)\n",
    "    \n",
    "    final_df_list[i]['subgroup'] = [x+1 for x in one_kmeans.tolist()]\n",
    "    return final_df_list[i]"
   ]
  },
  {
   "cell_type": "markdown",
   "metadata": {},
   "source": [
    "# Group 1(UK, USA_English_James Ivory_Drama) Clustering"
   ]
  },
  {
   "cell_type": "code",
   "execution_count": 28,
   "metadata": {},
   "outputs": [
    {
     "data": {
      "image/png": "[encoded data removed]",
      "text/plain": [
       "<Figure size 432x288 with 1 Axes>"
      ]
     },
     "metadata": {
      "needs_background": "light"
     },
     "output_type": "display_data"
    }
   ],
   "source": [
    "kmeans_elbow_plot(0)"
   ]
  },
  {
   "cell_type": "markdown",
   "metadata": {},
   "source": [
    "Following the elbow plot above, I am going to choose 3 as the value of K."
   ]
  },
  {
   "cell_type": "code",
   "execution_count": 29,
   "metadata": {},
   "outputs": [],
   "source": [
    "group1 = kmeans_create_subgroup(0, k=2)"
   ]
  },
  {
   "cell_type": "code",
   "execution_count": 30,
   "metadata": {},
   "outputs": [
    {
     "data": {
      "text/html": [
       "<div>\n",
       "<style scoped>\n",
       "    .dataframe tbody tr th:only-of-type {\n",
       "        vertical-align: middle;\n",
       "    }\n",
       "\n",
       "    .dataframe tbody tr th {\n",
       "        vertical-align: top;\n",
       "    }\n",
       "\n",
       "    .dataframe thead th {\n",
       "        text-align: right;\n",
       "    }\n",
       "</style>\n",
       "<table border=\"1\" class=\"dataframe\">\n",
       "  <thead>\n",
       "    <tr style=\"text-align: right;\">\n",
       "      <th></th>\n",
       "      <th>id</th>\n",
       "      <th>group</th>\n",
       "      <th>review_1st</th>\n",
       "      <th>review_2nd</th>\n",
       "      <th>description_1st</th>\n",
       "      <th>description_2nd</th>\n",
       "      <th>overview_1st</th>\n",
       "      <th>overview_2nd</th>\n",
       "      <th>reviews_from_critics</th>\n",
       "      <th>popularity</th>\n",
       "      <th>subgroup</th>\n",
       "    </tr>\n",
       "  </thead>\n",
       "  <tbody>\n",
       "    <tr>\n",
       "      <th>0</th>\n",
       "      <td>tt0248123</td>\n",
       "      <td>1</td>\n",
       "      <td>0.809561</td>\n",
       "      <td>0.784496</td>\n",
       "      <td>0.450726</td>\n",
       "      <td>0.026841</td>\n",
       "      <td>0.841725</td>\n",
       "      <td>0.437456</td>\n",
       "      <td>0.008197</td>\n",
       "      <td>0.000225</td>\n",
       "      <td>1</td>\n",
       "    </tr>\n",
       "    <tr>\n",
       "      <th>1</th>\n",
       "      <td>tt0443584</td>\n",
       "      <td>1</td>\n",
       "      <td>0.119524</td>\n",
       "      <td>0.424670</td>\n",
       "      <td>0.662225</td>\n",
       "      <td>0.261958</td>\n",
       "      <td>0.978468</td>\n",
       "      <td>0.143147</td>\n",
       "      <td>0.012295</td>\n",
       "      <td>0.028406</td>\n",
       "      <td>1</td>\n",
       "    </tr>\n",
       "    <tr>\n",
       "      <th>2</th>\n",
       "      <td>tt0242527</td>\n",
       "      <td>1</td>\n",
       "      <td>0.384807</td>\n",
       "      <td>0.343383</td>\n",
       "      <td>0.740054</td>\n",
       "      <td>0.554190</td>\n",
       "      <td>0.817338</td>\n",
       "      <td>0.069299</td>\n",
       "      <td>0.062842</td>\n",
       "      <td>0.023810</td>\n",
       "      <td>1</td>\n",
       "    </tr>\n",
       "    <tr>\n",
       "      <th>3</th>\n",
       "      <td>tt0374180</td>\n",
       "      <td>1</td>\n",
       "      <td>0.821214</td>\n",
       "      <td>0.161882</td>\n",
       "      <td>0.329482</td>\n",
       "      <td>0.479809</td>\n",
       "      <td>0.854410</td>\n",
       "      <td>0.196915</td>\n",
       "      <td>0.043716</td>\n",
       "      <td>0.046704</td>\n",
       "      <td>2</td>\n",
       "    </tr>\n",
       "    <tr>\n",
       "      <th>4</th>\n",
       "      <td>tt0428856</td>\n",
       "      <td>1</td>\n",
       "      <td>0.672031</td>\n",
       "      <td>0.535561</td>\n",
       "      <td>0.473752</td>\n",
       "      <td>0.034677</td>\n",
       "      <td>0.912749</td>\n",
       "      <td>0.273534</td>\n",
       "      <td>0.053279</td>\n",
       "      <td>0.029964</td>\n",
       "      <td>1</td>\n",
       "    </tr>\n",
       "  </tbody>\n",
       "</table>\n",
       "</div>"
      ],
      "text/plain": [
       "          id  group  review_1st  review_2nd  description_1st  description_2nd  \\\n",
       "0  tt0248123      1    0.809561    0.784496         0.450726         0.026841   \n",
       "1  tt0443584      1    0.119524    0.424670         0.662225         0.261958   \n",
       "2  tt0242527      1    0.384807    0.343383         0.740054         0.554190   \n",
       "3  tt0374180      1    0.821214    0.161882         0.329482         0.479809   \n",
       "4  tt0428856      1    0.672031    0.535561         0.473752         0.034677   \n",
       "\n",
       "   overview_1st  overview_2nd  reviews_from_critics  popularity  subgroup  \n",
       "0      0.841725      0.437456              0.008197    0.000225         1  \n",
       "1      0.978468      0.143147              0.012295    0.028406         1  \n",
       "2      0.817338      0.069299              0.062842    0.023810         1  \n",
       "3      0.854410      0.196915              0.043716    0.046704         2  \n",
       "4      0.912749      0.273534              0.053279    0.029964         1  "
      ]
     },
     "execution_count": 30,
     "metadata": {},
     "output_type": "execute_result"
    }
   ],
   "source": [
    "group1.head()"
   ]
  },
  {
   "cell_type": "markdown",
   "metadata": {},
   "source": [
    "Later, to summurize our result, I am going to calculate the number of elements in each final group."
   ]
  },
  {
   "cell_type": "code",
   "execution_count": 31,
   "metadata": {},
   "outputs": [],
   "source": [
    "group_1_1 = group1[group1['subgroup'] == 1].shape[0]\n",
    "group_1_2 = group1[group1['subgroup'] == 2].shape[0]"
   ]
  },
  {
   "cell_type": "markdown",
   "metadata": {},
   "source": [
    "# Group 2(USA_English_Tobe Hooper_Horror) Clustering"
   ]
  },
  {
   "cell_type": "code",
   "execution_count": 32,
   "metadata": {},
   "outputs": [
    {
     "data": {
      "text/plain": [
       "'/Users/jaykim/Documents/Yeartwo/Case_studies/case2/Data/cluster16_kmode/USA_English_Tobe Hooper_Horror.csv'"
      ]
     },
     "execution_count": 32,
     "metadata": {},
     "output_type": "execute_result"
    }
   ],
   "source": [
    "csv_files[1]"
   ]
  },
  {
   "cell_type": "code",
   "execution_count": 33,
   "metadata": {},
   "outputs": [
    {
     "data": {
      "image/png": "[encoded data removed]",
      "text/plain": [
       "<Figure size 432x288 with 1 Axes>"
      ]
     },
     "metadata": {
      "needs_background": "light"
     },
     "output_type": "display_data"
    }
   ],
   "source": [
    "kmeans_elbow_plot(1)"
   ]
  },
  {
   "cell_type": "code",
   "execution_count": 34,
   "metadata": {},
   "outputs": [],
   "source": [
    "group2 = kmeans_create_subgroup(1, k = 3)"
   ]
  },
  {
   "cell_type": "code",
   "execution_count": 35,
   "metadata": {},
   "outputs": [
    {
     "data": {
      "text/html": [
       "<div>\n",
       "<style scoped>\n",
       "    .dataframe tbody tr th:only-of-type {\n",
       "        vertical-align: middle;\n",
       "    }\n",
       "\n",
       "    .dataframe tbody tr th {\n",
       "        vertical-align: top;\n",
       "    }\n",
       "\n",
       "    .dataframe thead th {\n",
       "        text-align: right;\n",
       "    }\n",
       "</style>\n",
       "<table border=\"1\" class=\"dataframe\">\n",
       "  <thead>\n",
       "    <tr style=\"text-align: right;\">\n",
       "      <th></th>\n",
       "      <th>id</th>\n",
       "      <th>group</th>\n",
       "      <th>review_1st</th>\n",
       "      <th>review_2nd</th>\n",
       "      <th>description_1st</th>\n",
       "      <th>description_2nd</th>\n",
       "      <th>overview_1st</th>\n",
       "      <th>overview_2nd</th>\n",
       "      <th>reviews_from_critics</th>\n",
       "      <th>popularity</th>\n",
       "      <th>subgroup</th>\n",
       "    </tr>\n",
       "  </thead>\n",
       "  <tbody>\n",
       "    <tr>\n",
       "      <th>0</th>\n",
       "      <td>tt0051885</td>\n",
       "      <td>2</td>\n",
       "      <td>0.906268</td>\n",
       "      <td>0.178371</td>\n",
       "      <td>0.835506</td>\n",
       "      <td>0.404792</td>\n",
       "      <td>0.895216</td>\n",
       "      <td>0.080476</td>\n",
       "      <td>0.028689</td>\n",
       "      <td>0.004527</td>\n",
       "      <td>3</td>\n",
       "    </tr>\n",
       "    <tr>\n",
       "      <th>1</th>\n",
       "      <td>tt0045992</td>\n",
       "      <td>2</td>\n",
       "      <td>0.655101</td>\n",
       "      <td>0.150205</td>\n",
       "      <td>0.713343</td>\n",
       "      <td>0.652042</td>\n",
       "      <td>0.813127</td>\n",
       "      <td>0.173266</td>\n",
       "      <td>0.017760</td>\n",
       "      <td>0.002390</td>\n",
       "      <td>3</td>\n",
       "    </tr>\n",
       "    <tr>\n",
       "      <th>2</th>\n",
       "      <td>tt0114367</td>\n",
       "      <td>2</td>\n",
       "      <td>0.660765</td>\n",
       "      <td>0.502345</td>\n",
       "      <td>0.414357</td>\n",
       "      <td>0.894644</td>\n",
       "      <td>0.715754</td>\n",
       "      <td>0.139221</td>\n",
       "      <td>0.092896</td>\n",
       "      <td>0.068940</td>\n",
       "      <td>2</td>\n",
       "    </tr>\n",
       "    <tr>\n",
       "      <th>3</th>\n",
       "      <td>tt0353489</td>\n",
       "      <td>2</td>\n",
       "      <td>0.910675</td>\n",
       "      <td>0.339227</td>\n",
       "      <td>0.350968</td>\n",
       "      <td>0.495396</td>\n",
       "      <td>0.915646</td>\n",
       "      <td>0.197972</td>\n",
       "      <td>0.101093</td>\n",
       "      <td>0.019040</td>\n",
       "      <td>3</td>\n",
       "    </tr>\n",
       "    <tr>\n",
       "      <th>4</th>\n",
       "      <td>tt0115006</td>\n",
       "      <td>2</td>\n",
       "      <td>0.976296</td>\n",
       "      <td>0.449813</td>\n",
       "      <td>0.577182</td>\n",
       "      <td>0.859687</td>\n",
       "      <td>0.758705</td>\n",
       "      <td>0.120681</td>\n",
       "      <td>0.025956</td>\n",
       "      <td>0.002215</td>\n",
       "      <td>2</td>\n",
       "    </tr>\n",
       "  </tbody>\n",
       "</table>\n",
       "</div>"
      ],
      "text/plain": [
       "          id  group  review_1st  review_2nd  description_1st  description_2nd  \\\n",
       "0  tt0051885      2    0.906268    0.178371         0.835506         0.404792   \n",
       "1  tt0045992      2    0.655101    0.150205         0.713343         0.652042   \n",
       "2  tt0114367      2    0.660765    0.502345         0.414357         0.894644   \n",
       "3  tt0353489      2    0.910675    0.339227         0.350968         0.495396   \n",
       "4  tt0115006      2    0.976296    0.449813         0.577182         0.859687   \n",
       "\n",
       "   overview_1st  overview_2nd  reviews_from_critics  popularity  subgroup  \n",
       "0      0.895216      0.080476              0.028689    0.004527         3  \n",
       "1      0.813127      0.173266              0.017760    0.002390         3  \n",
       "2      0.715754      0.139221              0.092896    0.068940         2  \n",
       "3      0.915646      0.197972              0.101093    0.019040         3  \n",
       "4      0.758705      0.120681              0.025956    0.002215         2  "
      ]
     },
     "execution_count": 35,
     "metadata": {},
     "output_type": "execute_result"
    }
   ],
   "source": [
    "group2.head()"
   ]
  },
  {
   "cell_type": "code",
   "execution_count": 36,
   "metadata": {},
   "outputs": [],
   "source": [
    "group_2_1 = group2[group2['subgroup'] == 1].shape[0]\n",
    "group_2_2 = group2[group2['subgroup'] == 2].shape[0]\n",
    "group_2_3 = group2[group2['subgroup'] == 3].shape[0]"
   ]
  },
  {
   "cell_type": "markdown",
   "metadata": {},
   "source": [
    "# Group 3(USA_English_Albert Pyun_Action) Clustering"
   ]
  },
  {
   "cell_type": "code",
   "execution_count": 37,
   "metadata": {},
   "outputs": [
    {
     "data": {
      "text/plain": [
       "'/Users/jaykim/Documents/Yeartwo/Case_studies/case2/Data/cluster16_kmode/USA_English_Albert Pyun_Action.csv'"
      ]
     },
     "execution_count": 37,
     "metadata": {},
     "output_type": "execute_result"
    }
   ],
   "source": [
    "csv_files[2]"
   ]
  },
  {
   "cell_type": "code",
   "execution_count": 38,
   "metadata": {},
   "outputs": [
    {
     "data": {
      "image/png": "[encoded data removed]",
      "text/plain": [
       "<Figure size 432x288 with 1 Axes>"
      ]
     },
     "metadata": {
      "needs_background": "light"
     },
     "output_type": "display_data"
    }
   ],
   "source": [
    "kmeans_elbow_plot(2)"
   ]
  },
  {
   "cell_type": "code",
   "execution_count": 39,
   "metadata": {},
   "outputs": [],
   "source": [
    "group3 = kmeans_create_subgroup(2, k=3)"
   ]
  },
  {
   "cell_type": "code",
   "execution_count": 40,
   "metadata": {},
   "outputs": [
    {
     "data": {
      "text/html": [
       "<div>\n",
       "<style scoped>\n",
       "    .dataframe tbody tr th:only-of-type {\n",
       "        vertical-align: middle;\n",
       "    }\n",
       "\n",
       "    .dataframe tbody tr th {\n",
       "        vertical-align: top;\n",
       "    }\n",
       "\n",
       "    .dataframe thead th {\n",
       "        text-align: right;\n",
       "    }\n",
       "</style>\n",
       "<table border=\"1\" class=\"dataframe\">\n",
       "  <thead>\n",
       "    <tr style=\"text-align: right;\">\n",
       "      <th></th>\n",
       "      <th>id</th>\n",
       "      <th>group</th>\n",
       "      <th>review_1st</th>\n",
       "      <th>review_2nd</th>\n",
       "      <th>description_1st</th>\n",
       "      <th>description_2nd</th>\n",
       "      <th>overview_1st</th>\n",
       "      <th>overview_2nd</th>\n",
       "      <th>reviews_from_critics</th>\n",
       "      <th>popularity</th>\n",
       "      <th>subgroup</th>\n",
       "    </tr>\n",
       "  </thead>\n",
       "  <tbody>\n",
       "    <tr>\n",
       "      <th>0</th>\n",
       "      <td>tt0100263</td>\n",
       "      <td>3</td>\n",
       "      <td>0.672323</td>\n",
       "      <td>0.108523</td>\n",
       "      <td>0.864040</td>\n",
       "      <td>0.649300</td>\n",
       "      <td>0.865489</td>\n",
       "      <td>0.066118</td>\n",
       "      <td>0.122951</td>\n",
       "      <td>0.035589</td>\n",
       "      <td>2</td>\n",
       "    </tr>\n",
       "    <tr>\n",
       "      <th>1</th>\n",
       "      <td>tt0029952</td>\n",
       "      <td>3</td>\n",
       "      <td>0.906517</td>\n",
       "      <td>0.610286</td>\n",
       "      <td>0.882157</td>\n",
       "      <td>0.568022</td>\n",
       "      <td>0.834124</td>\n",
       "      <td>0.106026</td>\n",
       "      <td>0.005464</td>\n",
       "      <td>0.001092</td>\n",
       "      <td>2</td>\n",
       "    </tr>\n",
       "    <tr>\n",
       "      <th>2</th>\n",
       "      <td>tt0094375</td>\n",
       "      <td>3</td>\n",
       "      <td>0.336255</td>\n",
       "      <td>0.915459</td>\n",
       "      <td>0.254844</td>\n",
       "      <td>0.543080</td>\n",
       "      <td>0.763952</td>\n",
       "      <td>0.275084</td>\n",
       "      <td>0.024590</td>\n",
       "      <td>0.004977</td>\n",
       "      <td>3</td>\n",
       "    </tr>\n",
       "    <tr>\n",
       "      <th>3</th>\n",
       "      <td>tt0118747</td>\n",
       "      <td>3</td>\n",
       "      <td>0.614170</td>\n",
       "      <td>0.094170</td>\n",
       "      <td>0.521744</td>\n",
       "      <td>0.122487</td>\n",
       "      <td>0.886363</td>\n",
       "      <td>0.304909</td>\n",
       "      <td>0.068306</td>\n",
       "      <td>0.071120</td>\n",
       "      <td>2</td>\n",
       "    </tr>\n",
       "    <tr>\n",
       "      <th>4</th>\n",
       "      <td>tt0089087</td>\n",
       "      <td>3</td>\n",
       "      <td>0.762755</td>\n",
       "      <td>0.519844</td>\n",
       "      <td>0.708978</td>\n",
       "      <td>0.549799</td>\n",
       "      <td>0.827701</td>\n",
       "      <td>0.227118</td>\n",
       "      <td>0.061475</td>\n",
       "      <td>0.105477</td>\n",
       "      <td>2</td>\n",
       "    </tr>\n",
       "  </tbody>\n",
       "</table>\n",
       "</div>"
      ],
      "text/plain": [
       "          id  group  review_1st  review_2nd  description_1st  description_2nd  \\\n",
       "0  tt0100263      3    0.672323    0.108523         0.864040         0.649300   \n",
       "1  tt0029952      3    0.906517    0.610286         0.882157         0.568022   \n",
       "2  tt0094375      3    0.336255    0.915459         0.254844         0.543080   \n",
       "3  tt0118747      3    0.614170    0.094170         0.521744         0.122487   \n",
       "4  tt0089087      3    0.762755    0.519844         0.708978         0.549799   \n",
       "\n",
       "   overview_1st  overview_2nd  reviews_from_critics  popularity  subgroup  \n",
       "0      0.865489      0.066118              0.122951    0.035589         2  \n",
       "1      0.834124      0.106026              0.005464    0.001092         2  \n",
       "2      0.763952      0.275084              0.024590    0.004977         3  \n",
       "3      0.886363      0.304909              0.068306    0.071120         2  \n",
       "4      0.827701      0.227118              0.061475    0.105477         2  "
      ]
     },
     "execution_count": 40,
     "metadata": {},
     "output_type": "execute_result"
    }
   ],
   "source": [
    "group3.head()"
   ]
  },
  {
   "cell_type": "code",
   "execution_count": 41,
   "metadata": {},
   "outputs": [],
   "source": [
    "group_3_1 = group3[group3['subgroup'] == 1].shape[0]\n",
    "group_3_2 = group3[group3['subgroup'] == 2].shape[0]\n",
    "group_3_3 = group3[group3['subgroup'] == 3].shape[0]"
   ]
  },
  {
   "cell_type": "markdown",
   "metadata": {},
   "source": [
    "# Group 4(USA_English, German_Tim Blake Nelson_Drama) Clustering"
   ]
  },
  {
   "cell_type": "code",
   "execution_count": 42,
   "metadata": {},
   "outputs": [
    {
     "data": {
      "text/plain": [
       "'/Users/jaykim/Documents/Yeartwo/Case_studies/case2/Data/cluster16_kmode/USA_English, German_Tim Blake Nelson_Drama.csv'"
      ]
     },
     "execution_count": 42,
     "metadata": {},
     "output_type": "execute_result"
    }
   ],
   "source": [
    "csv_files[3]"
   ]
  },
  {
   "cell_type": "code",
   "execution_count": 43,
   "metadata": {},
   "outputs": [
    {
     "data": {
      "image/png": "[encoded data removed]",
      "text/plain": [
       "<Figure size 432x288 with 1 Axes>"
      ]
     },
     "metadata": {
      "needs_background": "light"
     },
     "output_type": "display_data"
    }
   ],
   "source": [
    "kmeans_elbow_plot(3)"
   ]
  },
  {
   "cell_type": "code",
   "execution_count": 44,
   "metadata": {},
   "outputs": [],
   "source": [
    "group4 = kmeans_create_subgroup(3, k=5)"
   ]
  },
  {
   "cell_type": "code",
   "execution_count": 45,
   "metadata": {},
   "outputs": [
    {
     "data": {
      "text/html": [
       "<div>\n",
       "<style scoped>\n",
       "    .dataframe tbody tr th:only-of-type {\n",
       "        vertical-align: middle;\n",
       "    }\n",
       "\n",
       "    .dataframe tbody tr th {\n",
       "        vertical-align: top;\n",
       "    }\n",
       "\n",
       "    .dataframe thead th {\n",
       "        text-align: right;\n",
       "    }\n",
       "</style>\n",
       "<table border=\"1\" class=\"dataframe\">\n",
       "  <thead>\n",
       "    <tr style=\"text-align: right;\">\n",
       "      <th></th>\n",
       "      <th>id</th>\n",
       "      <th>group</th>\n",
       "      <th>review_1st</th>\n",
       "      <th>review_2nd</th>\n",
       "      <th>description_1st</th>\n",
       "      <th>description_2nd</th>\n",
       "      <th>overview_1st</th>\n",
       "      <th>overview_2nd</th>\n",
       "      <th>reviews_from_critics</th>\n",
       "      <th>popularity</th>\n",
       "      <th>subgroup</th>\n",
       "    </tr>\n",
       "  </thead>\n",
       "  <tbody>\n",
       "    <tr>\n",
       "      <th>0</th>\n",
       "      <td>tt0093201</td>\n",
       "      <td>4</td>\n",
       "      <td>0.636564</td>\n",
       "      <td>0.736984</td>\n",
       "      <td>0.667012</td>\n",
       "      <td>0.357170</td>\n",
       "      <td>0.833640</td>\n",
       "      <td>0.022593</td>\n",
       "      <td>0.016393</td>\n",
       "      <td>0.000012</td>\n",
       "      <td>2</td>\n",
       "    </tr>\n",
       "    <tr>\n",
       "      <th>1</th>\n",
       "      <td>tt0450336</td>\n",
       "      <td>4</td>\n",
       "      <td>0.710691</td>\n",
       "      <td>0.407478</td>\n",
       "      <td>0.665571</td>\n",
       "      <td>0.562643</td>\n",
       "      <td>0.765015</td>\n",
       "      <td>0.223138</td>\n",
       "      <td>0.103825</td>\n",
       "      <td>0.021967</td>\n",
       "      <td>5</td>\n",
       "    </tr>\n",
       "    <tr>\n",
       "      <th>2</th>\n",
       "      <td>tt0084445</td>\n",
       "      <td>4</td>\n",
       "      <td>0.540570</td>\n",
       "      <td>0.735997</td>\n",
       "      <td>0.544163</td>\n",
       "      <td>0.077749</td>\n",
       "      <td>0.917990</td>\n",
       "      <td>0.353135</td>\n",
       "      <td>0.081967</td>\n",
       "      <td>0.007726</td>\n",
       "      <td>2</td>\n",
       "    </tr>\n",
       "    <tr>\n",
       "      <th>3</th>\n",
       "      <td>tt0074279</td>\n",
       "      <td>4</td>\n",
       "      <td>0.693998</td>\n",
       "      <td>0.577850</td>\n",
       "      <td>0.411326</td>\n",
       "      <td>0.393644</td>\n",
       "      <td>0.885203</td>\n",
       "      <td>0.197913</td>\n",
       "      <td>0.040984</td>\n",
       "      <td>0.011329</td>\n",
       "      <td>2</td>\n",
       "    </tr>\n",
       "    <tr>\n",
       "      <th>4</th>\n",
       "      <td>tt0252480</td>\n",
       "      <td>4</td>\n",
       "      <td>0.834149</td>\n",
       "      <td>0.799770</td>\n",
       "      <td>0.188949</td>\n",
       "      <td>0.675300</td>\n",
       "      <td>0.745659</td>\n",
       "      <td>0.242494</td>\n",
       "      <td>0.072404</td>\n",
       "      <td>0.017108</td>\n",
       "      <td>4</td>\n",
       "    </tr>\n",
       "  </tbody>\n",
       "</table>\n",
       "</div>"
      ],
      "text/plain": [
       "          id  group  review_1st  review_2nd  description_1st  description_2nd  \\\n",
       "0  tt0093201      4    0.636564    0.736984         0.667012         0.357170   \n",
       "1  tt0450336      4    0.710691    0.407478         0.665571         0.562643   \n",
       "2  tt0084445      4    0.540570    0.735997         0.544163         0.077749   \n",
       "3  tt0074279      4    0.693998    0.577850         0.411326         0.393644   \n",
       "4  tt0252480      4    0.834149    0.799770         0.188949         0.675300   \n",
       "\n",
       "   overview_1st  overview_2nd  reviews_from_critics  popularity  subgroup  \n",
       "0      0.833640      0.022593              0.016393    0.000012         2  \n",
       "1      0.765015      0.223138              0.103825    0.021967         5  \n",
       "2      0.917990      0.353135              0.081967    0.007726         2  \n",
       "3      0.885203      0.197913              0.040984    0.011329         2  \n",
       "4      0.745659      0.242494              0.072404    0.017108         4  "
      ]
     },
     "execution_count": 45,
     "metadata": {},
     "output_type": "execute_result"
    }
   ],
   "source": [
    "group4.head()"
   ]
  },
  {
   "cell_type": "code",
   "execution_count": 46,
   "metadata": {},
   "outputs": [],
   "source": [
    "group_4_1 = group4[group4['subgroup'] == 1].shape[0]\n",
    "group_4_2 = group4[group4['subgroup'] == 2].shape[0]\n",
    "group_4_3 = group4[group4['subgroup'] == 3].shape[0]\n",
    "group_4_4 = group4[group4['subgroup'] == 4].shape[0]\n",
    "group_4_5 = group4[group4['subgroup'] == 5].shape[0]\n"
   ]
  },
  {
   "cell_type": "markdown",
   "metadata": {},
   "source": [
    "# Group 5(Australia_English_Alex Proyas_Comedy) Clustering"
   ]
  },
  {
   "cell_type": "code",
   "execution_count": 47,
   "metadata": {},
   "outputs": [
    {
     "data": {
      "text/plain": [
       "'/Users/jaykim/Documents/Yeartwo/Case_studies/case2/Data/cluster16_kmode/Australia_English_Alex Proyas_Comedy.csv'"
      ]
     },
     "execution_count": 47,
     "metadata": {},
     "output_type": "execute_result"
    }
   ],
   "source": [
    "csv_files[4]"
   ]
  },
  {
   "cell_type": "code",
   "execution_count": 48,
   "metadata": {},
   "outputs": [
    {
     "data": {
      "image/png": "[encoded data removed]",
      "text/plain": [
       "<Figure size 432x288 with 1 Axes>"
      ]
     },
     "metadata": {
      "needs_background": "light"
     },
     "output_type": "display_data"
    }
   ],
   "source": [
    "kmeans_elbow_plot(4)"
   ]
  },
  {
   "cell_type": "code",
   "execution_count": 49,
   "metadata": {},
   "outputs": [],
   "source": [
    "group5 = kmeans_create_subgroup(4, k=4)"
   ]
  },
  {
   "cell_type": "code",
   "execution_count": 50,
   "metadata": {},
   "outputs": [
    {
     "data": {
      "text/html": [
       "<div>\n",
       "<style scoped>\n",
       "    .dataframe tbody tr th:only-of-type {\n",
       "        vertical-align: middle;\n",
       "    }\n",
       "\n",
       "    .dataframe tbody tr th {\n",
       "        vertical-align: top;\n",
       "    }\n",
       "\n",
       "    .dataframe thead th {\n",
       "        text-align: right;\n",
       "    }\n",
       "</style>\n",
       "<table border=\"1\" class=\"dataframe\">\n",
       "  <thead>\n",
       "    <tr style=\"text-align: right;\">\n",
       "      <th></th>\n",
       "      <th>id</th>\n",
       "      <th>group</th>\n",
       "      <th>review_1st</th>\n",
       "      <th>review_2nd</th>\n",
       "      <th>description_1st</th>\n",
       "      <th>description_2nd</th>\n",
       "      <th>overview_1st</th>\n",
       "      <th>overview_2nd</th>\n",
       "      <th>reviews_from_critics</th>\n",
       "      <th>popularity</th>\n",
       "      <th>subgroup</th>\n",
       "    </tr>\n",
       "  </thead>\n",
       "  <tbody>\n",
       "    <tr>\n",
       "      <th>0</th>\n",
       "      <td>tt0209368</td>\n",
       "      <td>5</td>\n",
       "      <td>0.370938</td>\n",
       "      <td>0.246846</td>\n",
       "      <td>0.540364</td>\n",
       "      <td>0.061175</td>\n",
       "      <td>0.949750</td>\n",
       "      <td>0.337695</td>\n",
       "      <td>0.006831</td>\n",
       "      <td>0.004267</td>\n",
       "      <td>4</td>\n",
       "    </tr>\n",
       "    <tr>\n",
       "      <th>1</th>\n",
       "      <td>tt0086189</td>\n",
       "      <td>5</td>\n",
       "      <td>0.433576</td>\n",
       "      <td>0.445700</td>\n",
       "      <td>0.253633</td>\n",
       "      <td>0.667864</td>\n",
       "      <td>0.748705</td>\n",
       "      <td>0.209904</td>\n",
       "      <td>0.017760</td>\n",
       "      <td>0.004518</td>\n",
       "      <td>2</td>\n",
       "    </tr>\n",
       "    <tr>\n",
       "      <th>2</th>\n",
       "      <td>tt0071282</td>\n",
       "      <td>5</td>\n",
       "      <td>0.466949</td>\n",
       "      <td>0.599314</td>\n",
       "      <td>0.607729</td>\n",
       "      <td>0.565620</td>\n",
       "      <td>0.879699</td>\n",
       "      <td>0.159369</td>\n",
       "      <td>0.071038</td>\n",
       "      <td>0.010972</td>\n",
       "      <td>3</td>\n",
       "    </tr>\n",
       "    <tr>\n",
       "      <th>3</th>\n",
       "      <td>tt0118929</td>\n",
       "      <td>5</td>\n",
       "      <td>0.927706</td>\n",
       "      <td>0.120066</td>\n",
       "      <td>0.818034</td>\n",
       "      <td>0.145911</td>\n",
       "      <td>0.921348</td>\n",
       "      <td>0.116868</td>\n",
       "      <td>0.293716</td>\n",
       "      <td>0.069444</td>\n",
       "      <td>1</td>\n",
       "    </tr>\n",
       "    <tr>\n",
       "      <th>4</th>\n",
       "      <td>tt0119415</td>\n",
       "      <td>5</td>\n",
       "      <td>0.723256</td>\n",
       "      <td>0.562921</td>\n",
       "      <td>0.267549</td>\n",
       "      <td>0.148351</td>\n",
       "      <td>0.848597</td>\n",
       "      <td>0.240678</td>\n",
       "      <td>0.001366</td>\n",
       "      <td>0.001067</td>\n",
       "      <td>4</td>\n",
       "    </tr>\n",
       "  </tbody>\n",
       "</table>\n",
       "</div>"
      ],
      "text/plain": [
       "          id  group  review_1st  review_2nd  description_1st  description_2nd  \\\n",
       "0  tt0209368      5    0.370938    0.246846         0.540364         0.061175   \n",
       "1  tt0086189      5    0.433576    0.445700         0.253633         0.667864   \n",
       "2  tt0071282      5    0.466949    0.599314         0.607729         0.565620   \n",
       "3  tt0118929      5    0.927706    0.120066         0.818034         0.145911   \n",
       "4  tt0119415      5    0.723256    0.562921         0.267549         0.148351   \n",
       "\n",
       "   overview_1st  overview_2nd  reviews_from_critics  popularity  subgroup  \n",
       "0      0.949750      0.337695              0.006831    0.004267         4  \n",
       "1      0.748705      0.209904              0.017760    0.004518         2  \n",
       "2      0.879699      0.159369              0.071038    0.010972         3  \n",
       "3      0.921348      0.116868              0.293716    0.069444         1  \n",
       "4      0.848597      0.240678              0.001366    0.001067         4  "
      ]
     },
     "execution_count": 50,
     "metadata": {},
     "output_type": "execute_result"
    }
   ],
   "source": [
    "group5.head()"
   ]
  },
  {
   "cell_type": "code",
   "execution_count": 51,
   "metadata": {},
   "outputs": [],
   "source": [
    "group_5_1 = group5[group5['subgroup'] == 1].shape[0]\n",
    "group_5_2 = group5[group5['subgroup'] == 2].shape[0]\n",
    "group_5_3 = group5[group5['subgroup'] == 3].shape[0]\n",
    "group_5_4 = group5[group5['subgroup'] == 4].shape[0]"
   ]
  },
  {
   "cell_type": "markdown",
   "metadata": {},
   "source": [
    "# Group 6(USA_English, French_Alan Bunce_Horror) Clustering"
   ]
  },
  {
   "cell_type": "code",
   "execution_count": 52,
   "metadata": {},
   "outputs": [
    {
     "data": {
      "text/plain": [
       "'/Users/jaykim/Documents/Yeartwo/Case_studies/case2/Data/cluster16_kmode/USA_English, French_Alan Bunce_Horror.csv'"
      ]
     },
     "execution_count": 52,
     "metadata": {},
     "output_type": "execute_result"
    }
   ],
   "source": [
    "csv_files[5]"
   ]
  },
  {
   "cell_type": "code",
   "execution_count": 53,
   "metadata": {},
   "outputs": [
    {
     "data": {
      "image/png": "[encoded data removed]",
      "text/plain": [
       "<Figure size 432x288 with 1 Axes>"
      ]
     },
     "metadata": {
      "needs_background": "light"
     },
     "output_type": "display_data"
    }
   ],
   "source": [
    "kmeans_elbow_plot(5)"
   ]
  },
  {
   "cell_type": "code",
   "execution_count": 54,
   "metadata": {},
   "outputs": [],
   "source": [
    "group6 = kmeans_create_subgroup(5, k=2)"
   ]
  },
  {
   "cell_type": "code",
   "execution_count": 55,
   "metadata": {},
   "outputs": [
    {
     "data": {
      "text/html": [
       "<div>\n",
       "<style scoped>\n",
       "    .dataframe tbody tr th:only-of-type {\n",
       "        vertical-align: middle;\n",
       "    }\n",
       "\n",
       "    .dataframe tbody tr th {\n",
       "        vertical-align: top;\n",
       "    }\n",
       "\n",
       "    .dataframe thead th {\n",
       "        text-align: right;\n",
       "    }\n",
       "</style>\n",
       "<table border=\"1\" class=\"dataframe\">\n",
       "  <thead>\n",
       "    <tr style=\"text-align: right;\">\n",
       "      <th></th>\n",
       "      <th>id</th>\n",
       "      <th>group</th>\n",
       "      <th>review_1st</th>\n",
       "      <th>review_2nd</th>\n",
       "      <th>description_1st</th>\n",
       "      <th>description_2nd</th>\n",
       "      <th>overview_1st</th>\n",
       "      <th>overview_2nd</th>\n",
       "      <th>reviews_from_critics</th>\n",
       "      <th>popularity</th>\n",
       "      <th>subgroup</th>\n",
       "    </tr>\n",
       "  </thead>\n",
       "  <tbody>\n",
       "    <tr>\n",
       "      <th>0</th>\n",
       "      <td>tt0101414</td>\n",
       "      <td>6</td>\n",
       "      <td>0.830069</td>\n",
       "      <td>0.353316</td>\n",
       "      <td>0.408405</td>\n",
       "      <td>0.470326</td>\n",
       "      <td>0.802787</td>\n",
       "      <td>0.280523</td>\n",
       "      <td>0.288251</td>\n",
       "      <td>0.126619</td>\n",
       "      <td>1</td>\n",
       "    </tr>\n",
       "    <tr>\n",
       "      <th>1</th>\n",
       "      <td>tt0073705</td>\n",
       "      <td>6</td>\n",
       "      <td>0.751460</td>\n",
       "      <td>0.371025</td>\n",
       "      <td>0.700618</td>\n",
       "      <td>0.186594</td>\n",
       "      <td>0.937582</td>\n",
       "      <td>0.097032</td>\n",
       "      <td>0.142077</td>\n",
       "      <td>0.062358</td>\n",
       "      <td>1</td>\n",
       "    </tr>\n",
       "    <tr>\n",
       "      <th>2</th>\n",
       "      <td>tt0048289</td>\n",
       "      <td>6</td>\n",
       "      <td>0.810806</td>\n",
       "      <td>0.770780</td>\n",
       "      <td>0.810737</td>\n",
       "      <td>0.662326</td>\n",
       "      <td>0.861111</td>\n",
       "      <td>0.092616</td>\n",
       "      <td>0.012295</td>\n",
       "      <td>0.004919</td>\n",
       "      <td>2</td>\n",
       "    </tr>\n",
       "    <tr>\n",
       "      <th>3</th>\n",
       "      <td>tt0096869</td>\n",
       "      <td>6</td>\n",
       "      <td>0.465306</td>\n",
       "      <td>0.679322</td>\n",
       "      <td>0.464117</td>\n",
       "      <td>0.626948</td>\n",
       "      <td>0.805744</td>\n",
       "      <td>0.287458</td>\n",
       "      <td>0.004098</td>\n",
       "      <td>0.005132</td>\n",
       "      <td>2</td>\n",
       "    </tr>\n",
       "    <tr>\n",
       "      <th>4</th>\n",
       "      <td>tt0070578</td>\n",
       "      <td>6</td>\n",
       "      <td>0.086309</td>\n",
       "      <td>0.288606</td>\n",
       "      <td>0.894728</td>\n",
       "      <td>0.581012</td>\n",
       "      <td>0.874347</td>\n",
       "      <td>0.042076</td>\n",
       "      <td>0.032787</td>\n",
       "      <td>0.000187</td>\n",
       "      <td>2</td>\n",
       "    </tr>\n",
       "  </tbody>\n",
       "</table>\n",
       "</div>"
      ],
      "text/plain": [
       "          id  group  review_1st  review_2nd  description_1st  description_2nd  \\\n",
       "0  tt0101414      6    0.830069    0.353316         0.408405         0.470326   \n",
       "1  tt0073705      6    0.751460    0.371025         0.700618         0.186594   \n",
       "2  tt0048289      6    0.810806    0.770780         0.810737         0.662326   \n",
       "3  tt0096869      6    0.465306    0.679322         0.464117         0.626948   \n",
       "4  tt0070578      6    0.086309    0.288606         0.894728         0.581012   \n",
       "\n",
       "   overview_1st  overview_2nd  reviews_from_critics  popularity  subgroup  \n",
       "0      0.802787      0.280523              0.288251    0.126619         1  \n",
       "1      0.937582      0.097032              0.142077    0.062358         1  \n",
       "2      0.861111      0.092616              0.012295    0.004919         2  \n",
       "3      0.805744      0.287458              0.004098    0.005132         2  \n",
       "4      0.874347      0.042076              0.032787    0.000187         2  "
      ]
     },
     "execution_count": 55,
     "metadata": {},
     "output_type": "execute_result"
    }
   ],
   "source": [
    "group6.head()"
   ]
  },
  {
   "cell_type": "code",
   "execution_count": 56,
   "metadata": {},
   "outputs": [],
   "source": [
    "group_6_1 = group6[group6['subgroup'] == 1].shape[0]\n",
    "group_6_2 = group6[group6['subgroup'] == 2].shape[0]"
   ]
  },
  {
   "cell_type": "markdown",
   "metadata": {},
   "source": [
    "# Group 7(USA_English_Mark Robson_Drama) Clustering"
   ]
  },
  {
   "cell_type": "code",
   "execution_count": 57,
   "metadata": {},
   "outputs": [
    {
     "data": {
      "text/plain": [
       "'/Users/jaykim/Documents/Yeartwo/Case_studies/case2/Data/cluster16_kmode/USA_English_Mark Robson_Drama.csv'"
      ]
     },
     "execution_count": 57,
     "metadata": {},
     "output_type": "execute_result"
    }
   ],
   "source": [
    "csv_files[6]"
   ]
  },
  {
   "cell_type": "code",
   "execution_count": 58,
   "metadata": {},
   "outputs": [
    {
     "data": {
      "image/png": "[encoded data removed]",
      "text/plain": [
       "<Figure size 432x288 with 1 Axes>"
      ]
     },
     "metadata": {
      "needs_background": "light"
     },
     "output_type": "display_data"
    }
   ],
   "source": [
    "kmeans_elbow_plot(6)"
   ]
  },
  {
   "cell_type": "code",
   "execution_count": 59,
   "metadata": {},
   "outputs": [],
   "source": [
    "group7 = kmeans_create_subgroup(6, k=4)"
   ]
  },
  {
   "cell_type": "code",
   "execution_count": 60,
   "metadata": {},
   "outputs": [
    {
     "data": {
      "text/html": [
       "<div>\n",
       "<style scoped>\n",
       "    .dataframe tbody tr th:only-of-type {\n",
       "        vertical-align: middle;\n",
       "    }\n",
       "\n",
       "    .dataframe tbody tr th {\n",
       "        vertical-align: top;\n",
       "    }\n",
       "\n",
       "    .dataframe thead th {\n",
       "        text-align: right;\n",
       "    }\n",
       "</style>\n",
       "<table border=\"1\" class=\"dataframe\">\n",
       "  <thead>\n",
       "    <tr style=\"text-align: right;\">\n",
       "      <th></th>\n",
       "      <th>id</th>\n",
       "      <th>group</th>\n",
       "      <th>review_1st</th>\n",
       "      <th>review_2nd</th>\n",
       "      <th>description_1st</th>\n",
       "      <th>description_2nd</th>\n",
       "      <th>overview_1st</th>\n",
       "      <th>overview_2nd</th>\n",
       "      <th>reviews_from_critics</th>\n",
       "      <th>popularity</th>\n",
       "      <th>subgroup</th>\n",
       "    </tr>\n",
       "  </thead>\n",
       "  <tbody>\n",
       "    <tr>\n",
       "      <th>0</th>\n",
       "      <td>tt0050652</td>\n",
       "      <td>7</td>\n",
       "      <td>0.588039</td>\n",
       "      <td>0.306144</td>\n",
       "      <td>0.640307</td>\n",
       "      <td>0.535378</td>\n",
       "      <td>0.811155</td>\n",
       "      <td>0.246075</td>\n",
       "      <td>0.009563</td>\n",
       "      <td>0.000689</td>\n",
       "      <td>4</td>\n",
       "    </tr>\n",
       "    <tr>\n",
       "      <th>1</th>\n",
       "      <td>tt0082677</td>\n",
       "      <td>7</td>\n",
       "      <td>0.765101</td>\n",
       "      <td>0.662536</td>\n",
       "      <td>0.862908</td>\n",
       "      <td>0.580759</td>\n",
       "      <td>0.842537</td>\n",
       "      <td>0.131997</td>\n",
       "      <td>0.069672</td>\n",
       "      <td>0.007877</td>\n",
       "      <td>3</td>\n",
       "    </tr>\n",
       "    <tr>\n",
       "      <th>2</th>\n",
       "      <td>tt0030287</td>\n",
       "      <td>7</td>\n",
       "      <td>0.501502</td>\n",
       "      <td>0.613235</td>\n",
       "      <td>0.525235</td>\n",
       "      <td>0.157638</td>\n",
       "      <td>0.965438</td>\n",
       "      <td>0.183288</td>\n",
       "      <td>0.068306</td>\n",
       "      <td>0.060935</td>\n",
       "      <td>3</td>\n",
       "    </tr>\n",
       "    <tr>\n",
       "      <th>3</th>\n",
       "      <td>tt0036376</td>\n",
       "      <td>7</td>\n",
       "      <td>0.957032</td>\n",
       "      <td>0.116995</td>\n",
       "      <td>0.473780</td>\n",
       "      <td>0.178331</td>\n",
       "      <td>0.924406</td>\n",
       "      <td>0.167717</td>\n",
       "      <td>0.079235</td>\n",
       "      <td>0.028870</td>\n",
       "      <td>4</td>\n",
       "    </tr>\n",
       "    <tr>\n",
       "      <th>4</th>\n",
       "      <td>tt0031742</td>\n",
       "      <td>7</td>\n",
       "      <td>0.496791</td>\n",
       "      <td>0.485055</td>\n",
       "      <td>0.571177</td>\n",
       "      <td>0.196271</td>\n",
       "      <td>0.892446</td>\n",
       "      <td>0.118902</td>\n",
       "      <td>0.019126</td>\n",
       "      <td>0.005381</td>\n",
       "      <td>2</td>\n",
       "    </tr>\n",
       "  </tbody>\n",
       "</table>\n",
       "</div>"
      ],
      "text/plain": [
       "          id  group  review_1st  review_2nd  description_1st  description_2nd  \\\n",
       "0  tt0050652      7    0.588039    0.306144         0.640307         0.535378   \n",
       "1  tt0082677      7    0.765101    0.662536         0.862908         0.580759   \n",
       "2  tt0030287      7    0.501502    0.613235         0.525235         0.157638   \n",
       "3  tt0036376      7    0.957032    0.116995         0.473780         0.178331   \n",
       "4  tt0031742      7    0.496791    0.485055         0.571177         0.196271   \n",
       "\n",
       "   overview_1st  overview_2nd  reviews_from_critics  popularity  subgroup  \n",
       "0      0.811155      0.246075              0.009563    0.000689         4  \n",
       "1      0.842537      0.131997              0.069672    0.007877         3  \n",
       "2      0.965438      0.183288              0.068306    0.060935         3  \n",
       "3      0.924406      0.167717              0.079235    0.028870         4  \n",
       "4      0.892446      0.118902              0.019126    0.005381         2  "
      ]
     },
     "execution_count": 60,
     "metadata": {},
     "output_type": "execute_result"
    }
   ],
   "source": [
    "group7.head()"
   ]
  },
  {
   "cell_type": "code",
   "execution_count": 61,
   "metadata": {},
   "outputs": [],
   "source": [
    "group_7_1 = group7[group7['subgroup'] == 1].shape[0]\n",
    "group_7_2 = group7[group7['subgroup'] == 2].shape[0]\n",
    "group_7_3 = group7[group7['subgroup'] == 3].shape[0]\n",
    "group_7_4 = group7[group7['subgroup'] == 4].shape[0]"
   ]
  },
  {
   "cell_type": "markdown",
   "metadata": {},
   "source": [
    "# Group 8(USA_English_Mikhail Kalatozov_Adventure) Clustering"
   ]
  },
  {
   "cell_type": "code",
   "execution_count": 62,
   "metadata": {},
   "outputs": [
    {
     "data": {
      "text/plain": [
       "'/Users/jaykim/Documents/Yeartwo/Case_studies/case2/Data/cluster16_kmode/USA_English_Mikhail Kalatozov_Adventure.csv'"
      ]
     },
     "execution_count": 62,
     "metadata": {},
     "output_type": "execute_result"
    }
   ],
   "source": [
    "csv_files[7]"
   ]
  },
  {
   "cell_type": "code",
   "execution_count": 63,
   "metadata": {},
   "outputs": [
    {
     "data": {
      "image/png": "[encoded data removed]",
      "text/plain": [
       "<Figure size 432x288 with 1 Axes>"
      ]
     },
     "metadata": {
      "needs_background": "light"
     },
     "output_type": "display_data"
    }
   ],
   "source": [
    "kmeans_elbow_plot(7)"
   ]
  },
  {
   "cell_type": "code",
   "execution_count": 66,
   "metadata": {},
   "outputs": [],
   "source": [
    "group8 = kmeans_create_subgroup(7, k=2)"
   ]
  },
  {
   "cell_type": "code",
   "execution_count": 67,
   "metadata": {},
   "outputs": [
    {
     "data": {
      "text/html": [
       "<div>\n",
       "<style scoped>\n",
       "    .dataframe tbody tr th:only-of-type {\n",
       "        vertical-align: middle;\n",
       "    }\n",
       "\n",
       "    .dataframe tbody tr th {\n",
       "        vertical-align: top;\n",
       "    }\n",
       "\n",
       "    .dataframe thead th {\n",
       "        text-align: right;\n",
       "    }\n",
       "</style>\n",
       "<table border=\"1\" class=\"dataframe\">\n",
       "  <thead>\n",
       "    <tr style=\"text-align: right;\">\n",
       "      <th></th>\n",
       "      <th>id</th>\n",
       "      <th>group</th>\n",
       "      <th>review_1st</th>\n",
       "      <th>review_2nd</th>\n",
       "      <th>description_1st</th>\n",
       "      <th>description_2nd</th>\n",
       "      <th>overview_1st</th>\n",
       "      <th>overview_2nd</th>\n",
       "      <th>reviews_from_critics</th>\n",
       "      <th>popularity</th>\n",
       "      <th>subgroup</th>\n",
       "    </tr>\n",
       "  </thead>\n",
       "  <tbody>\n",
       "    <tr>\n",
       "      <th>0</th>\n",
       "      <td>tt0018515</td>\n",
       "      <td>8</td>\n",
       "      <td>0.792984</td>\n",
       "      <td>0.702751</td>\n",
       "      <td>0.245653</td>\n",
       "      <td>0.766920</td>\n",
       "      <td>0.759348</td>\n",
       "      <td>0.296303</td>\n",
       "      <td>0.006831</td>\n",
       "      <td>0.002106</td>\n",
       "      <td>1</td>\n",
       "    </tr>\n",
       "    <tr>\n",
       "      <th>1</th>\n",
       "      <td>tt0067345</td>\n",
       "      <td>8</td>\n",
       "      <td>0.408970</td>\n",
       "      <td>0.320054</td>\n",
       "      <td>0.428419</td>\n",
       "      <td>0.745947</td>\n",
       "      <td>0.776805</td>\n",
       "      <td>0.153863</td>\n",
       "      <td>0.021858</td>\n",
       "      <td>0.002443</td>\n",
       "      <td>1</td>\n",
       "    </tr>\n",
       "    <tr>\n",
       "      <th>2</th>\n",
       "      <td>tt0034182</td>\n",
       "      <td>8</td>\n",
       "      <td>0.787286</td>\n",
       "      <td>0.499831</td>\n",
       "      <td>0.751569</td>\n",
       "      <td>0.403780</td>\n",
       "      <td>0.857165</td>\n",
       "      <td>0.249826</td>\n",
       "      <td>0.017760</td>\n",
       "      <td>0.005284</td>\n",
       "      <td>2</td>\n",
       "    </tr>\n",
       "    <tr>\n",
       "      <th>3</th>\n",
       "      <td>tt0024894</td>\n",
       "      <td>8</td>\n",
       "      <td>0.861651</td>\n",
       "      <td>0.134245</td>\n",
       "      <td>0.617550</td>\n",
       "      <td>0.595682</td>\n",
       "      <td>0.915516</td>\n",
       "      <td>0.066244</td>\n",
       "      <td>0.125683</td>\n",
       "      <td>0.043518</td>\n",
       "      <td>1</td>\n",
       "    </tr>\n",
       "    <tr>\n",
       "      <th>4</th>\n",
       "      <td>tt0085750</td>\n",
       "      <td>8</td>\n",
       "      <td>0.744333</td>\n",
       "      <td>0.502810</td>\n",
       "      <td>0.513163</td>\n",
       "      <td>0.697166</td>\n",
       "      <td>0.776626</td>\n",
       "      <td>0.123148</td>\n",
       "      <td>0.121585</td>\n",
       "      <td>0.089712</td>\n",
       "      <td>1</td>\n",
       "    </tr>\n",
       "  </tbody>\n",
       "</table>\n",
       "</div>"
      ],
      "text/plain": [
       "          id  group  review_1st  review_2nd  description_1st  description_2nd  \\\n",
       "0  tt0018515      8    0.792984    0.702751         0.245653         0.766920   \n",
       "1  tt0067345      8    0.408970    0.320054         0.428419         0.745947   \n",
       "2  tt0034182      8    0.787286    0.499831         0.751569         0.403780   \n",
       "3  tt0024894      8    0.861651    0.134245         0.617550         0.595682   \n",
       "4  tt0085750      8    0.744333    0.502810         0.513163         0.697166   \n",
       "\n",
       "   overview_1st  overview_2nd  reviews_from_critics  popularity  subgroup  \n",
       "0      0.759348      0.296303              0.006831    0.002106         1  \n",
       "1      0.776805      0.153863              0.021858    0.002443         1  \n",
       "2      0.857165      0.249826              0.017760    0.005284         2  \n",
       "3      0.915516      0.066244              0.125683    0.043518         1  \n",
       "4      0.776626      0.123148              0.121585    0.089712         1  "
      ]
     },
     "execution_count": 67,
     "metadata": {},
     "output_type": "execute_result"
    }
   ],
   "source": [
    "group8.head()"
   ]
  },
  {
   "cell_type": "code",
   "execution_count": 68,
   "metadata": {},
   "outputs": [],
   "source": [
    "group_8_1 = group8[group8['subgroup'] == 1].shape[0]\n",
    "group_8_2 = group8[group8['subgroup'] == 2].shape[0]"
   ]
  },
  {
   "cell_type": "markdown",
   "metadata": {},
   "source": [
    "# Group 9(USA_English_Blake Edwards_Comedy) Clustering"
   ]
  },
  {
   "cell_type": "code",
   "execution_count": 69,
   "metadata": {},
   "outputs": [
    {
     "data": {
      "text/plain": [
       "'/Users/jaykim/Documents/Yeartwo/Case_studies/case2/Data/cluster16_kmode/USA_English_Blake Edwards_Comedy.csv'"
      ]
     },
     "execution_count": 69,
     "metadata": {},
     "output_type": "execute_result"
    }
   ],
   "source": [
    "csv_files[8]"
   ]
  },
  {
   "cell_type": "code",
   "execution_count": 70,
   "metadata": {},
   "outputs": [
    {
     "data": {
      "image/png": "[encoded data removed]",
      "text/plain": [
       "<Figure size 432x288 with 1 Axes>"
      ]
     },
     "metadata": {
      "needs_background": "light"
     },
     "output_type": "display_data"
    }
   ],
   "source": [
    "kmeans_elbow_plot(8)"
   ]
  },
  {
   "cell_type": "code",
   "execution_count": 71,
   "metadata": {},
   "outputs": [],
   "source": [
    "group9 = kmeans_create_subgroup(8, k=2)"
   ]
  },
  {
   "cell_type": "code",
   "execution_count": 72,
   "metadata": {},
   "outputs": [
    {
     "data": {
      "text/html": [
       "<div>\n",
       "<style scoped>\n",
       "    .dataframe tbody tr th:only-of-type {\n",
       "        vertical-align: middle;\n",
       "    }\n",
       "\n",
       "    .dataframe tbody tr th {\n",
       "        vertical-align: top;\n",
       "    }\n",
       "\n",
       "    .dataframe thead th {\n",
       "        text-align: right;\n",
       "    }\n",
       "</style>\n",
       "<table border=\"1\" class=\"dataframe\">\n",
       "  <thead>\n",
       "    <tr style=\"text-align: right;\">\n",
       "      <th></th>\n",
       "      <th>id</th>\n",
       "      <th>group</th>\n",
       "      <th>review_1st</th>\n",
       "      <th>review_2nd</th>\n",
       "      <th>description_1st</th>\n",
       "      <th>description_2nd</th>\n",
       "      <th>overview_1st</th>\n",
       "      <th>overview_2nd</th>\n",
       "      <th>reviews_from_critics</th>\n",
       "      <th>popularity</th>\n",
       "      <th>subgroup</th>\n",
       "    </tr>\n",
       "  </thead>\n",
       "  <tbody>\n",
       "    <tr>\n",
       "      <th>0</th>\n",
       "      <td>tt0118866</td>\n",
       "      <td>9</td>\n",
       "      <td>0.298772</td>\n",
       "      <td>0.374605</td>\n",
       "      <td>0.628382</td>\n",
       "      <td>0.191606</td>\n",
       "      <td>0.918508</td>\n",
       "      <td>0.363543</td>\n",
       "      <td>0.057377</td>\n",
       "      <td>0.010189</td>\n",
       "      <td>1</td>\n",
       "    </tr>\n",
       "    <tr>\n",
       "      <th>1</th>\n",
       "      <td>tt0115685</td>\n",
       "      <td>9</td>\n",
       "      <td>0.015606</td>\n",
       "      <td>0.300716</td>\n",
       "      <td>0.737798</td>\n",
       "      <td>0.226104</td>\n",
       "      <td>0.989704</td>\n",
       "      <td>0.201614</td>\n",
       "      <td>0.105191</td>\n",
       "      <td>0.035120</td>\n",
       "      <td>1</td>\n",
       "    </tr>\n",
       "    <tr>\n",
       "      <th>2</th>\n",
       "      <td>tt0044811</td>\n",
       "      <td>9</td>\n",
       "      <td>0.205846</td>\n",
       "      <td>0.191588</td>\n",
       "      <td>0.589875</td>\n",
       "      <td>0.166897</td>\n",
       "      <td>0.923672</td>\n",
       "      <td>0.324091</td>\n",
       "      <td>0.019126</td>\n",
       "      <td>0.004061</td>\n",
       "      <td>1</td>\n",
       "    </tr>\n",
       "    <tr>\n",
       "      <th>3</th>\n",
       "      <td>tt0466766</td>\n",
       "      <td>9</td>\n",
       "      <td>0.863554</td>\n",
       "      <td>0.280539</td>\n",
       "      <td>0.577218</td>\n",
       "      <td>0.605527</td>\n",
       "      <td>0.813284</td>\n",
       "      <td>0.078678</td>\n",
       "      <td>0.034153</td>\n",
       "      <td>0.009602</td>\n",
       "      <td>2</td>\n",
       "    </tr>\n",
       "    <tr>\n",
       "      <th>4</th>\n",
       "      <td>tt0122933</td>\n",
       "      <td>9</td>\n",
       "      <td>0.666472</td>\n",
       "      <td>0.184731</td>\n",
       "      <td>0.858381</td>\n",
       "      <td>0.379327</td>\n",
       "      <td>0.822882</td>\n",
       "      <td>0.363266</td>\n",
       "      <td>0.183060</td>\n",
       "      <td>0.041249</td>\n",
       "      <td>2</td>\n",
       "    </tr>\n",
       "  </tbody>\n",
       "</table>\n",
       "</div>"
      ],
      "text/plain": [
       "          id  group  review_1st  review_2nd  description_1st  description_2nd  \\\n",
       "0  tt0118866      9    0.298772    0.374605         0.628382         0.191606   \n",
       "1  tt0115685      9    0.015606    0.300716         0.737798         0.226104   \n",
       "2  tt0044811      9    0.205846    0.191588         0.589875         0.166897   \n",
       "3  tt0466766      9    0.863554    0.280539         0.577218         0.605527   \n",
       "4  tt0122933      9    0.666472    0.184731         0.858381         0.379327   \n",
       "\n",
       "   overview_1st  overview_2nd  reviews_from_critics  popularity  subgroup  \n",
       "0      0.918508      0.363543              0.057377    0.010189         1  \n",
       "1      0.989704      0.201614              0.105191    0.035120         1  \n",
       "2      0.923672      0.324091              0.019126    0.004061         1  \n",
       "3      0.813284      0.078678              0.034153    0.009602         2  \n",
       "4      0.822882      0.363266              0.183060    0.041249         2  "
      ]
     },
     "execution_count": 72,
     "metadata": {},
     "output_type": "execute_result"
    }
   ],
   "source": [
    "group9.head()"
   ]
  },
  {
   "cell_type": "code",
   "execution_count": 73,
   "metadata": {},
   "outputs": [],
   "source": [
    "group_9_1 = group9[group9['subgroup'] == 1].shape[0]\n",
    "group_9_2 = group9[group9['subgroup'] == 2].shape[0]"
   ]
  },
  {
   "cell_type": "markdown",
   "metadata": {},
   "source": [
    "# Group 10(USA_English_Joseph L. Mankiewicz_Crime) Clustering"
   ]
  },
  {
   "cell_type": "code",
   "execution_count": 74,
   "metadata": {},
   "outputs": [
    {
     "data": {
      "text/plain": [
       "'/Users/jaykim/Documents/Yeartwo/Case_studies/case2/Data/cluster16_kmode/USA_English_Joseph L. Mankiewicz_Crime.csv'"
      ]
     },
     "execution_count": 74,
     "metadata": {},
     "output_type": "execute_result"
    }
   ],
   "source": [
    "csv_files[9]"
   ]
  },
  {
   "cell_type": "code",
   "execution_count": 75,
   "metadata": {},
   "outputs": [
    {
     "ename": "ValueError",
     "evalue": "n_samples=2 should be >= n_clusters=3",
     "output_type": "error",
     "traceback": [
      "\u001b[0;31m---------------------------------------------------------------------------\u001b[0m",
      "\u001b[0;31mValueError\u001b[0m                                Traceback (most recent call last)",
      "\u001b[0;32m<ipython-input-75-669198f5f796>\u001b[0m in \u001b[0;36m<module>\u001b[0;34m\u001b[0m\n\u001b[0;32m----> 1\u001b[0;31m \u001b[0mkmeans_elbow_plot\u001b[0m\u001b[0;34m(\u001b[0m\u001b[0;36m9\u001b[0m\u001b[0;34m)\u001b[0m\u001b[0;34m\u001b[0m\u001b[0;34m\u001b[0m\u001b[0m\n\u001b[0m",
      "\u001b[0;32m<ipython-input-26-80caa692796e>\u001b[0m in \u001b[0;36mkmeans_elbow_plot\u001b[0;34m(i)\u001b[0m\n\u001b[1;32m     20\u001b[0m     \u001b[0;32mfor\u001b[0m \u001b[0mi\u001b[0m \u001b[0;32min\u001b[0m \u001b[0mrange\u001b[0m\u001b[0;34m(\u001b[0m\u001b[0;36m1\u001b[0m\u001b[0;34m,\u001b[0m \u001b[0;36m9\u001b[0m\u001b[0;34m)\u001b[0m\u001b[0;34m:\u001b[0m\u001b[0;34m\u001b[0m\u001b[0;34m\u001b[0m\u001b[0m\n\u001b[1;32m     21\u001b[0m         \u001b[0mkmeans\u001b[0m \u001b[0;34m=\u001b[0m \u001b[0mKMeans\u001b[0m\u001b[0;34m(\u001b[0m\u001b[0mn_clusters\u001b[0m \u001b[0;34m=\u001b[0m \u001b[0mi\u001b[0m\u001b[0;34m,\u001b[0m \u001b[0minit\u001b[0m \u001b[0;34m=\u001b[0m \u001b[0;34m'k-means++'\u001b[0m\u001b[0;34m,\u001b[0m \u001b[0mrandom_state\u001b[0m \u001b[0;34m=\u001b[0m \u001b[0;36m42\u001b[0m\u001b[0;34m)\u001b[0m\u001b[0;34m\u001b[0m\u001b[0;34m\u001b[0m\u001b[0m\n\u001b[0;32m---> 22\u001b[0;31m         \u001b[0mkmeans\u001b[0m\u001b[0;34m.\u001b[0m\u001b[0mfit\u001b[0m\u001b[0;34m(\u001b[0m\u001b[0mX\u001b[0m\u001b[0;34m)\u001b[0m\u001b[0;34m\u001b[0m\u001b[0;34m\u001b[0m\u001b[0m\n\u001b[0m\u001b[1;32m     23\u001b[0m         \u001b[0mwcss\u001b[0m\u001b[0;34m.\u001b[0m\u001b[0mappend\u001b[0m\u001b[0;34m(\u001b[0m\u001b[0mkmeans\u001b[0m\u001b[0;34m.\u001b[0m\u001b[0minertia_\u001b[0m\u001b[0;34m)\u001b[0m\u001b[0;34m\u001b[0m\u001b[0;34m\u001b[0m\u001b[0m\n\u001b[1;32m     24\u001b[0m \u001b[0;34m\u001b[0m\u001b[0m\n",
      "\u001b[0;32m~/opt/anaconda3/lib/python3.8/site-packages/sklearn/cluster/_kmeans.py\u001b[0m in \u001b[0;36mfit\u001b[0;34m(self, X, y, sample_weight)\u001b[0m\n\u001b[1;32m    995\u001b[0m         \u001b[0;31m# verify that the number of samples given is larger than k\u001b[0m\u001b[0;34m\u001b[0m\u001b[0;34m\u001b[0m\u001b[0;34m\u001b[0m\u001b[0m\n\u001b[1;32m    996\u001b[0m         \u001b[0;32mif\u001b[0m \u001b[0m_num_samples\u001b[0m\u001b[0;34m(\u001b[0m\u001b[0mX\u001b[0m\u001b[0;34m)\u001b[0m \u001b[0;34m<\u001b[0m \u001b[0mself\u001b[0m\u001b[0;34m.\u001b[0m\u001b[0mn_clusters\u001b[0m\u001b[0;34m:\u001b[0m\u001b[0;34m\u001b[0m\u001b[0;34m\u001b[0m\u001b[0m\n\u001b[0;32m--> 997\u001b[0;31m             raise ValueError(\"n_samples=%d should be >= n_clusters=%d\" % (\n\u001b[0m\u001b[1;32m    998\u001b[0m                 _num_samples(X), self.n_clusters))\n\u001b[1;32m    999\u001b[0m \u001b[0;34m\u001b[0m\u001b[0m\n",
      "\u001b[0;31mValueError\u001b[0m: n_samples=2 should be >= n_clusters=3"
     ]
    }
   ],
   "source": [
    "kmeans_elbow_plot(9)"
   ]
  },
  {
   "cell_type": "markdown",
   "metadata": {},
   "source": [
    "Oh, it returns an error! Let's see the original data to examine what the problem is."
   ]
  },
  {
   "cell_type": "code",
   "execution_count": 76,
   "metadata": {},
   "outputs": [
    {
     "data": {
      "text/html": [
       "<div>\n",
       "<style scoped>\n",
       "    .dataframe tbody tr th:only-of-type {\n",
       "        vertical-align: middle;\n",
       "    }\n",
       "\n",
       "    .dataframe tbody tr th {\n",
       "        vertical-align: top;\n",
       "    }\n",
       "\n",
       "    .dataframe thead th {\n",
       "        text-align: right;\n",
       "    }\n",
       "</style>\n",
       "<table border=\"1\" class=\"dataframe\">\n",
       "  <thead>\n",
       "    <tr style=\"text-align: right;\">\n",
       "      <th></th>\n",
       "      <th>id</th>\n",
       "      <th>review_1st</th>\n",
       "      <th>review_2nd</th>\n",
       "      <th>description_1st</th>\n",
       "      <th>description_2nd</th>\n",
       "      <th>overview_1st</th>\n",
       "      <th>overview_2nd</th>\n",
       "      <th>votes</th>\n",
       "      <th>reviews_from_critics</th>\n",
       "      <th>popularity</th>\n",
       "      <th>recommendation1</th>\n",
       "      <th>recommendation2</th>\n",
       "      <th>recommendation3</th>\n",
       "      <th>recommendation4</th>\n",
       "      <th>recommendation5</th>\n",
       "      <th>recommendation6</th>\n",
       "    </tr>\n",
       "  </thead>\n",
       "  <tbody>\n",
       "    <tr>\n",
       "      <th>0</th>\n",
       "      <td>tt0038965</td>\n",
       "      <td>3.324017</td>\n",
       "      <td>12.474213</td>\n",
       "      <td>21.676123</td>\n",
       "      <td>-1.748538</td>\n",
       "      <td>11.242948</td>\n",
       "      <td>1.214908</td>\n",
       "      <td>6.55</td>\n",
       "      <td>27.0</td>\n",
       "      <td>1.194854</td>\n",
       "      <td>tt0041487</td>\n",
       "      <td>NaN</td>\n",
       "      <td>NaN</td>\n",
       "      <td>NaN</td>\n",
       "      <td>NaN</td>\n",
       "      <td>NaN</td>\n",
       "    </tr>\n",
       "    <tr>\n",
       "      <th>1</th>\n",
       "      <td>tt0041487</td>\n",
       "      <td>0.726229</td>\n",
       "      <td>12.790117</td>\n",
       "      <td>21.064900</td>\n",
       "      <td>-2.086994</td>\n",
       "      <td>10.730624</td>\n",
       "      <td>2.127908</td>\n",
       "      <td>6.45</td>\n",
       "      <td>18.0</td>\n",
       "      <td>1.585850</td>\n",
       "      <td>tt0038965</td>\n",
       "      <td>tt0040087</td>\n",
       "      <td>NaN</td>\n",
       "      <td>NaN</td>\n",
       "      <td>NaN</td>\n",
       "      <td>NaN</td>\n",
       "    </tr>\n",
       "  </tbody>\n",
       "</table>\n",
       "</div>"
      ],
      "text/plain": [
       "          id  review_1st  review_2nd  description_1st  description_2nd  \\\n",
       "0  tt0038965    3.324017   12.474213        21.676123        -1.748538   \n",
       "1  tt0041487    0.726229   12.790117        21.064900        -2.086994   \n",
       "\n",
       "   overview_1st  overview_2nd  votes  reviews_from_critics  popularity  \\\n",
       "0     11.242948      1.214908   6.55                  27.0    1.194854   \n",
       "1     10.730624      2.127908   6.45                  18.0    1.585850   \n",
       "\n",
       "  recommendation1 recommendation2  recommendation3  recommendation4  \\\n",
       "0       tt0041487             NaN              NaN              NaN   \n",
       "1       tt0038965       tt0040087              NaN              NaN   \n",
       "\n",
       "   recommendation5  recommendation6  \n",
       "0              NaN              NaN  \n",
       "1              NaN              NaN  "
      ]
     },
     "execution_count": 76,
     "metadata": {},
     "output_type": "execute_result"
    }
   ],
   "source": [
    "pd.read_csv(csv_files[9])"
   ]
  },
  {
   "cell_type": "markdown",
   "metadata": {},
   "source": [
    "Since the group has only 2 elements, K-means clustering cannot be performed on this group. Let's not use this group."
   ]
  },
  {
   "cell_type": "markdown",
   "metadata": {},
   "source": [
    "# Group 11(Japan_Japanese_Akira Kurosawa_Animation) Clustering"
   ]
  },
  {
   "cell_type": "code",
   "execution_count": 77,
   "metadata": {
    "scrolled": true
   },
   "outputs": [
    {
     "data": {
      "text/plain": [
       "'/Users/jaykim/Documents/Yeartwo/Case_studies/case2/Data/cluster16_kmode/Japan_Japanese_Akira Kurosawa_Animation.csv'"
      ]
     },
     "execution_count": 77,
     "metadata": {},
     "output_type": "execute_result"
    }
   ],
   "source": [
    "csv_files[10]"
   ]
  },
  {
   "cell_type": "code",
   "execution_count": 78,
   "metadata": {
    "scrolled": false
   },
   "outputs": [
    {
     "data": {
      "image/png": "[encoded data removed]",
      "text/plain": [
       "<Figure size 432x288 with 1 Axes>"
      ]
     },
     "metadata": {
      "needs_background": "light"
     },
     "output_type": "display_data"
    }
   ],
   "source": [
    "kmeans_elbow_plot(10)"
   ]
  },
  {
   "cell_type": "code",
   "execution_count": 79,
   "metadata": {},
   "outputs": [],
   "source": [
    "group10 = kmeans_create_subgroup(10, k=3)\n",
    "group10[\"group\"] = 10"
   ]
  },
  {
   "cell_type": "code",
   "execution_count": 80,
   "metadata": {
    "scrolled": true
   },
   "outputs": [
    {
     "data": {
      "text/html": [
       "<div>\n",
       "<style scoped>\n",
       "    .dataframe tbody tr th:only-of-type {\n",
       "        vertical-align: middle;\n",
       "    }\n",
       "\n",
       "    .dataframe tbody tr th {\n",
       "        vertical-align: top;\n",
       "    }\n",
       "\n",
       "    .dataframe thead th {\n",
       "        text-align: right;\n",
       "    }\n",
       "</style>\n",
       "<table border=\"1\" class=\"dataframe\">\n",
       "  <thead>\n",
       "    <tr style=\"text-align: right;\">\n",
       "      <th></th>\n",
       "      <th>id</th>\n",
       "      <th>group</th>\n",
       "      <th>review_1st</th>\n",
       "      <th>review_2nd</th>\n",
       "      <th>description_1st</th>\n",
       "      <th>description_2nd</th>\n",
       "      <th>overview_1st</th>\n",
       "      <th>overview_2nd</th>\n",
       "      <th>reviews_from_critics</th>\n",
       "      <th>popularity</th>\n",
       "      <th>subgroup</th>\n",
       "    </tr>\n",
       "  </thead>\n",
       "  <tbody>\n",
       "    <tr>\n",
       "      <th>0</th>\n",
       "      <td>tt0065755</td>\n",
       "      <td>10</td>\n",
       "      <td>0.756809</td>\n",
       "      <td>0.470807</td>\n",
       "      <td>0.450287</td>\n",
       "      <td>0.836195</td>\n",
       "      <td>0.752243</td>\n",
       "      <td>0.126973</td>\n",
       "      <td>0.056011</td>\n",
       "      <td>0.000036</td>\n",
       "      <td>2</td>\n",
       "    </tr>\n",
       "    <tr>\n",
       "      <th>1</th>\n",
       "      <td>tt0235712</td>\n",
       "      <td>10</td>\n",
       "      <td>0.442717</td>\n",
       "      <td>0.118079</td>\n",
       "      <td>0.392469</td>\n",
       "      <td>0.369931</td>\n",
       "      <td>0.892023</td>\n",
       "      <td>0.086297</td>\n",
       "      <td>0.073770</td>\n",
       "      <td>0.027055</td>\n",
       "      <td>1</td>\n",
       "    </tr>\n",
       "    <tr>\n",
       "      <th>2</th>\n",
       "      <td>tt0831888</td>\n",
       "      <td>10</td>\n",
       "      <td>0.457365</td>\n",
       "      <td>0.710846</td>\n",
       "      <td>0.530888</td>\n",
       "      <td>0.642448</td>\n",
       "      <td>0.818548</td>\n",
       "      <td>0.164011</td>\n",
       "      <td>0.079235</td>\n",
       "      <td>0.037935</td>\n",
       "      <td>2</td>\n",
       "    </tr>\n",
       "    <tr>\n",
       "      <th>3</th>\n",
       "      <td>tt0120408</td>\n",
       "      <td>10</td>\n",
       "      <td>0.346268</td>\n",
       "      <td>0.400369</td>\n",
       "      <td>0.853297</td>\n",
       "      <td>0.362581</td>\n",
       "      <td>0.735779</td>\n",
       "      <td>0.314755</td>\n",
       "      <td>0.058743</td>\n",
       "      <td>0.005914</td>\n",
       "      <td>3</td>\n",
       "    </tr>\n",
       "    <tr>\n",
       "      <th>4</th>\n",
       "      <td>tt0158714</td>\n",
       "      <td>10</td>\n",
       "      <td>0.527040</td>\n",
       "      <td>0.796825</td>\n",
       "      <td>0.746312</td>\n",
       "      <td>0.301619</td>\n",
       "      <td>0.734345</td>\n",
       "      <td>0.309143</td>\n",
       "      <td>0.157104</td>\n",
       "      <td>0.039058</td>\n",
       "      <td>3</td>\n",
       "    </tr>\n",
       "  </tbody>\n",
       "</table>\n",
       "</div>"
      ],
      "text/plain": [
       "          id  group  review_1st  review_2nd  description_1st  description_2nd  \\\n",
       "0  tt0065755     10    0.756809    0.470807         0.450287         0.836195   \n",
       "1  tt0235712     10    0.442717    0.118079         0.392469         0.369931   \n",
       "2  tt0831888     10    0.457365    0.710846         0.530888         0.642448   \n",
       "3  tt0120408     10    0.346268    0.400369         0.853297         0.362581   \n",
       "4  tt0158714     10    0.527040    0.796825         0.746312         0.301619   \n",
       "\n",
       "   overview_1st  overview_2nd  reviews_from_critics  popularity  subgroup  \n",
       "0      0.752243      0.126973              0.056011    0.000036         2  \n",
       "1      0.892023      0.086297              0.073770    0.027055         1  \n",
       "2      0.818548      0.164011              0.079235    0.037935         2  \n",
       "3      0.735779      0.314755              0.058743    0.005914         3  \n",
       "4      0.734345      0.309143              0.157104    0.039058         3  "
      ]
     },
     "execution_count": 80,
     "metadata": {},
     "output_type": "execute_result"
    }
   ],
   "source": [
    "group10.head()"
   ]
  },
  {
   "cell_type": "code",
   "execution_count": 81,
   "metadata": {},
   "outputs": [],
   "source": [
    "group_11_1 = group10[group10['subgroup'] == 1].shape[0]\n",
    "group_11_2 = group10[group10['subgroup'] == 2].shape[0]\n",
    "group_11_3 = group10[group10['subgroup'] == 3].shape[0]"
   ]
  },
  {
   "cell_type": "markdown",
   "metadata": {},
   "source": [
    "# Group 12(USA_English_Charles Jarrott_Biography) Clustering"
   ]
  },
  {
   "cell_type": "code",
   "execution_count": 82,
   "metadata": {},
   "outputs": [
    {
     "data": {
      "text/plain": [
       "'/Users/jaykim/Documents/Yeartwo/Case_studies/case2/Data/cluster16_kmode/USA_English_Charles Jarrott_Biography.csv'"
      ]
     },
     "execution_count": 82,
     "metadata": {},
     "output_type": "execute_result"
    }
   ],
   "source": [
    "csv_files[11]"
   ]
  },
  {
   "cell_type": "code",
   "execution_count": 83,
   "metadata": {},
   "outputs": [
    {
     "data": {
      "image/png": "[encoded data removed]",
      "text/plain": [
       "<Figure size 432x288 with 1 Axes>"
      ]
     },
     "metadata": {
      "needs_background": "light"
     },
     "output_type": "display_data"
    }
   ],
   "source": [
    "kmeans_elbow_plot(11)"
   ]
  },
  {
   "cell_type": "code",
   "execution_count": 84,
   "metadata": {},
   "outputs": [],
   "source": [
    "group11 = kmeans_create_subgroup(11, k=3)\n",
    "group11[\"group\"] = 11"
   ]
  },
  {
   "cell_type": "code",
   "execution_count": 85,
   "metadata": {},
   "outputs": [
    {
     "data": {
      "text/html": [
       "<div>\n",
       "<style scoped>\n",
       "    .dataframe tbody tr th:only-of-type {\n",
       "        vertical-align: middle;\n",
       "    }\n",
       "\n",
       "    .dataframe tbody tr th {\n",
       "        vertical-align: top;\n",
       "    }\n",
       "\n",
       "    .dataframe thead th {\n",
       "        text-align: right;\n",
       "    }\n",
       "</style>\n",
       "<table border=\"1\" class=\"dataframe\">\n",
       "  <thead>\n",
       "    <tr style=\"text-align: right;\">\n",
       "      <th></th>\n",
       "      <th>id</th>\n",
       "      <th>group</th>\n",
       "      <th>review_1st</th>\n",
       "      <th>review_2nd</th>\n",
       "      <th>description_1st</th>\n",
       "      <th>description_2nd</th>\n",
       "      <th>overview_1st</th>\n",
       "      <th>overview_2nd</th>\n",
       "      <th>reviews_from_critics</th>\n",
       "      <th>popularity</th>\n",
       "      <th>subgroup</th>\n",
       "    </tr>\n",
       "  </thead>\n",
       "  <tbody>\n",
       "    <tr>\n",
       "      <th>0</th>\n",
       "      <td>tt0073496</td>\n",
       "      <td>11</td>\n",
       "      <td>0.322174</td>\n",
       "      <td>0.200904</td>\n",
       "      <td>0.472221</td>\n",
       "      <td>0.186062</td>\n",
       "      <td>0.905646</td>\n",
       "      <td>0.032059</td>\n",
       "      <td>0.002732</td>\n",
       "      <td>0.000213</td>\n",
       "      <td>1</td>\n",
       "    </tr>\n",
       "    <tr>\n",
       "      <th>1</th>\n",
       "      <td>tt0071746</td>\n",
       "      <td>11</td>\n",
       "      <td>0.529312</td>\n",
       "      <td>0.259755</td>\n",
       "      <td>0.186741</td>\n",
       "      <td>0.466427</td>\n",
       "      <td>0.829823</td>\n",
       "      <td>0.341740</td>\n",
       "      <td>0.086066</td>\n",
       "      <td>0.039367</td>\n",
       "      <td>1</td>\n",
       "    </tr>\n",
       "    <tr>\n",
       "      <th>2</th>\n",
       "      <td>tt0101578</td>\n",
       "      <td>11</td>\n",
       "      <td>0.414465</td>\n",
       "      <td>0.789208</td>\n",
       "      <td>0.313536</td>\n",
       "      <td>0.490535</td>\n",
       "      <td>0.760353</td>\n",
       "      <td>0.330588</td>\n",
       "      <td>0.002732</td>\n",
       "      <td>0.000813</td>\n",
       "      <td>2</td>\n",
       "    </tr>\n",
       "    <tr>\n",
       "      <th>3</th>\n",
       "      <td>tt0119586</td>\n",
       "      <td>11</td>\n",
       "      <td>0.326589</td>\n",
       "      <td>0.186633</td>\n",
       "      <td>0.206197</td>\n",
       "      <td>0.328361</td>\n",
       "      <td>0.830099</td>\n",
       "      <td>0.414388</td>\n",
       "      <td>0.032787</td>\n",
       "      <td>0.006064</td>\n",
       "      <td>1</td>\n",
       "    </tr>\n",
       "    <tr>\n",
       "      <th>4</th>\n",
       "      <td>tt0098219</td>\n",
       "      <td>11</td>\n",
       "      <td>0.716832</td>\n",
       "      <td>0.775446</td>\n",
       "      <td>0.245662</td>\n",
       "      <td>0.459116</td>\n",
       "      <td>0.823001</td>\n",
       "      <td>0.255546</td>\n",
       "      <td>0.013661</td>\n",
       "      <td>0.011826</td>\n",
       "      <td>2</td>\n",
       "    </tr>\n",
       "  </tbody>\n",
       "</table>\n",
       "</div>"
      ],
      "text/plain": [
       "          id  group  review_1st  review_2nd  description_1st  description_2nd  \\\n",
       "0  tt0073496     11    0.322174    0.200904         0.472221         0.186062   \n",
       "1  tt0071746     11    0.529312    0.259755         0.186741         0.466427   \n",
       "2  tt0101578     11    0.414465    0.789208         0.313536         0.490535   \n",
       "3  tt0119586     11    0.326589    0.186633         0.206197         0.328361   \n",
       "4  tt0098219     11    0.716832    0.775446         0.245662         0.459116   \n",
       "\n",
       "   overview_1st  overview_2nd  reviews_from_critics  popularity  subgroup  \n",
       "0      0.905646      0.032059              0.002732    0.000213         1  \n",
       "1      0.829823      0.341740              0.086066    0.039367         1  \n",
       "2      0.760353      0.330588              0.002732    0.000813         2  \n",
       "3      0.830099      0.414388              0.032787    0.006064         1  \n",
       "4      0.823001      0.255546              0.013661    0.011826         2  "
      ]
     },
     "execution_count": 85,
     "metadata": {},
     "output_type": "execute_result"
    }
   ],
   "source": [
    "group11.head()"
   ]
  },
  {
   "cell_type": "code",
   "execution_count": 86,
   "metadata": {},
   "outputs": [],
   "source": [
    "group_12_1 = group11[group11['subgroup'] == 1].shape[0]\n",
    "group_12_2 = group11[group11['subgroup'] == 2].shape[0]\n",
    "group_12_3 = group11[group11['subgroup'] == 3].shape[0]"
   ]
  },
  {
   "cell_type": "markdown",
   "metadata": {},
   "source": [
    "# Group 13(USA_English_Fritz Lang_Crime) Clustering"
   ]
  },
  {
   "cell_type": "code",
   "execution_count": 87,
   "metadata": {},
   "outputs": [
    {
     "data": {
      "text/plain": [
       "'/Users/jaykim/Documents/Yeartwo/Case_studies/case2/Data/cluster16_kmode/USA_English_Fritz Lang_Crime.csv'"
      ]
     },
     "execution_count": 87,
     "metadata": {},
     "output_type": "execute_result"
    }
   ],
   "source": [
    "csv_files[12]"
   ]
  },
  {
   "cell_type": "code",
   "execution_count": 88,
   "metadata": {},
   "outputs": [
    {
     "data": {
      "image/png": "[encoded data removed]",
      "text/plain": [
       "<Figure size 432x288 with 1 Axes>"
      ]
     },
     "metadata": {
      "needs_background": "light"
     },
     "output_type": "display_data"
    }
   ],
   "source": [
    "kmeans_elbow_plot(12)"
   ]
  },
  {
   "cell_type": "code",
   "execution_count": 89,
   "metadata": {},
   "outputs": [],
   "source": [
    "group12 = kmeans_create_subgroup(12, k=3)\n",
    "group12[\"group\"] = 12"
   ]
  },
  {
   "cell_type": "code",
   "execution_count": 90,
   "metadata": {},
   "outputs": [
    {
     "data": {
      "text/html": [
       "<div>\n",
       "<style scoped>\n",
       "    .dataframe tbody tr th:only-of-type {\n",
       "        vertical-align: middle;\n",
       "    }\n",
       "\n",
       "    .dataframe tbody tr th {\n",
       "        vertical-align: top;\n",
       "    }\n",
       "\n",
       "    .dataframe thead th {\n",
       "        text-align: right;\n",
       "    }\n",
       "</style>\n",
       "<table border=\"1\" class=\"dataframe\">\n",
       "  <thead>\n",
       "    <tr style=\"text-align: right;\">\n",
       "      <th></th>\n",
       "      <th>id</th>\n",
       "      <th>group</th>\n",
       "      <th>review_1st</th>\n",
       "      <th>review_2nd</th>\n",
       "      <th>description_1st</th>\n",
       "      <th>description_2nd</th>\n",
       "      <th>overview_1st</th>\n",
       "      <th>overview_2nd</th>\n",
       "      <th>reviews_from_critics</th>\n",
       "      <th>popularity</th>\n",
       "      <th>subgroup</th>\n",
       "    </tr>\n",
       "  </thead>\n",
       "  <tbody>\n",
       "    <tr>\n",
       "      <th>0</th>\n",
       "      <td>tt0112443</td>\n",
       "      <td>12</td>\n",
       "      <td>0.525297</td>\n",
       "      <td>0.520421</td>\n",
       "      <td>0.767956</td>\n",
       "      <td>0.724207</td>\n",
       "      <td>0.810570</td>\n",
       "      <td>0.174551</td>\n",
       "      <td>0.017760</td>\n",
       "      <td>0.004930</td>\n",
       "      <td>1</td>\n",
       "    </tr>\n",
       "    <tr>\n",
       "      <th>1</th>\n",
       "      <td>tt0084732</td>\n",
       "      <td>12</td>\n",
       "      <td>0.648486</td>\n",
       "      <td>0.097900</td>\n",
       "      <td>0.916698</td>\n",
       "      <td>0.484419</td>\n",
       "      <td>0.875263</td>\n",
       "      <td>0.126149</td>\n",
       "      <td>0.034153</td>\n",
       "      <td>0.020340</td>\n",
       "      <td>3</td>\n",
       "    </tr>\n",
       "    <tr>\n",
       "      <th>2</th>\n",
       "      <td>tt0221218</td>\n",
       "      <td>12</td>\n",
       "      <td>0.395685</td>\n",
       "      <td>0.198193</td>\n",
       "      <td>0.628770</td>\n",
       "      <td>0.024888</td>\n",
       "      <td>0.919410</td>\n",
       "      <td>0.245117</td>\n",
       "      <td>0.136612</td>\n",
       "      <td>0.034684</td>\n",
       "      <td>2</td>\n",
       "    </tr>\n",
       "    <tr>\n",
       "      <th>3</th>\n",
       "      <td>tt0046878</td>\n",
       "      <td>12</td>\n",
       "      <td>0.635641</td>\n",
       "      <td>0.140246</td>\n",
       "      <td>0.758477</td>\n",
       "      <td>0.554044</td>\n",
       "      <td>0.900043</td>\n",
       "      <td>0.104158</td>\n",
       "      <td>0.062842</td>\n",
       "      <td>0.017358</td>\n",
       "      <td>3</td>\n",
       "    </tr>\n",
       "    <tr>\n",
       "      <th>4</th>\n",
       "      <td>tt0161292</td>\n",
       "      <td>12</td>\n",
       "      <td>0.636992</td>\n",
       "      <td>0.667674</td>\n",
       "      <td>0.352434</td>\n",
       "      <td>0.082761</td>\n",
       "      <td>0.933241</td>\n",
       "      <td>0.319661</td>\n",
       "      <td>0.049180</td>\n",
       "      <td>0.016192</td>\n",
       "      <td>2</td>\n",
       "    </tr>\n",
       "  </tbody>\n",
       "</table>\n",
       "</div>"
      ],
      "text/plain": [
       "          id  group  review_1st  review_2nd  description_1st  description_2nd  \\\n",
       "0  tt0112443     12    0.525297    0.520421         0.767956         0.724207   \n",
       "1  tt0084732     12    0.648486    0.097900         0.916698         0.484419   \n",
       "2  tt0221218     12    0.395685    0.198193         0.628770         0.024888   \n",
       "3  tt0046878     12    0.635641    0.140246         0.758477         0.554044   \n",
       "4  tt0161292     12    0.636992    0.667674         0.352434         0.082761   \n",
       "\n",
       "   overview_1st  overview_2nd  reviews_from_critics  popularity  subgroup  \n",
       "0      0.810570      0.174551              0.017760    0.004930         1  \n",
       "1      0.875263      0.126149              0.034153    0.020340         3  \n",
       "2      0.919410      0.245117              0.136612    0.034684         2  \n",
       "3      0.900043      0.104158              0.062842    0.017358         3  \n",
       "4      0.933241      0.319661              0.049180    0.016192         2  "
      ]
     },
     "execution_count": 90,
     "metadata": {},
     "output_type": "execute_result"
    }
   ],
   "source": [
    "group12.head()"
   ]
  },
  {
   "cell_type": "code",
   "execution_count": 91,
   "metadata": {},
   "outputs": [],
   "source": [
    "group_13_1 = group12[group12['subgroup'] == 1].shape[0]\n",
    "group_13_2 = group12[group12['subgroup'] == 2].shape[0]\n",
    "group_13_3 = group12[group12['subgroup'] == 3].shape[0]"
   ]
  },
  {
   "cell_type": "markdown",
   "metadata": {},
   "source": [
    "# Group 14(USA_English_Fritz Lang_Crime) Clustering"
   ]
  },
  {
   "cell_type": "code",
   "execution_count": 92,
   "metadata": {},
   "outputs": [
    {
     "data": {
      "text/plain": [
       "'/Users/jaykim/Documents/Yeartwo/Case_studies/case2/Data/cluster16_kmode/USA_English_Harry Basil_Comedy.csv'"
      ]
     },
     "execution_count": 92,
     "metadata": {},
     "output_type": "execute_result"
    }
   ],
   "source": [
    "csv_files[13]"
   ]
  },
  {
   "cell_type": "code",
   "execution_count": 93,
   "metadata": {},
   "outputs": [
    {
     "ename": "ValueError",
     "evalue": "n_samples=1 should be >= n_clusters=2",
     "output_type": "error",
     "traceback": [
      "\u001b[0;31m---------------------------------------------------------------------------\u001b[0m",
      "\u001b[0;31mValueError\u001b[0m                                Traceback (most recent call last)",
      "\u001b[0;32m<ipython-input-93-f13a2ab05e70>\u001b[0m in \u001b[0;36m<module>\u001b[0;34m\u001b[0m\n\u001b[0;32m----> 1\u001b[0;31m \u001b[0mkmeans_elbow_plot\u001b[0m\u001b[0;34m(\u001b[0m\u001b[0;36m13\u001b[0m\u001b[0;34m)\u001b[0m\u001b[0;34m\u001b[0m\u001b[0;34m\u001b[0m\u001b[0m\n\u001b[0m",
      "\u001b[0;32m<ipython-input-26-80caa692796e>\u001b[0m in \u001b[0;36mkmeans_elbow_plot\u001b[0;34m(i)\u001b[0m\n\u001b[1;32m     20\u001b[0m     \u001b[0;32mfor\u001b[0m \u001b[0mi\u001b[0m \u001b[0;32min\u001b[0m \u001b[0mrange\u001b[0m\u001b[0;34m(\u001b[0m\u001b[0;36m1\u001b[0m\u001b[0;34m,\u001b[0m \u001b[0;36m9\u001b[0m\u001b[0;34m)\u001b[0m\u001b[0;34m:\u001b[0m\u001b[0;34m\u001b[0m\u001b[0;34m\u001b[0m\u001b[0m\n\u001b[1;32m     21\u001b[0m         \u001b[0mkmeans\u001b[0m \u001b[0;34m=\u001b[0m \u001b[0mKMeans\u001b[0m\u001b[0;34m(\u001b[0m\u001b[0mn_clusters\u001b[0m \u001b[0;34m=\u001b[0m \u001b[0mi\u001b[0m\u001b[0;34m,\u001b[0m \u001b[0minit\u001b[0m \u001b[0;34m=\u001b[0m \u001b[0;34m'k-means++'\u001b[0m\u001b[0;34m,\u001b[0m \u001b[0mrandom_state\u001b[0m \u001b[0;34m=\u001b[0m \u001b[0;36m42\u001b[0m\u001b[0;34m)\u001b[0m\u001b[0;34m\u001b[0m\u001b[0;34m\u001b[0m\u001b[0m\n\u001b[0;32m---> 22\u001b[0;31m         \u001b[0mkmeans\u001b[0m\u001b[0;34m.\u001b[0m\u001b[0mfit\u001b[0m\u001b[0;34m(\u001b[0m\u001b[0mX\u001b[0m\u001b[0;34m)\u001b[0m\u001b[0;34m\u001b[0m\u001b[0;34m\u001b[0m\u001b[0m\n\u001b[0m\u001b[1;32m     23\u001b[0m         \u001b[0mwcss\u001b[0m\u001b[0;34m.\u001b[0m\u001b[0mappend\u001b[0m\u001b[0;34m(\u001b[0m\u001b[0mkmeans\u001b[0m\u001b[0;34m.\u001b[0m\u001b[0minertia_\u001b[0m\u001b[0;34m)\u001b[0m\u001b[0;34m\u001b[0m\u001b[0;34m\u001b[0m\u001b[0m\n\u001b[1;32m     24\u001b[0m \u001b[0;34m\u001b[0m\u001b[0m\n",
      "\u001b[0;32m~/opt/anaconda3/lib/python3.8/site-packages/sklearn/cluster/_kmeans.py\u001b[0m in \u001b[0;36mfit\u001b[0;34m(self, X, y, sample_weight)\u001b[0m\n\u001b[1;32m    995\u001b[0m         \u001b[0;31m# verify that the number of samples given is larger than k\u001b[0m\u001b[0;34m\u001b[0m\u001b[0;34m\u001b[0m\u001b[0;34m\u001b[0m\u001b[0m\n\u001b[1;32m    996\u001b[0m         \u001b[0;32mif\u001b[0m \u001b[0m_num_samples\u001b[0m\u001b[0;34m(\u001b[0m\u001b[0mX\u001b[0m\u001b[0;34m)\u001b[0m \u001b[0;34m<\u001b[0m \u001b[0mself\u001b[0m\u001b[0;34m.\u001b[0m\u001b[0mn_clusters\u001b[0m\u001b[0;34m:\u001b[0m\u001b[0;34m\u001b[0m\u001b[0;34m\u001b[0m\u001b[0m\n\u001b[0;32m--> 997\u001b[0;31m             raise ValueError(\"n_samples=%d should be >= n_clusters=%d\" % (\n\u001b[0m\u001b[1;32m    998\u001b[0m                 _num_samples(X), self.n_clusters))\n\u001b[1;32m    999\u001b[0m \u001b[0;34m\u001b[0m\u001b[0m\n",
      "\u001b[0;31mValueError\u001b[0m: n_samples=1 should be >= n_clusters=2"
     ]
    }
   ],
   "source": [
    "kmeans_elbow_plot(13)"
   ]
  },
  {
   "cell_type": "markdown",
   "metadata": {},
   "source": [
    "Oh, it returns an error! Let's see the original data to examine what the problem is."
   ]
  },
  {
   "cell_type": "code",
   "execution_count": 94,
   "metadata": {},
   "outputs": [
    {
     "data": {
      "text/html": [
       "<div>\n",
       "<style scoped>\n",
       "    .dataframe tbody tr th:only-of-type {\n",
       "        vertical-align: middle;\n",
       "    }\n",
       "\n",
       "    .dataframe tbody tr th {\n",
       "        vertical-align: top;\n",
       "    }\n",
       "\n",
       "    .dataframe thead th {\n",
       "        text-align: right;\n",
       "    }\n",
       "</style>\n",
       "<table border=\"1\" class=\"dataframe\">\n",
       "  <thead>\n",
       "    <tr style=\"text-align: right;\">\n",
       "      <th></th>\n",
       "      <th>id</th>\n",
       "      <th>review_1st</th>\n",
       "      <th>review_2nd</th>\n",
       "      <th>description_1st</th>\n",
       "      <th>description_2nd</th>\n",
       "      <th>overview_1st</th>\n",
       "      <th>overview_2nd</th>\n",
       "      <th>votes</th>\n",
       "      <th>reviews_from_critics</th>\n",
       "      <th>popularity</th>\n",
       "      <th>recommendation1</th>\n",
       "      <th>recommendation2</th>\n",
       "      <th>recommendation3</th>\n",
       "      <th>recommendation4</th>\n",
       "      <th>recommendation5</th>\n",
       "      <th>recommendation6</th>\n",
       "    </tr>\n",
       "  </thead>\n",
       "  <tbody>\n",
       "    <tr>\n",
       "      <th>0</th>\n",
       "      <td>tt0403946</td>\n",
       "      <td>0.438067</td>\n",
       "      <td>11.663147</td>\n",
       "      <td>18.994333</td>\n",
       "      <td>-3.26644</td>\n",
       "      <td>11.685879</td>\n",
       "      <td>3.003973</td>\n",
       "      <td>4.2</td>\n",
       "      <td>6.0</td>\n",
       "      <td>2.266472</td>\n",
       "      <td>NaN</td>\n",
       "      <td>NaN</td>\n",
       "      <td>NaN</td>\n",
       "      <td>NaN</td>\n",
       "      <td>NaN</td>\n",
       "      <td>NaN</td>\n",
       "    </tr>\n",
       "  </tbody>\n",
       "</table>\n",
       "</div>"
      ],
      "text/plain": [
       "          id  review_1st  review_2nd  description_1st  description_2nd  \\\n",
       "0  tt0403946    0.438067   11.663147        18.994333         -3.26644   \n",
       "\n",
       "   overview_1st  overview_2nd  votes  reviews_from_critics  popularity  \\\n",
       "0     11.685879      3.003973    4.2                   6.0    2.266472   \n",
       "\n",
       "   recommendation1  recommendation2  recommendation3  recommendation4  \\\n",
       "0              NaN              NaN              NaN              NaN   \n",
       "\n",
       "   recommendation5  recommendation6  \n",
       "0              NaN              NaN  "
      ]
     },
     "execution_count": 94,
     "metadata": {},
     "output_type": "execute_result"
    }
   ],
   "source": [
    "pd.read_csv(csv_files[13])"
   ]
  },
  {
   "cell_type": "markdown",
   "metadata": {},
   "source": [
    "Since the group has only 1 element, K-means clustering cannot be performed on this group. Let's not use this group."
   ]
  },
  {
   "cell_type": "markdown",
   "metadata": {},
   "source": [
    "# Group 15(USA_English_Fritz Lang_Crime) Clustering"
   ]
  },
  {
   "cell_type": "code",
   "execution_count": 95,
   "metadata": {},
   "outputs": [
    {
     "data": {
      "text/plain": [
       "'/Users/jaykim/Documents/Yeartwo/Case_studies/case2/Data/cluster16_kmode/USA_English_Joel Silberg_Comedy.csv'"
      ]
     },
     "execution_count": 95,
     "metadata": {},
     "output_type": "execute_result"
    }
   ],
   "source": [
    "csv_files[14]"
   ]
  },
  {
   "cell_type": "code",
   "execution_count": 96,
   "metadata": {},
   "outputs": [
    {
     "ename": "ValueError",
     "evalue": "n_samples=1 should be >= n_clusters=2",
     "output_type": "error",
     "traceback": [
      "\u001b[0;31m---------------------------------------------------------------------------\u001b[0m",
      "\u001b[0;31mValueError\u001b[0m                                Traceback (most recent call last)",
      "\u001b[0;32m<ipython-input-96-e6197fdec550>\u001b[0m in \u001b[0;36m<module>\u001b[0;34m\u001b[0m\n\u001b[0;32m----> 1\u001b[0;31m \u001b[0mkmeans_elbow_plot\u001b[0m\u001b[0;34m(\u001b[0m\u001b[0;36m14\u001b[0m\u001b[0;34m)\u001b[0m\u001b[0;34m\u001b[0m\u001b[0;34m\u001b[0m\u001b[0m\n\u001b[0m",
      "\u001b[0;32m<ipython-input-26-80caa692796e>\u001b[0m in \u001b[0;36mkmeans_elbow_plot\u001b[0;34m(i)\u001b[0m\n\u001b[1;32m     20\u001b[0m     \u001b[0;32mfor\u001b[0m \u001b[0mi\u001b[0m \u001b[0;32min\u001b[0m \u001b[0mrange\u001b[0m\u001b[0;34m(\u001b[0m\u001b[0;36m1\u001b[0m\u001b[0;34m,\u001b[0m \u001b[0;36m9\u001b[0m\u001b[0;34m)\u001b[0m\u001b[0;34m:\u001b[0m\u001b[0;34m\u001b[0m\u001b[0;34m\u001b[0m\u001b[0m\n\u001b[1;32m     21\u001b[0m         \u001b[0mkmeans\u001b[0m \u001b[0;34m=\u001b[0m \u001b[0mKMeans\u001b[0m\u001b[0;34m(\u001b[0m\u001b[0mn_clusters\u001b[0m \u001b[0;34m=\u001b[0m \u001b[0mi\u001b[0m\u001b[0;34m,\u001b[0m \u001b[0minit\u001b[0m \u001b[0;34m=\u001b[0m \u001b[0;34m'k-means++'\u001b[0m\u001b[0;34m,\u001b[0m \u001b[0mrandom_state\u001b[0m \u001b[0;34m=\u001b[0m \u001b[0;36m42\u001b[0m\u001b[0;34m)\u001b[0m\u001b[0;34m\u001b[0m\u001b[0;34m\u001b[0m\u001b[0m\n\u001b[0;32m---> 22\u001b[0;31m         \u001b[0mkmeans\u001b[0m\u001b[0;34m.\u001b[0m\u001b[0mfit\u001b[0m\u001b[0;34m(\u001b[0m\u001b[0mX\u001b[0m\u001b[0;34m)\u001b[0m\u001b[0;34m\u001b[0m\u001b[0;34m\u001b[0m\u001b[0m\n\u001b[0m\u001b[1;32m     23\u001b[0m         \u001b[0mwcss\u001b[0m\u001b[0;34m.\u001b[0m\u001b[0mappend\u001b[0m\u001b[0;34m(\u001b[0m\u001b[0mkmeans\u001b[0m\u001b[0;34m.\u001b[0m\u001b[0minertia_\u001b[0m\u001b[0;34m)\u001b[0m\u001b[0;34m\u001b[0m\u001b[0;34m\u001b[0m\u001b[0m\n\u001b[1;32m     24\u001b[0m \u001b[0;34m\u001b[0m\u001b[0m\n",
      "\u001b[0;32m~/opt/anaconda3/lib/python3.8/site-packages/sklearn/cluster/_kmeans.py\u001b[0m in \u001b[0;36mfit\u001b[0;34m(self, X, y, sample_weight)\u001b[0m\n\u001b[1;32m    995\u001b[0m         \u001b[0;31m# verify that the number of samples given is larger than k\u001b[0m\u001b[0;34m\u001b[0m\u001b[0;34m\u001b[0m\u001b[0;34m\u001b[0m\u001b[0m\n\u001b[1;32m    996\u001b[0m         \u001b[0;32mif\u001b[0m \u001b[0m_num_samples\u001b[0m\u001b[0;34m(\u001b[0m\u001b[0mX\u001b[0m\u001b[0;34m)\u001b[0m \u001b[0;34m<\u001b[0m \u001b[0mself\u001b[0m\u001b[0;34m.\u001b[0m\u001b[0mn_clusters\u001b[0m\u001b[0;34m:\u001b[0m\u001b[0;34m\u001b[0m\u001b[0;34m\u001b[0m\u001b[0m\n\u001b[0;32m--> 997\u001b[0;31m             raise ValueError(\"n_samples=%d should be >= n_clusters=%d\" % (\n\u001b[0m\u001b[1;32m    998\u001b[0m                 _num_samples(X), self.n_clusters))\n\u001b[1;32m    999\u001b[0m \u001b[0;34m\u001b[0m\u001b[0m\n",
      "\u001b[0;31mValueError\u001b[0m: n_samples=1 should be >= n_clusters=2"
     ]
    }
   ],
   "source": [
    "kmeans_elbow_plot(14)"
   ]
  },
  {
   "cell_type": "markdown",
   "metadata": {},
   "source": [
    "Oh, it returns an error! Let's see the original data to examine what the problem is."
   ]
  },
  {
   "cell_type": "code",
   "execution_count": 97,
   "metadata": {},
   "outputs": [
    {
     "data": {
      "text/html": [
       "<div>\n",
       "<style scoped>\n",
       "    .dataframe tbody tr th:only-of-type {\n",
       "        vertical-align: middle;\n",
       "    }\n",
       "\n",
       "    .dataframe tbody tr th {\n",
       "        vertical-align: top;\n",
       "    }\n",
       "\n",
       "    .dataframe thead th {\n",
       "        text-align: right;\n",
       "    }\n",
       "</style>\n",
       "<table border=\"1\" class=\"dataframe\">\n",
       "  <thead>\n",
       "    <tr style=\"text-align: right;\">\n",
       "      <th></th>\n",
       "      <th>id</th>\n",
       "      <th>review_1st</th>\n",
       "      <th>review_2nd</th>\n",
       "      <th>description_1st</th>\n",
       "      <th>description_2nd</th>\n",
       "      <th>overview_1st</th>\n",
       "      <th>overview_2nd</th>\n",
       "      <th>votes</th>\n",
       "      <th>reviews_from_critics</th>\n",
       "      <th>popularity</th>\n",
       "      <th>recommendation1</th>\n",
       "      <th>recommendation2</th>\n",
       "      <th>recommendation3</th>\n",
       "      <th>recommendation4</th>\n",
       "      <th>recommendation5</th>\n",
       "      <th>recommendation6</th>\n",
       "    </tr>\n",
       "  </thead>\n",
       "  <tbody>\n",
       "    <tr>\n",
       "      <th>0</th>\n",
       "      <td>tt0086998</td>\n",
       "      <td>4.052832</td>\n",
       "      <td>12.53694</td>\n",
       "      <td>19.587532</td>\n",
       "      <td>-3.268003</td>\n",
       "      <td>13.527758</td>\n",
       "      <td>1.889188</td>\n",
       "      <td>5.8</td>\n",
       "      <td>31.0</td>\n",
       "      <td>2.598283</td>\n",
       "      <td>tt0089444</td>\n",
       "      <td>NaN</td>\n",
       "      <td>NaN</td>\n",
       "      <td>NaN</td>\n",
       "      <td>NaN</td>\n",
       "      <td>NaN</td>\n",
       "    </tr>\n",
       "  </tbody>\n",
       "</table>\n",
       "</div>"
      ],
      "text/plain": [
       "          id  review_1st  review_2nd  description_1st  description_2nd  \\\n",
       "0  tt0086998    4.052832    12.53694        19.587532        -3.268003   \n",
       "\n",
       "   overview_1st  overview_2nd  votes  reviews_from_critics  popularity  \\\n",
       "0     13.527758      1.889188    5.8                  31.0    2.598283   \n",
       "\n",
       "  recommendation1  recommendation2  recommendation3  recommendation4  \\\n",
       "0       tt0089444              NaN              NaN              NaN   \n",
       "\n",
       "   recommendation5  recommendation6  \n",
       "0              NaN              NaN  "
      ]
     },
     "execution_count": 97,
     "metadata": {},
     "output_type": "execute_result"
    }
   ],
   "source": [
    "pd.read_csv(csv_files[14])"
   ]
  },
  {
   "cell_type": "markdown",
   "metadata": {},
   "source": [
    "Since the group has only 1 element, K-means clustering cannot be performed on this group. Let's not use this group."
   ]
  },
  {
   "cell_type": "markdown",
   "metadata": {},
   "source": [
    "# Group 16(USA_English, German_Leslie Fenton_Drama) Clustering"
   ]
  },
  {
   "cell_type": "code",
   "execution_count": 98,
   "metadata": {},
   "outputs": [
    {
     "data": {
      "text/plain": [
       "'/Users/jaykim/Documents/Yeartwo/Case_studies/case2/Data/cluster16_kmode/USA_English, German_Leslie Fenton_Drama.csv'"
      ]
     },
     "execution_count": 98,
     "metadata": {},
     "output_type": "execute_result"
    }
   ],
   "source": [
    "csv_files[15]"
   ]
  },
  {
   "cell_type": "code",
   "execution_count": 99,
   "metadata": {},
   "outputs": [
    {
     "ename": "ValueError",
     "evalue": "n_samples=1 should be >= n_clusters=2",
     "output_type": "error",
     "traceback": [
      "\u001b[0;31m---------------------------------------------------------------------------\u001b[0m",
      "\u001b[0;31mValueError\u001b[0m                                Traceback (most recent call last)",
      "\u001b[0;32m<ipython-input-99-91cc907fcd4d>\u001b[0m in \u001b[0;36m<module>\u001b[0;34m\u001b[0m\n\u001b[0;32m----> 1\u001b[0;31m \u001b[0mkmeans_elbow_plot\u001b[0m\u001b[0;34m(\u001b[0m\u001b[0;36m15\u001b[0m\u001b[0;34m)\u001b[0m\u001b[0;34m\u001b[0m\u001b[0;34m\u001b[0m\u001b[0m\n\u001b[0m",
      "\u001b[0;32m<ipython-input-26-80caa692796e>\u001b[0m in \u001b[0;36mkmeans_elbow_plot\u001b[0;34m(i)\u001b[0m\n\u001b[1;32m     20\u001b[0m     \u001b[0;32mfor\u001b[0m \u001b[0mi\u001b[0m \u001b[0;32min\u001b[0m \u001b[0mrange\u001b[0m\u001b[0;34m(\u001b[0m\u001b[0;36m1\u001b[0m\u001b[0;34m,\u001b[0m \u001b[0;36m9\u001b[0m\u001b[0;34m)\u001b[0m\u001b[0;34m:\u001b[0m\u001b[0;34m\u001b[0m\u001b[0;34m\u001b[0m\u001b[0m\n\u001b[1;32m     21\u001b[0m         \u001b[0mkmeans\u001b[0m \u001b[0;34m=\u001b[0m \u001b[0mKMeans\u001b[0m\u001b[0;34m(\u001b[0m\u001b[0mn_clusters\u001b[0m \u001b[0;34m=\u001b[0m \u001b[0mi\u001b[0m\u001b[0;34m,\u001b[0m \u001b[0minit\u001b[0m \u001b[0;34m=\u001b[0m \u001b[0;34m'k-means++'\u001b[0m\u001b[0;34m,\u001b[0m \u001b[0mrandom_state\u001b[0m \u001b[0;34m=\u001b[0m \u001b[0;36m42\u001b[0m\u001b[0;34m)\u001b[0m\u001b[0;34m\u001b[0m\u001b[0;34m\u001b[0m\u001b[0m\n\u001b[0;32m---> 22\u001b[0;31m         \u001b[0mkmeans\u001b[0m\u001b[0;34m.\u001b[0m\u001b[0mfit\u001b[0m\u001b[0;34m(\u001b[0m\u001b[0mX\u001b[0m\u001b[0;34m)\u001b[0m\u001b[0;34m\u001b[0m\u001b[0;34m\u001b[0m\u001b[0m\n\u001b[0m\u001b[1;32m     23\u001b[0m         \u001b[0mwcss\u001b[0m\u001b[0;34m.\u001b[0m\u001b[0mappend\u001b[0m\u001b[0;34m(\u001b[0m\u001b[0mkmeans\u001b[0m\u001b[0;34m.\u001b[0m\u001b[0minertia_\u001b[0m\u001b[0;34m)\u001b[0m\u001b[0;34m\u001b[0m\u001b[0;34m\u001b[0m\u001b[0m\n\u001b[1;32m     24\u001b[0m \u001b[0;34m\u001b[0m\u001b[0m\n",
      "\u001b[0;32m~/opt/anaconda3/lib/python3.8/site-packages/sklearn/cluster/_kmeans.py\u001b[0m in \u001b[0;36mfit\u001b[0;34m(self, X, y, sample_weight)\u001b[0m\n\u001b[1;32m    995\u001b[0m         \u001b[0;31m# verify that the number of samples given is larger than k\u001b[0m\u001b[0;34m\u001b[0m\u001b[0;34m\u001b[0m\u001b[0;34m\u001b[0m\u001b[0m\n\u001b[1;32m    996\u001b[0m         \u001b[0;32mif\u001b[0m \u001b[0m_num_samples\u001b[0m\u001b[0;34m(\u001b[0m\u001b[0mX\u001b[0m\u001b[0;34m)\u001b[0m \u001b[0;34m<\u001b[0m \u001b[0mself\u001b[0m\u001b[0;34m.\u001b[0m\u001b[0mn_clusters\u001b[0m\u001b[0;34m:\u001b[0m\u001b[0;34m\u001b[0m\u001b[0;34m\u001b[0m\u001b[0m\n\u001b[0;32m--> 997\u001b[0;31m             raise ValueError(\"n_samples=%d should be >= n_clusters=%d\" % (\n\u001b[0m\u001b[1;32m    998\u001b[0m                 _num_samples(X), self.n_clusters))\n\u001b[1;32m    999\u001b[0m \u001b[0;34m\u001b[0m\u001b[0m\n",
      "\u001b[0;31mValueError\u001b[0m: n_samples=1 should be >= n_clusters=2"
     ]
    }
   ],
   "source": [
    "kmeans_elbow_plot(15)"
   ]
  },
  {
   "cell_type": "markdown",
   "metadata": {},
   "source": [
    "Oh, it returns an error! Let's see the original data to examine what the problem is."
   ]
  },
  {
   "cell_type": "code",
   "execution_count": 100,
   "metadata": {},
   "outputs": [
    {
     "data": {
      "text/html": [
       "<div>\n",
       "<style scoped>\n",
       "    .dataframe tbody tr th:only-of-type {\n",
       "        vertical-align: middle;\n",
       "    }\n",
       "\n",
       "    .dataframe tbody tr th {\n",
       "        vertical-align: top;\n",
       "    }\n",
       "\n",
       "    .dataframe thead th {\n",
       "        text-align: right;\n",
       "    }\n",
       "</style>\n",
       "<table border=\"1\" class=\"dataframe\">\n",
       "  <thead>\n",
       "    <tr style=\"text-align: right;\">\n",
       "      <th></th>\n",
       "      <th>id</th>\n",
       "      <th>review_1st</th>\n",
       "      <th>review_2nd</th>\n",
       "      <th>description_1st</th>\n",
       "      <th>description_2nd</th>\n",
       "      <th>overview_1st</th>\n",
       "      <th>overview_2nd</th>\n",
       "      <th>votes</th>\n",
       "      <th>reviews_from_critics</th>\n",
       "      <th>popularity</th>\n",
       "      <th>recommendation1</th>\n",
       "      <th>recommendation2</th>\n",
       "      <th>recommendation3</th>\n",
       "      <th>recommendation4</th>\n",
       "      <th>recommendation5</th>\n",
       "      <th>recommendation6</th>\n",
       "    </tr>\n",
       "  </thead>\n",
       "  <tbody>\n",
       "    <tr>\n",
       "      <th>0</th>\n",
       "      <td>tt0037386</td>\n",
       "      <td>5.223167</td>\n",
       "      <td>14.189524</td>\n",
       "      <td>17.36336</td>\n",
       "      <td>-1.299123</td>\n",
       "      <td>8.347475</td>\n",
       "      <td>2.56148</td>\n",
       "      <td>6.5</td>\n",
       "      <td>12.0</td>\n",
       "      <td>0.469587</td>\n",
       "      <td>tt0041247</td>\n",
       "      <td>tt0038107</td>\n",
       "      <td>NaN</td>\n",
       "      <td>NaN</td>\n",
       "      <td>NaN</td>\n",
       "      <td>NaN</td>\n",
       "    </tr>\n",
       "  </tbody>\n",
       "</table>\n",
       "</div>"
      ],
      "text/plain": [
       "          id  review_1st  review_2nd  description_1st  description_2nd  \\\n",
       "0  tt0037386    5.223167   14.189524         17.36336        -1.299123   \n",
       "\n",
       "   overview_1st  overview_2nd  votes  reviews_from_critics  popularity  \\\n",
       "0      8.347475       2.56148    6.5                  12.0    0.469587   \n",
       "\n",
       "  recommendation1 recommendation2  recommendation3  recommendation4  \\\n",
       "0       tt0041247       tt0038107              NaN              NaN   \n",
       "\n",
       "   recommendation5  recommendation6  \n",
       "0              NaN              NaN  "
      ]
     },
     "execution_count": 100,
     "metadata": {},
     "output_type": "execute_result"
    }
   ],
   "source": [
    "pd.read_csv(csv_files[15])"
   ]
  },
  {
   "cell_type": "markdown",
   "metadata": {},
   "source": [
    "Since the group has only 1 element, K-means clustering cannot be performed on this group. Let's not use this group."
   ]
  },
  {
   "cell_type": "raw",
   "metadata": {},
   "source": [
    "# The summary of results\n",
    "Among 16 clusters, we can't use 10th, 14th, 15th, and 16th clusters. This is because the number of rows in the dataframe is very small such as 1 or 2. Since our modeling wants to return at least 5 recommended movies, the group of which the number of elements is smaller than 6 should be removed.\n",
    "\n",
    "After this process we only have 12 groups. Let's see how many movies are in each subgroups within each group."
   ]
  },
  {
   "cell_type": "code",
   "execution_count": 101,
   "metadata": {},
   "outputs": [
    {
     "name": "stdout",
     "output_type": "stream",
     "text": [
      "The 1st group has 2 subgroups\n",
      "\tThe size of 1st subgroup is 242\n",
      "\tThe size of 2nd subgroup is 150\n",
      "-----------------\n",
      "The 2nd group has 3 subgroups\n",
      "\tThe size of 1st subgroup is 82\n",
      "\tThe size of 2nd subgroup is 135\n",
      "\tThe size of 3rd subgroup is 143\n",
      "-----------------\n",
      "The 3rd group has 3 subgroups\n",
      "\tThe size of 1st subgroup is 162\n",
      "\tThe size of 2nd subgroup is 158\n",
      "\tThe size of 3rd subgroup is 155\n",
      "-----------------\n",
      "The 4th group has 5 subgroups\n",
      "\tThe size of 1st subgroup is 2\n",
      "\tThe size of 2nd subgroup is 6\n",
      "\tThe size of 3rd subgroup is 3\n",
      "\tThe size of 4th subgroup is 4\n",
      "\tThe size of 5th subgroup is 3\n",
      "-----------------\n",
      "The 5th group has 4 subgroups\n",
      "\tThe size of 1st subgroup is 4\n",
      "\tThe size of 2nd subgroup is 3\n",
      "\tThe size of 3rd subgroup is 4\n",
      "\tThe size of 4th subgroup is 4\n",
      "-----------------\n",
      "The 6th group has 2 subgroup\n",
      "\tThe size of 1st subgroup is 3\n",
      "\tThe size of 2nd subgroup is 8\n",
      "-----------------\n",
      "The 7th group has 4 subgroups\n",
      "\tThe size of 1st subgroup is 54\n",
      "\tThe size of 2nd subgroup is 110\n",
      "\tThe size of 3rd subgroup is 70\n",
      "\tThe size of 4th subgroup is 79\n",
      "-----------------\n",
      "The 8th group has 2 subgroups\n",
      "\tThe size of 1st subgroup is 95\n",
      "\tThe size of 2nd subgroup is 72\n",
      "-----------------\n",
      "The 9th group has 2 subgroups\n",
      "\tThe size of 1st subgroup is 499\n",
      "\tThe size of 2nd subgroup is 338\n",
      "-----------------\n",
      "The 10th group has 3 subgroups\n",
      "\tThe size of 1st subgroup is 9\n",
      "\tThe size of 2nd subgroup is 31\n",
      "\tThe size of 3rd subgroup is 28\n",
      "-----------------\n",
      "The 11th group has 3 subgroups\n",
      "\tThe size of 1st subgroup is 36\n",
      "\tThe size of 2nd subgroup is 28\n",
      "\tThe size of 3rd subgroup is 25\n",
      "-----------------\n",
      "The 12th group has 3 subgroups\n",
      "\tThe size of 1st subgroup is 103\n",
      "\tThe size of 2nd subgroup is 71\n",
      "\tThe size of 3rd subgroup is 99\n",
      "-----------------\n"
     ]
    }
   ],
   "source": [
    "### print('The 1st group has 2 subgroup')\n",
    "print('The 1st group has 2 subgroups')\n",
    "print('\\tThe size of 1st subgroup is ' + str(group_1_1))\n",
    "print('\\tThe size of 2nd subgroup is ' + str(group_1_2))\n",
    "print('-----------------')\n",
    "print('The 2nd group has 3 subgroups')\n",
    "print('\\tThe size of 1st subgroup is ' + str(group_2_1))\n",
    "print('\\tThe size of 2nd subgroup is ' + str(group_2_2))\n",
    "print('\\tThe size of 3rd subgroup is ' + str(group_2_3))\n",
    "print('-----------------')\n",
    "print('The 3rd group has 3 subgroups')\n",
    "print('\\tThe size of 1st subgroup is ' + str(group_3_1))\n",
    "print('\\tThe size of 2nd subgroup is ' + str(group_3_2))\n",
    "print('\\tThe size of 3rd subgroup is ' + str(group_3_3))\n",
    "print('-----------------')\n",
    "print('The 4th group has 5 subgroups')\n",
    "print('\\tThe size of 1st subgroup is ' + str(group_4_1))\n",
    "print('\\tThe size of 2nd subgroup is ' + str(group_4_2))\n",
    "print('\\tThe size of 3rd subgroup is ' + str(group_4_3))\n",
    "print('\\tThe size of 4th subgroup is ' + str(group_4_4))\n",
    "print('\\tThe size of 5th subgroup is ' + str(group_4_5))\n",
    "print('-----------------')\n",
    "print('The 5th group has 4 subgroups')\n",
    "print('\\tThe size of 1st subgroup is ' + str(group_5_1))\n",
    "print('\\tThe size of 2nd subgroup is ' + str(group_5_2))\n",
    "print('\\tThe size of 3rd subgroup is ' + str(group_5_3))\n",
    "print('\\tThe size of 4th subgroup is ' + str(group_5_4))\n",
    "print('-----------------')\n",
    "print('The 6th group has 2 subgroup')\n",
    "print('\\tThe size of 1st subgroup is ' + str(group_6_1))\n",
    "print('\\tThe size of 2nd subgroup is ' + str(group_6_2))\n",
    "print('-----------------')\n",
    "print('The 7th group has 4 subgroups')\n",
    "print('\\tThe size of 1st subgroup is ' + str(group_7_1))\n",
    "print('\\tThe size of 2nd subgroup is ' + str(group_7_2))\n",
    "print('\\tThe size of 3rd subgroup is ' + str(group_7_3))\n",
    "print('\\tThe size of 4th subgroup is ' + str(group_7_4))\n",
    "print('-----------------')\n",
    "print('The 8th group has 2 subgroups')\n",
    "print('\\tThe size of 1st subgroup is ' + str(group_8_1))\n",
    "print('\\tThe size of 2nd subgroup is ' + str(group_8_2))\n",
    "print('-----------------')\n",
    "print('The 9th group has 2 subgroups')\n",
    "print('\\tThe size of 1st subgroup is ' + str(group_9_1))\n",
    "print('\\tThe size of 2nd subgroup is ' + str(group_9_2))\n",
    "print('-----------------')\n",
    "print('The 10th group has 3 subgroups')\n",
    "print('\\tThe size of 1st subgroup is ' + str(group_11_1))\n",
    "print('\\tThe size of 2nd subgroup is ' + str(group_11_2))\n",
    "print('\\tThe size of 3rd subgroup is ' + str(group_11_3))\n",
    "print('-----------------')\n",
    "print('The 11th group has 3 subgroups')\n",
    "print('\\tThe size of 1st subgroup is ' + str(group_12_1))\n",
    "print('\\tThe size of 2nd subgroup is ' + str(group_12_2))\n",
    "print('\\tThe size of 3rd subgroup is ' + str(group_12_3))\n",
    "print('-----------------')\n",
    "print('The 12th group has 3 subgroups')\n",
    "print('\\tThe size of 1st subgroup is ' + str(group_13_1))\n",
    "print('\\tThe size of 2nd subgroup is ' + str(group_13_2))\n",
    "print('\\tThe size of 3rd subgroup is ' + str(group_13_3))\n",
    "print('-----------------')"
   ]
  },
  {
   "cell_type": "markdown",
   "metadata": {},
   "source": [
    "# Combine all dataframes."
   ]
  },
  {
   "cell_type": "markdown",
   "metadata": {},
   "source": [
    "So far, all groups are seperated by the result of K-mode. For next step, I am going to merge all these group data."
   ]
  },
  {
   "cell_type": "code",
   "execution_count": 102,
   "metadata": {},
   "outputs": [],
   "source": [
    "total_group = [group1, group2, group3, group4, group5, group6, group7, group8, group9, group10, group11, group12]\n",
    "final_df = pd.concat(total_group)"
   ]
  },
  {
   "cell_type": "code",
   "execution_count": 104,
   "metadata": {},
   "outputs": [],
   "source": [
    "final_df = final_df[[\"id\", \"group\", \"subgroup\", \"review_1st\", \"review_2nd\", \"description_1st\", \"description_2nd\", \"overview_1st\", \"overview_2nd\", \"reviews_from_critics\", \"popularity\"]]\n",
    "\n"
   ]
  },
  {
   "cell_type": "code",
   "execution_count": 105,
   "metadata": {},
   "outputs": [
    {
     "data": {
      "text/html": [
       "<div>\n",
       "<style scoped>\n",
       "    .dataframe tbody tr th:only-of-type {\n",
       "        vertical-align: middle;\n",
       "    }\n",
       "\n",
       "    .dataframe tbody tr th {\n",
       "        vertical-align: top;\n",
       "    }\n",
       "\n",
       "    .dataframe thead th {\n",
       "        text-align: right;\n",
       "    }\n",
       "</style>\n",
       "<table border=\"1\" class=\"dataframe\">\n",
       "  <thead>\n",
       "    <tr style=\"text-align: right;\">\n",
       "      <th></th>\n",
       "      <th>id</th>\n",
       "      <th>group</th>\n",
       "      <th>subgroup</th>\n",
       "      <th>review_1st</th>\n",
       "      <th>review_2nd</th>\n",
       "      <th>description_1st</th>\n",
       "      <th>description_2nd</th>\n",
       "      <th>overview_1st</th>\n",
       "      <th>overview_2nd</th>\n",
       "      <th>reviews_from_critics</th>\n",
       "      <th>popularity</th>\n",
       "    </tr>\n",
       "  </thead>\n",
       "  <tbody>\n",
       "    <tr>\n",
       "      <th>0</th>\n",
       "      <td>tt0248123</td>\n",
       "      <td>1</td>\n",
       "      <td>1</td>\n",
       "      <td>0.809561</td>\n",
       "      <td>0.784496</td>\n",
       "      <td>0.450726</td>\n",
       "      <td>0.026841</td>\n",
       "      <td>0.841725</td>\n",
       "      <td>0.437456</td>\n",
       "      <td>0.008197</td>\n",
       "      <td>0.000225</td>\n",
       "    </tr>\n",
       "    <tr>\n",
       "      <th>1</th>\n",
       "      <td>tt0443584</td>\n",
       "      <td>1</td>\n",
       "      <td>1</td>\n",
       "      <td>0.119524</td>\n",
       "      <td>0.424670</td>\n",
       "      <td>0.662225</td>\n",
       "      <td>0.261958</td>\n",
       "      <td>0.978468</td>\n",
       "      <td>0.143147</td>\n",
       "      <td>0.012295</td>\n",
       "      <td>0.028406</td>\n",
       "    </tr>\n",
       "    <tr>\n",
       "      <th>2</th>\n",
       "      <td>tt0242527</td>\n",
       "      <td>1</td>\n",
       "      <td>1</td>\n",
       "      <td>0.384807</td>\n",
       "      <td>0.343383</td>\n",
       "      <td>0.740054</td>\n",
       "      <td>0.554190</td>\n",
       "      <td>0.817338</td>\n",
       "      <td>0.069299</td>\n",
       "      <td>0.062842</td>\n",
       "      <td>0.023810</td>\n",
       "    </tr>\n",
       "    <tr>\n",
       "      <th>3</th>\n",
       "      <td>tt0374180</td>\n",
       "      <td>1</td>\n",
       "      <td>2</td>\n",
       "      <td>0.821214</td>\n",
       "      <td>0.161882</td>\n",
       "      <td>0.329482</td>\n",
       "      <td>0.479809</td>\n",
       "      <td>0.854410</td>\n",
       "      <td>0.196915</td>\n",
       "      <td>0.043716</td>\n",
       "      <td>0.046704</td>\n",
       "    </tr>\n",
       "    <tr>\n",
       "      <th>4</th>\n",
       "      <td>tt0428856</td>\n",
       "      <td>1</td>\n",
       "      <td>1</td>\n",
       "      <td>0.672031</td>\n",
       "      <td>0.535561</td>\n",
       "      <td>0.473752</td>\n",
       "      <td>0.034677</td>\n",
       "      <td>0.912749</td>\n",
       "      <td>0.273534</td>\n",
       "      <td>0.053279</td>\n",
       "      <td>0.029964</td>\n",
       "    </tr>\n",
       "  </tbody>\n",
       "</table>\n",
       "</div>"
      ],
      "text/plain": [
       "          id  group  subgroup  review_1st  review_2nd  description_1st  \\\n",
       "0  tt0248123      1         1    0.809561    0.784496         0.450726   \n",
       "1  tt0443584      1         1    0.119524    0.424670         0.662225   \n",
       "2  tt0242527      1         1    0.384807    0.343383         0.740054   \n",
       "3  tt0374180      1         2    0.821214    0.161882         0.329482   \n",
       "4  tt0428856      1         1    0.672031    0.535561         0.473752   \n",
       "\n",
       "   description_2nd  overview_1st  overview_2nd  reviews_from_critics  \\\n",
       "0         0.026841      0.841725      0.437456              0.008197   \n",
       "1         0.261958      0.978468      0.143147              0.012295   \n",
       "2         0.554190      0.817338      0.069299              0.062842   \n",
       "3         0.479809      0.854410      0.196915              0.043716   \n",
       "4         0.034677      0.912749      0.273534              0.053279   \n",
       "\n",
       "   popularity  \n",
       "0    0.000225  \n",
       "1    0.028406  \n",
       "2    0.023810  \n",
       "3    0.046704  \n",
       "4    0.029964  "
      ]
     },
     "execution_count": 105,
     "metadata": {},
     "output_type": "execute_result"
    }
   ],
   "source": [
    "final_df.head()"
   ]
  },
  {
   "cell_type": "code",
   "execution_count": 106,
   "metadata": {},
   "outputs": [],
   "source": [
    "final_df.to_csv(prefix_path + personal_path + 'case2/Data/noVotes_kmode_kmeans_final_df.csv')"
   ]
  },
  {
   "cell_type": "code",
   "execution_count": null,
   "metadata": {},
   "outputs": [],
   "source": []
  },
  {
   "cell_type": "code",
   "execution_count": null,
   "metadata": {},
   "outputs": [],
   "source": []
  }
 ],
 "metadata": {
  "kernelspec": {
   "display_name": "Python 3",
   "language": "python",
   "name": "python3"
  },
  "language_info": {
   "codemirror_mode": {
    "name": "ipython",
    "version": 3
   },
   "file_extension": ".py",
   "mimetype": "text/x-python",
   "name": "python",
   "nbconvert_exporter": "python",
   "pygments_lexer": "ipython3",
   "version": "3.8.3"
  }
 },
 "nbformat": 4,
 "nbformat_minor": 4
}
