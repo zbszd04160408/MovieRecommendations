{
 "cells": [
  {
   "cell_type": "markdown",
   "metadata": {},
   "source": [
    "# 50-get-5recommendation-using-euclidean-distance\n",
    "> In this notebook, I am going to get the 5 recommendation movies using Euclidean distance."
   ]
  },
  {
   "cell_type": "markdown",
   "metadata": {},
   "source": [
    "Now, we have 4 datasets with different clustering methods and different columns.\n",
    "\n",
    "1. including ['votes'] column + Kmode + Kmeans\n",
    "2. including ['votes'] column + Kmode \n",
    "3. NOT including ['votes'] column + Kmode + Kmeans\n",
    "4. NOT including ['votes'] column + Kmode \n",
    "\n",
    "Using Euclidian distance, let's create a function returning the 5 closest movie id."
   ]
  },
  {
   "cell_type": "code",
   "execution_count": 112,
   "metadata": {},
   "outputs": [],
   "source": [
    "import pandas as pd\n",
    "import numpy as np\n",
    "import matplotlib.pyplot as plt\n",
    "import os.path\n",
    "import glob\n",
    "\n",
    "from scipy.spatial import distance"
   ]
  },
  {
   "cell_type": "code",
   "execution_count": 113,
   "metadata": {},
   "outputs": [],
   "source": [
    "import warnings\n",
    "warnings.filterwarnings('ignore')"
   ]
  },
  {
   "cell_type": "markdown",
   "metadata": {},
   "source": [
    "# Import data"
   ]
  },
  {
   "cell_type": "code",
   "execution_count": 171,
   "metadata": {},
   "outputs": [],
   "source": [
    "# Define file paths\n",
    "prefix_path = os.path.expanduser('~/')\n",
    "# If you want to run this code, please edit personal path below.\n",
    "personal_path = 'Vanderbilt University/2021 Fall/'\n",
    "folder_path = 'case2/Data/'\n",
    "\n",
    "kmodes_withVotes = 'yesVotes_kmode_final_df.csv'\n",
    "kmodes_noVotes = 'noVotes_kmode_final_df.csv'\n",
    "kmodes_kmeans_withVotes = 'yesVotes_kmode_kmeans_final_df.csv'\n",
    "\n",
    "# 1. including ['votes'] column + Kmode + Kmeans\n",
    "df_kmodes_withVotes = pd.read_csv(prefix_path + personal_path + folder_path + kmodes_withVotes)\n",
    "\n",
    "# 2. including ['votes'] column + Kmode \n",
    "df_kmodes_kmeans_withVotes = pd.read_csv(prefix_path + personal_path + folder_path + kmodes_kmeans_withVotes)\n",
    "\n",
    "# 4. NOT including ['votes'] column + Kmode \n",
    "df_kmodes_noVotes = pd.read_csv(prefix_path + personal_path + folder_path + kmodes_noVotes)\n",
    "\n",
    "####### at this time, Jay is working on creating \"3. NOT including ['votes'] column + Kmode + Kmeans\" data#########\n",
    "####### Once she finished her job, we can also get 3rd way's recommendation #################\n",
    "\n",
    "# Drop unnecessary column 'Unnamed: 0'\n",
    "df_kmodes_withVotes = df_kmodes_withVotes.drop(['Unnamed: 0'], axis = 1)\n",
    "df_kmodes_noVotes = df_kmodes_noVotes.drop(['Unnamed: 0'], axis = 1)\n",
    "df_kmodes_kmeans_withVotes = df_kmodes_kmeans_withVotes.drop(['Unnamed: 0'], axis = 1)"
   ]
  },
  {
   "cell_type": "code",
   "execution_count": 151,
   "metadata": {},
   "outputs": [
    {
     "data": {
      "text/plain": [
       "(3018, 11)"
      ]
     },
     "execution_count": 151,
     "metadata": {},
     "output_type": "execute_result"
    }
   ],
   "source": [
    "df_kmodes_withVotes.shape"
   ]
  },
  {
   "cell_type": "code",
   "execution_count": 189,
   "metadata": {},
   "outputs": [
    {
     "data": {
      "text/html": [
       "<div>\n",
       "<style scoped>\n",
       "    .dataframe tbody tr th:only-of-type {\n",
       "        vertical-align: middle;\n",
       "    }\n",
       "\n",
       "    .dataframe tbody tr th {\n",
       "        vertical-align: top;\n",
       "    }\n",
       "\n",
       "    .dataframe thead th {\n",
       "        text-align: right;\n",
       "    }\n",
       "</style>\n",
       "<table border=\"1\" class=\"dataframe\">\n",
       "  <thead>\n",
       "    <tr style=\"text-align: right;\">\n",
       "      <th></th>\n",
       "      <th>id</th>\n",
       "      <th>group</th>\n",
       "      <th>review_1st</th>\n",
       "      <th>review_2nd</th>\n",
       "      <th>description_1st</th>\n",
       "      <th>description_2nd</th>\n",
       "      <th>overview_1st</th>\n",
       "      <th>overview_2nd</th>\n",
       "      <th>votes</th>\n",
       "      <th>reviews_from_critics</th>\n",
       "      <th>popularity</th>\n",
       "    </tr>\n",
       "  </thead>\n",
       "  <tbody>\n",
       "    <tr>\n",
       "      <th>0</th>\n",
       "      <td>tt0248123</td>\n",
       "      <td>1</td>\n",
       "      <td>0.809561</td>\n",
       "      <td>0.784496</td>\n",
       "      <td>0.450726</td>\n",
       "      <td>0.026841</td>\n",
       "      <td>0.841725</td>\n",
       "      <td>0.437456</td>\n",
       "      <td>0.738854</td>\n",
       "      <td>0.008197</td>\n",
       "      <td>0.000225</td>\n",
       "    </tr>\n",
       "    <tr>\n",
       "      <th>1</th>\n",
       "      <td>tt0443584</td>\n",
       "      <td>1</td>\n",
       "      <td>0.119524</td>\n",
       "      <td>0.424670</td>\n",
       "      <td>0.662225</td>\n",
       "      <td>0.261958</td>\n",
       "      <td>0.978468</td>\n",
       "      <td>0.143147</td>\n",
       "      <td>0.464968</td>\n",
       "      <td>0.012295</td>\n",
       "      <td>0.028406</td>\n",
       "    </tr>\n",
       "    <tr>\n",
       "      <th>2</th>\n",
       "      <td>tt0242527</td>\n",
       "      <td>1</td>\n",
       "      <td>0.384807</td>\n",
       "      <td>0.343383</td>\n",
       "      <td>0.740054</td>\n",
       "      <td>0.554190</td>\n",
       "      <td>0.817338</td>\n",
       "      <td>0.069299</td>\n",
       "      <td>0.700637</td>\n",
       "      <td>0.062842</td>\n",
       "      <td>0.023810</td>\n",
       "    </tr>\n",
       "    <tr>\n",
       "      <th>3</th>\n",
       "      <td>tt0374180</td>\n",
       "      <td>1</td>\n",
       "      <td>0.821214</td>\n",
       "      <td>0.161882</td>\n",
       "      <td>0.329482</td>\n",
       "      <td>0.479809</td>\n",
       "      <td>0.854410</td>\n",
       "      <td>0.196915</td>\n",
       "      <td>0.579618</td>\n",
       "      <td>0.043716</td>\n",
       "      <td>0.046704</td>\n",
       "    </tr>\n",
       "    <tr>\n",
       "      <th>4</th>\n",
       "      <td>tt0428856</td>\n",
       "      <td>1</td>\n",
       "      <td>0.672031</td>\n",
       "      <td>0.535561</td>\n",
       "      <td>0.473752</td>\n",
       "      <td>0.034677</td>\n",
       "      <td>0.912749</td>\n",
       "      <td>0.273534</td>\n",
       "      <td>0.713376</td>\n",
       "      <td>0.053279</td>\n",
       "      <td>0.029964</td>\n",
       "    </tr>\n",
       "  </tbody>\n",
       "</table>\n",
       "</div>"
      ],
      "text/plain": [
       "          id  group  review_1st  review_2nd  description_1st  description_2nd  \\\n",
       "0  tt0248123      1    0.809561    0.784496         0.450726         0.026841   \n",
       "1  tt0443584      1    0.119524    0.424670         0.662225         0.261958   \n",
       "2  tt0242527      1    0.384807    0.343383         0.740054         0.554190   \n",
       "3  tt0374180      1    0.821214    0.161882         0.329482         0.479809   \n",
       "4  tt0428856      1    0.672031    0.535561         0.473752         0.034677   \n",
       "\n",
       "   overview_1st  overview_2nd     votes  reviews_from_critics  popularity  \n",
       "0      0.841725      0.437456  0.738854              0.008197    0.000225  \n",
       "1      0.978468      0.143147  0.464968              0.012295    0.028406  \n",
       "2      0.817338      0.069299  0.700637              0.062842    0.023810  \n",
       "3      0.854410      0.196915  0.579618              0.043716    0.046704  \n",
       "4      0.912749      0.273534  0.713376              0.053279    0.029964  "
      ]
     },
     "execution_count": 189,
     "metadata": {},
     "output_type": "execute_result"
    }
   ],
   "source": [
    "df_kmodes_withVotes.head()"
   ]
  },
  {
   "cell_type": "markdown",
   "metadata": {},
   "source": [
    "# Create a function to recommend the 5 closest movie ids when only used Kmode"
   ]
  },
  {
   "cell_type": "code",
   "execution_count": 161,
   "metadata": {},
   "outputs": [],
   "source": [
    "def get_5recommendation_noKmeans(df, movie_id):\n",
    "    \"\"\"\n",
    "    Get the dataframe having distance between input movies and others, and 5 recommendation movie ID\n",
    "    (This function only treats a dataframe created by NO K-means clustering)\n",
    "    \n",
    "    Parameters\n",
    "    ----------\n",
    "    df : dataframe\n",
    "        a dataframe among 4 I mentioned above\n",
    "    movie_id : str\n",
    "        input movie's id\n",
    "        \n",
    "    Returns\n",
    "    -------\n",
    "    group_df\n",
    "        a dataframe having only movies within the same group as input movie + distance between input movie to others\n",
    "    recommendation\n",
    "        a list containig 5 movie's id (The 5 closest distance movie's id)\n",
    "    \"\"\"\n",
    "    # Find the group number of input movie.\n",
    "    group_num = df[df[\"id\"] == movie_id]['group'].values[0]\n",
    "    # Get dataframe of which the group number is same as the input movie's group\n",
    "    group_df = df[df[\"group\"] == group_num].reset_index(drop = True)\n",
    "    # Convert input movie's features into list\n",
    "    standard_point = group_df[group_df[\"id\"] == movie_id].loc[:, \"review_1st\":\"popularity\"].values.tolist()\n",
    "    \n",
    "    # Calculate the euclidean distance between input movie and other movies within the same cluster\n",
    "    for i in range(group_df.shape[0]):\n",
    "        point = group_df.iloc[i][\"review_1st\":\"popularity\"].values.tolist()\n",
    "        \n",
    "        group_df.loc[i, \"distance\"] = distance.euclidean(standard_point, point)\n",
    "    \n",
    "    group_df_temp = group_df[group_df.id != movie_id]\n",
    "    recommendation = group_df_temp.sort_values(by = ['distance'])[:5]['id'].values.tolist()\n",
    "    \n",
    "    return group_df, recommendation"
   ]
  },
  {
   "cell_type": "markdown",
   "metadata": {},
   "source": [
    "# Create a function to recommend the 5 closest movie ids when used both Kmode and Kmeans"
   ]
  },
  {
   "cell_type": "code",
   "execution_count": 162,
   "metadata": {},
   "outputs": [],
   "source": [
    "def get_5recommendation_yesKmeans(df, movie_id):\n",
    "    \"\"\"\n",
    "    Get the dataframe having distance between input movies and others, and 5 recommendation movie ID\n",
    "    (This function only treats a dataframe created by K-mode AND K-means clustering)\n",
    "    \n",
    "    Parameters\n",
    "    ----------\n",
    "    df : dataframe\n",
    "        a dataframe among 4 I mentioned above\n",
    "    movie_id : str\n",
    "        input movie's id\n",
    "        \n",
    "    Returns\n",
    "    -------\n",
    "    subgroup_df\n",
    "        a dataframe having only movies within the same group as input movie + distance between input movie to others\n",
    "    recommendation\n",
    "        a list containig 5 movie's id (The 5 closest distance movie's id)\n",
    "    \"\"\"\n",
    "    # Find the group number of input movie.\n",
    "    group_num = df[df[\"id\"] == movie_id]['group'].values[0]\n",
    "    # Find the subgroup number of input movie.\n",
    "    subgroup_num = df[df[\"id\"] == movie_id]['subgroup'].values[0]\n",
    "    # Get dataframe of which the group number is same as the input movie's group\n",
    "    subgroup_df = df[(df[\"group\"] == group_num)&(df[\"subgroup\"] == subgroup_num)].reset_index(drop = True)\n",
    "    # Convert input movie's features into list\n",
    "    standard_point = subgroup_df[subgroup_df[\"id\"] == movie_id].loc[:, \"review_1st\":\"popularity\"].values.tolist()\n",
    "    \n",
    "    # Calculate the euclidean distance between input movie and other movies within the same cluster\n",
    "    for i in range(subgroup_df.shape[0]):\n",
    "        point = subgroup_df.iloc[i][\"review_1st\":\"popularity\"].values.tolist()\n",
    "        \n",
    "        subgroup_df.loc[i, \"distance\"] = distance.euclidean(standard_point, point)\n",
    "    \n",
    "    subgroup_df_temp = subgroup_df[subgroup_df.id != movie_id]\n",
    "    recommendation = subgroup_df_temp.sort_values(by = ['distance'])[:5]['id'].values.tolist()\n",
    "    \n",
    "    return subgroup_df, recommendation"
   ]
  },
  {
   "cell_type": "markdown",
   "metadata": {},
   "source": [
    "# Test"
   ]
  },
  {
   "cell_type": "markdown",
   "metadata": {},
   "source": [
    "Let's test our functions."
   ]
  },
  {
   "cell_type": "code",
   "execution_count": 182,
   "metadata": {},
   "outputs": [],
   "source": [
    "movie_id = \"tt0096486\""
   ]
  },
  {
   "cell_type": "markdown",
   "metadata": {},
   "source": [
    "Let's remind the 4 recommendation methods:\n",
    "\n",
    "1. including ['votes'] column + Kmode + Kmeans\n",
    "2. including ['votes'] column + Kmode \n",
    "3. NOT including ['votes'] column + Kmode + Kmeans\n",
    "4. NOT including ['votes'] column + Kmode "
   ]
  },
  {
   "cell_type": "code",
   "execution_count": 185,
   "metadata": {},
   "outputs": [],
   "source": [
    "# Get recommendation using \"1. including ['votes'] column + Kmode + Kmeans\"\n",
    "_, recommendation5_yesKmeans_noVotes = get_5recommendation_yesKmeans(df_kmodes_kmeans_withVotes, movie_id)"
   ]
  },
  {
   "cell_type": "code",
   "execution_count": 183,
   "metadata": {},
   "outputs": [],
   "source": [
    "# Get recommendation using \"2. including ['votes'] column + Kmode\" way\n",
    "_, recommendation5_noKmeans_yesVotes = get_5recommendation_noKmeans(df_kmodes_withVotes, movie_id)"
   ]
  },
  {
   "cell_type": "code",
   "execution_count": 184,
   "metadata": {},
   "outputs": [],
   "source": [
    "# Get recommendation using \"4. NOT including ['votes'] column + Kmode\"\n",
    "_, recommendation5_noKmeans_noVotes = get_5recommendation_noKmeans(df_kmodes_withVotes, movie_id)"
   ]
  },
  {
   "cell_type": "code",
   "execution_count": 188,
   "metadata": {},
   "outputs": [
    {
     "data": {
      "text/plain": [
       "['tt0119415', 'tt0340110', 'tt0080546', 'tt0209368', 'tt0084728']"
      ]
     },
     "execution_count": 188,
     "metadata": {},
     "output_type": "execute_result"
    }
   ],
   "source": [
    "recommendation5_yesKmeans_noVotes"
   ]
  },
  {
   "cell_type": "code",
   "execution_count": 186,
   "metadata": {},
   "outputs": [
    {
     "data": {
      "text/plain": [
       "['tt0119415', 'tt0340110', 'tt0115886', 'tt0080546', 'tt0086189']"
      ]
     },
     "execution_count": 186,
     "metadata": {},
     "output_type": "execute_result"
    }
   ],
   "source": [
    "recommendation5_noKmeans_yesVotes"
   ]
  },
  {
   "cell_type": "code",
   "execution_count": 187,
   "metadata": {},
   "outputs": [
    {
     "data": {
      "text/plain": [
       "['tt0119415', 'tt0340110', 'tt0115886', 'tt0080546', 'tt0086189']"
      ]
     },
     "execution_count": 187,
     "metadata": {},
     "output_type": "execute_result"
    }
   ],
   "source": [
    "recommendation5_noKmeans_noVotes"
   ]
  },
  {
   "cell_type": "markdown",
   "metadata": {},
   "source": [
    "2 and 4 shows exactly same recommendation movie IDs. When we look at 1's recommendation list, the first 2 movie ids are same as 2 and 4, but the last 3 movie ids are different.\n",
    "\n",
    "Since the data is normalized, actually one feature 'Votes' cannot give a big impact on the distance. For this reason, I think with \"votes\" VS without \"votes\" actually does not matter in our modeling."
   ]
  }
 ],
 "metadata": {
  "kernelspec": {
   "display_name": "Python 3",
   "language": "python",
   "name": "python3"
  },
  "language_info": {
   "codemirror_mode": {
    "name": "ipython",
    "version": 3
   },
   "file_extension": ".py",
   "mimetype": "text/x-python",
   "name": "python",
   "nbconvert_exporter": "python",
   "pygments_lexer": "ipython3",
   "version": "3.8.3"
  }
 },
 "nbformat": 4,
 "nbformat_minor": 4
}
