{
 "cells": [
  {
   "cell_type": "code",
   "execution_count": 1,
   "metadata": {},
   "outputs": [],
   "source": [
    "import pandas as pd"
   ]
  },
  {
   "cell_type": "code",
   "execution_count": 2,
   "metadata": {},
   "outputs": [],
   "source": [
    "# get data\n",
    "data = pd.read_csv('Data/main.csv')"
   ]
  },
  {
   "cell_type": "code",
   "execution_count": 3,
   "metadata": {},
   "outputs": [],
   "source": [
    "# drop duplicate columns\n",
    "data = data[data.columns.drop(list(data.filter(regex='_y')))]"
   ]
  },
  {
   "cell_type": "code",
   "execution_count": 4,
   "metadata": {},
   "outputs": [
    {
     "data": {
      "text/plain": [
       "id_x                         0\n",
       "review                       0\n",
       "title_x                      0\n",
       "original_title_x             0\n",
       "year                         0\n",
       "date_published               0\n",
       "genre                        0\n",
       "duration                     0\n",
       "country                      0\n",
       "language                    84\n",
       "director                     0\n",
       "writer                      26\n",
       "production_company         159\n",
       "actors                       0\n",
       "description                 30\n",
       "avg_vote                     0\n",
       "votes                        0\n",
       "budget_x                 11587\n",
       "usa_gross_income         11096\n",
       "worlwide_gross_income     9888\n",
       "metascore                13962\n",
       "reviews_from_users           0\n",
       "reviews_from_critics        61\n",
       "adult                        0\n",
       "belongs_to_collection    24478\n",
       "genres                       0\n",
       "homepage                 25267\n",
       "original_language            0\n",
       "overview                    21\n",
       "popularity                   0\n",
       "poster_path                 20\n",
       "production_companies         0\n",
       "production_countries         0\n",
       "release_date                 0\n",
       "revenue                      0\n",
       "runtime                      0\n",
       "spoken_languages             0\n",
       "status                       0\n",
       "tagline                   8273\n",
       "video                        0\n",
       "vote_average                 0\n",
       "vote_count                   0\n",
       "dtype: int64"
      ]
     },
     "execution_count": 4,
     "metadata": {},
     "output_type": "execute_result"
    }
   ],
   "source": [
    "# find missing values of each column\n",
    "data.isna().sum()"
   ]
  },
  {
   "cell_type": "code",
   "execution_count": 5,
   "metadata": {},
   "outputs": [],
   "source": [
    "# drop columns that had more than 27% missing values\n",
    "perc = 27.0\n",
    "min_count = int(((100-perc)/100)*data.shape[0] + 1)\n",
    "data = data.dropna(axis=1, thresh=min_count)"
   ]
  },
  {
   "cell_type": "code",
   "execution_count": 6,
   "metadata": {
    "scrolled": true
   },
   "outputs": [],
   "source": [
    "# rename columns\n",
    "data = data.rename(columns={'id_x': 'id', 'title_x': 'title', 'original_title_x':'original_title'})"
   ]
  },
  {
   "cell_type": "code",
   "execution_count": 7,
   "metadata": {},
   "outputs": [],
   "source": [
    "# delete more duplicate columns\n",
    "data = data.drop(columns=['production_countries','spoken_languages','title','production_companies','release_date'])"
   ]
  },
  {
   "cell_type": "code",
   "execution_count": 8,
   "metadata": {},
   "outputs": [],
   "source": [
    "# split each genre into its own columns\n",
    "data[['genre_1', 'genre_2', 'genre_3']] = data['genre'].str.split(',', expand=True)"
   ]
  },
  {
   "cell_type": "code",
   "execution_count": 9,
   "metadata": {},
   "outputs": [],
   "source": [
    "# drop genre since they have been split\n",
    "data = data.drop(columns=['genre'])"
   ]
  },
  {
   "cell_type": "code",
   "execution_count": 10,
   "metadata": {},
   "outputs": [],
   "source": [
    "# combine both vote columns\n",
    "data[['votes']] = (data['avg_vote'] + data['vote_average']) / 2"
   ]
  },
  {
   "cell_type": "code",
   "execution_count": 11,
   "metadata": {},
   "outputs": [],
   "source": [
    "# drop columns for votes\n",
    "data = data.drop(columns=['avg_vote','vote_average'])"
   ]
  },
  {
   "cell_type": "code",
   "execution_count": 14,
   "metadata": {},
   "outputs": [
    {
     "name": "stdout",
     "output_type": "stream",
     "text": [
      "/Users/lorichiu/Documents/case-f21/case2/Data\n"
     ]
    }
   ],
   "source": [
    "cd Data"
   ]
  },
  {
   "cell_type": "code",
   "execution_count": 15,
   "metadata": {
    "scrolled": true
   },
   "outputs": [],
   "source": [
    "data.to_csv('main_211109.csv')"
   ]
  }
 ],
 "metadata": {
  "kernelspec": {
   "display_name": "Python 3",
   "language": "python",
   "name": "python3"
  },
  "language_info": {
   "codemirror_mode": {
    "name": "ipython",
    "version": 3
   },
   "file_extension": ".py",
   "mimetype": "text/x-python",
   "name": "python",
   "nbconvert_exporter": "python",
   "pygments_lexer": "ipython3",
   "version": "3.8.3"
  }
 },
 "nbformat": 4,
 "nbformat_minor": 4
}
