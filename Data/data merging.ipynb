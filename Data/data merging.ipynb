{
 "cells": [
  {
   "cell_type": "code",
   "execution_count": 2,
   "metadata": {},
   "outputs": [],
   "source": [
    "import pandas as pd\n",
    "import numpy as np\n",
    "import os\n",
    "import glob\n",
    "import matplotlib.pyplot as plt "
   ]
  },
  {
   "cell_type": "code",
   "execution_count": 8,
   "metadata": {},
   "outputs": [],
   "source": [
    "Imdb = pd.read_csv(\"/Users/jaykim/Documents/Yeartwo/Case_studies/case2/Data/IMDb_movies.csv\")\n",
    "\n",
    "movies = pd.read_csv(\"/Users/jaykim/Documents/Yeartwo/Case_studies/case2/Data/movies_metadata.csv\")\n",
    "\n",
    "id_reviews = pd.read_csv(\"/Users/jaykim/Documents/Yeartwo/Case_studies/case2/Data/id_reviews.tsv\", sep='\\t', names = ['id', 'review'])\n"
   ]
  },
  {
   "cell_type": "code",
   "execution_count": 31,
   "metadata": {},
   "outputs": [
    {
     "name": "stdout",
     "output_type": "stream",
     "text": [
      "(85855, 22)\n",
      "(45466, 24)\n",
      "(50000, 2)\n"
     ]
    }
   ],
   "source": [
    "print(Imdb.shape)\n",
    "print(movies.shape)\n",
    "print(id_reviews.shape)"
   ]
  },
  {
   "cell_type": "code",
   "execution_count": 40,
   "metadata": {},
   "outputs": [],
   "source": [
    "reviews_Imdb = pd.merge(id_reviews, Imdb, left_on='id', right_on='imdb_title_id', how='inner').drop('imdb_title_id', axis=1)\n",
    "#reviews_Imdb.head()\n",
    "#35,711\n"
   ]
  },
  {
   "cell_type": "code",
   "execution_count": 42,
   "metadata": {},
   "outputs": [],
   "source": [
    "main = pd.merge(reviews_Imdb, movies, left_on='id', right_on='imdb_id', how='inner').drop('imdb_id', axis=1)\n",
    "#main\n",
    "#28,629\n"
   ]
  },
  {
   "cell_type": "code",
   "execution_count": 43,
   "metadata": {},
   "outputs": [],
   "source": [
    "main.to_csv('main.csv', index = False)\n",
    "\n"
   ]
  },
  {
   "cell_type": "code",
   "execution_count": null,
   "metadata": {},
   "outputs": [],
   "source": []
  }
 ],
 "metadata": {
  "kernelspec": {
   "display_name": "Python 3",
   "language": "python",
   "name": "python3"
  },
  "language_info": {
   "codemirror_mode": {
    "name": "ipython",
    "version": 3
   },
   "file_extension": ".py",
   "mimetype": "text/x-python",
   "name": "python",
   "nbconvert_exporter": "python",
   "pygments_lexer": "ipython3",
   "version": "3.8.3"
  }
 },
 "nbformat": 4,
 "nbformat_minor": 4
}
