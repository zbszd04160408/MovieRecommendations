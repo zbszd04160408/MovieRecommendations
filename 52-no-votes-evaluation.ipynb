{
 "cells": [
  {
   "cell_type": "markdown",
   "metadata": {},
   "source": [
    "# 52-no-votes-evaluation\n",
    "\n",
    "#### This notebook will be used to evaluate the models used on datasets WITHOUT user ratings"
   ]
  },
  {
   "cell_type": "markdown",
   "metadata": {},
   "source": [
    "### Install packages and run necessary notebooks"
   ]
  },
  {
   "cell_type": "code",
   "execution_count": 1,
   "metadata": {},
   "outputs": [],
   "source": [
    "# import packages\n",
    "import pandas as pd\n",
    "import numpy as np"
   ]
  },
  {
   "cell_type": "code",
   "execution_count": 7,
   "metadata": {},
   "outputs": [],
   "source": [
    "# run notebook to get pre-defined functions\n",
    "%run 50-get-5recommendation-using-euclidian-distance.ipynb"
   ]
  },
  {
   "cell_type": "markdown",
   "metadata": {},
   "source": [
    "### Read in datasets"
   ]
  },
  {
   "cell_type": "code",
   "execution_count": 4,
   "metadata": {
    "scrolled": true
   },
   "outputs": [],
   "source": [
    "# read in data\n",
    "\n",
    "path = 'data/'\n",
    "\n",
    "kmodes = 'noVotes_kmode_final_df.csv'\n",
    "kmodes_kmeans = 'noVotes_kmode_kmeans_final_df.csv'\n",
    "\n",
    "kmodes_data = pd.read_csv(path + kmodes)\n",
    "kmodesKmeans_data = pd.read_csv(path + kmodes_kmeans)\n",
    "\n",
    "# get votes data\n",
    "votes_data = pd.read_csv(path + 'model_data.csv')"
   ]
  },
  {
   "cell_type": "markdown",
   "metadata": {},
   "source": [
    "## MODEL 1: KMODES ONLY"
   ]
  },
  {
   "cell_type": "markdown",
   "metadata": {},
   "source": [
    "### Evaluating for one movie id as test"
   ]
  },
  {
   "cell_type": "code",
   "execution_count": 31,
   "metadata": {},
   "outputs": [],
   "source": [
    "# test movie idea\n",
    "test = 'tt0374180'"
   ]
  },
  {
   "cell_type": "code",
   "execution_count": 32,
   "metadata": {},
   "outputs": [
    {
     "data": {
      "text/plain": [
       "['tt0300015', 'tt0041776', 'tt0110367', 'tt0439817', 'tt0067306']"
      ]
     },
     "execution_count": 32,
     "metadata": {},
     "output_type": "execute_result"
    }
   ],
   "source": [
    "# run model to get predictions\n",
    "_, test1 = get_5recommendation_noKmeans(kmodes_data, test)\n",
    "test1"
   ]
  },
  {
   "cell_type": "code",
   "execution_count": 39,
   "metadata": {},
   "outputs": [],
   "source": [
    "# get average user ratings for the predictions\n",
    "ratings = []\n",
    "for i in test1:\n",
    "    curr_rate = votes_data.loc[votes_data['id'] == i, 'votes'].iloc[0]\n",
    "    ratings.append(curr_rate)\n",
    "    avg_ratings = sum(ratings)/len(ratings)"
   ]
  },
  {
   "cell_type": "code",
   "execution_count": 42,
   "metadata": {},
   "outputs": [
    {
     "data": {
      "text/plain": [
       "0.7885350318471336"
      ]
     },
     "execution_count": 42,
     "metadata": {},
     "output_type": "execute_result"
    }
   ],
   "source": [
    "# print average ratings\n",
    "avg_ratings"
   ]
  },
  {
   "cell_type": "markdown",
   "metadata": {},
   "source": [
    "### Run predictions on full dataset (3k movie ids) and evaluate"
   ]
  },
  {
   "cell_type": "code",
   "execution_count": 8,
   "metadata": {
    "scrolled": false
   },
   "outputs": [],
   "source": [
    "# run function to get predictions for all movies - store as dictionary\n",
    "recs = {}\n",
    "kmodes_ids = kmodes_data['id'].tolist()\n",
    "for i in kmodes_ids:\n",
    "    _, recs_5 = get_5recommendation_noKmeans(kmodes_data, i)\n",
    "    recs[i] = recs_5"
   ]
  },
  {
   "cell_type": "code",
   "execution_count": 13,
   "metadata": {},
   "outputs": [],
   "source": [
    "# make dataframe with preds as a list\n",
    "recs_data = pd.DataFrame(list(recs.items()),columns = ['id','recommendations'])"
   ]
  },
  {
   "cell_type": "code",
   "execution_count": 64,
   "metadata": {},
   "outputs": [],
   "source": [
    "# for each recommendation, get the rating then average them\n",
    "avg_votes = []\n",
    "for i in range(len(recs_data)):\n",
    "    recs_list = recs_data['recommendations'][i]\n",
    "    ratings = []\n",
    "    for j in recs_list:\n",
    "        curr_rate = votes_data.loc[votes_data['id'] == j, 'votes'].iloc[0]\n",
    "        ratings.append(curr_rate)\n",
    "        avg_ratings = sum(ratings)/len(ratings)\n",
    "    avg_votes.append(avg_ratings)"
   ]
  },
  {
   "cell_type": "code",
   "execution_count": 65,
   "metadata": {},
   "outputs": [
    {
     "data": {
      "text/plain": [
       "5.964542743538748"
      ]
     },
     "execution_count": 65,
     "metadata": {},
     "output_type": "execute_result"
    }
   ],
   "source": [
    "# get the average for the full dataset - used as evaluation for the whole model\n",
    "sum(avg_votes)/len(avg_votes)"
   ]
  },
  {
   "cell_type": "markdown",
   "metadata": {},
   "source": [
    "## MODEL 2: KMODES + KMEANS"
   ]
  },
  {
   "cell_type": "markdown",
   "metadata": {},
   "source": [
    "### Evaluating for one movie id as test"
   ]
  },
  {
   "cell_type": "code",
   "execution_count": 78,
   "metadata": {},
   "outputs": [],
   "source": [
    "# get test id\n",
    "test = 'tt0374180'"
   ]
  },
  {
   "cell_type": "code",
   "execution_count": 79,
   "metadata": {},
   "outputs": [
    {
     "data": {
      "text/plain": [
       "['tt0300015', 'tt0041776', 'tt0110367', 'tt0439817', 'tt0847877']"
      ]
     },
     "execution_count": 79,
     "metadata": {},
     "output_type": "execute_result"
    }
   ],
   "source": [
    "# run model on test movide id\n",
    "_, test1 = get_5recommendation_yesKmeans(kmodesKmeans_data, test)\n",
    "test1"
   ]
  },
  {
   "cell_type": "markdown",
   "metadata": {},
   "source": [
    "### Run predictions on full dataset (3k movie ids) and evaluate"
   ]
  },
  {
   "cell_type": "code",
   "execution_count": 68,
   "metadata": {},
   "outputs": [],
   "source": [
    "# run function to get predictions for all movies - store as dictionary\n",
    "recs_kmeans = {}\n",
    "kmodesKmeans_ids = kmodesKmeans_data['id'].tolist()\n",
    "for i in kmodesKmeans_ids:\n",
    "    _, recsKmeans_5 = get_5recommendation_yesKmeans(kmodesKmeans_data, i)\n",
    "    recs_kmeans[i] = recsKmeans_5"
   ]
  },
  {
   "cell_type": "code",
   "execution_count": 69,
   "metadata": {},
   "outputs": [],
   "source": [
    "# make dataframe with preds as a list\n",
    "recsKmeans_data = pd.DataFrame(list(recs.items()),columns = ['id','recommendations'])"
   ]
  },
  {
   "cell_type": "code",
   "execution_count": 80,
   "metadata": {},
   "outputs": [],
   "source": [
    "# for each recommendation, get the rating\n",
    "kk_avg_votes = []\n",
    "for i in range(len(recsKmeans_data)):\n",
    "    kk_recs_list = recsKmeans_data['recommendations'][i]\n",
    "    kk_ratings = []\n",
    "    for j in recs_list:\n",
    "        kk_curr_rate = votes_data.loc[votes_data['id'] == j, 'votes'].iloc[0]\n",
    "        kk_ratings.append(kk_curr_rate)\n",
    "        kk_avg_ratings = sum(kk_ratings)/len(kk_ratings)\n",
    "    kk_avg_votes.append(kk_avg_ratings)"
   ]
  },
  {
   "cell_type": "code",
   "execution_count": 81,
   "metadata": {},
   "outputs": [
    {
     "data": {
      "text/plain": [
       "6.360000000000272"
      ]
     },
     "execution_count": 81,
     "metadata": {},
     "output_type": "execute_result"
    }
   ],
   "source": [
    "# get the average of the ratings for full dataset\n",
    "# evaluation for the model\n",
    "sum(kk_avg_votes)/len(kk_avg_votes)"
   ]
  }
 ],
 "metadata": {
  "kernelspec": {
   "display_name": "Python 3",
   "language": "python",
   "name": "python3"
  },
  "language_info": {
   "codemirror_mode": {
    "name": "ipython",
    "version": 3
   },
   "file_extension": ".py",
   "mimetype": "text/x-python",
   "name": "python",
   "nbconvert_exporter": "python",
   "pygments_lexer": "ipython3",
   "version": "3.8.3"
  }
 },
 "nbformat": 4,
 "nbformat_minor": 4
}
