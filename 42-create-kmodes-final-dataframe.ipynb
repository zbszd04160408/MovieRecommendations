{
 "cells": [
  {
   "cell_type": "markdown",
   "metadata": {},
   "source": [
    "# 42-create-kmodes-final-dataframe\n",
    "> In this notebook, I am going to create 2 dataframes which will be used for calculating Euclidean distance in the next netebook 50."
   ]
  },
  {
   "cell_type": "markdown",
   "metadata": {},
   "source": [
    "There are 4 methods we are planning:\n",
    "\n",
    "1. including ['votes'] column + Kmode + Kmeans\n",
    "2. including ['votes'] column + Kmode \n",
    "3. NOT including ['votes'] column + Kmode + Kmeans\n",
    "4. NOT including ['votes'] column + Kmode \n",
    "\n",
    "In this notebook, I am going to create 2 and 4."
   ]
  },
  {
   "cell_type": "code",
   "execution_count": 1,
   "metadata": {},
   "outputs": [],
   "source": [
    "import pandas as pd\n",
    "import numpy as np\n",
    "import matplotlib.pyplot as plt\n",
    "import os.path\n",
    "import glob"
   ]
  },
  {
   "cell_type": "code",
   "execution_count": 2,
   "metadata": {},
   "outputs": [],
   "source": [
    "import warnings\n",
    "warnings.filterwarnings('ignore')"
   ]
  },
  {
   "cell_type": "markdown",
   "metadata": {},
   "source": [
    "# Import data\n",
    "\n",
    "For the first step, we need to import data. If you want to run this code in your local computer, please change the path of \"personal_path\" corresponding to your local environment."
   ]
  },
  {
   "cell_type": "code",
   "execution_count": 3,
   "metadata": {},
   "outputs": [],
   "source": [
    "# Define file paths\n",
    "prefix_path = os.path.expanduser('~/')\n",
    "# If you want to run this code, please edit personal path below.\n",
    "personal_path = 'Vanderbilt University/2021 Fall/'\n",
    "folder_path = 'case2/Data/cluster16_kmode/'\n",
    "path = prefix_path + personal_path + folder_path\n",
    "\n",
    "# Import all csv file in the cluster16_kmode folder.\n",
    "csv_files = glob.glob(path + \"*.csv\")"
   ]
  },
  {
   "cell_type": "markdown",
   "metadata": {},
   "source": [
    "Let's import all csv files and save this in \"df_list\". By doing this, we can call every csv files quickly and it helps us handle many data easily."
   ]
  },
  {
   "cell_type": "code",
   "execution_count": 4,
   "metadata": {},
   "outputs": [],
   "source": [
    "# Import dataframe and assign them to a list\n",
    "df_list = []\n",
    "for i in range(len(csv_files)):\n",
    "    df_list.append(pd.read_csv(csv_files[i]))"
   ]
  },
  {
   "cell_type": "markdown",
   "metadata": {},
   "source": [
    "let's create a new column \"group\". This value is refers to a group number after we diveded the data using Kmode in the previous notebook 40."
   ]
  },
  {
   "cell_type": "code",
   "execution_count": 5,
   "metadata": {},
   "outputs": [],
   "source": [
    "for i in range(len(df_list)):\n",
    "    df_list[i]['group'] = i + 1"
   ]
  },
  {
   "cell_type": "markdown",
   "metadata": {},
   "source": [
    "Now, let's combine all dataframe. The reason why we are combining all data together is because we are going to normalize data. "
   ]
  },
  {
   "cell_type": "code",
   "execution_count": 6,
   "metadata": {},
   "outputs": [],
   "source": [
    "# Merging multiple dataframes\n",
    "df_total = [df_list[0], df_list[1],df_list[2], df_list[3], df_list[4], df_list[5], df_list[6], df_list[7], df_list[8], df_list[10], df_list[11], df_list[12]]\n",
    "all_df = pd.concat(df_total)"
   ]
  },
  {
   "cell_type": "markdown",
   "metadata": {},
   "source": [
    "# Pre-processing dataframe\n",
    "\n",
    "When we clustering, we do not need 'recommendation1','recommendation2','recommendation3','recommendation4','recommendation5','recommendation6' columns. Let's remove these 6 columns."
   ]
  },
  {
   "cell_type": "code",
   "execution_count": 7,
   "metadata": {},
   "outputs": [],
   "source": [
    "all_df = all_df.drop(['recommendation1','recommendation2','recommendation3','recommendation4','recommendation5','recommendation6'], axis = 1)"
   ]
  },
  {
   "cell_type": "markdown",
   "metadata": {},
   "source": [
    "Also, in the previous notebook 41, we found that there were 14 movies having no values. Let's remove this movies as well."
   ]
  },
  {
   "cell_type": "code",
   "execution_count": 8,
   "metadata": {},
   "outputs": [],
   "source": [
    "no_values_id = ['tt0246425',\n",
    " 'tt0442781',\n",
    " 'tt0043852',\n",
    " 'tt0906783',\n",
    " 'tt0103790',\n",
    " 'tt0370919',\n",
    " 'tt0238119',\n",
    " 'tt0033368',\n",
    " 'tt0100100',\n",
    " 'tt0253614',\n",
    " 'tt0142634',\n",
    " 'tt0082892',\n",
    " 'tt0131636',\n",
    " 'tt0276868']"
   ]
  },
  {
   "cell_type": "code",
   "execution_count": 9,
   "metadata": {},
   "outputs": [],
   "source": [
    "final_df_temp = all_df[~all_df[\"id\"].isin(no_values_id)]"
   ]
  },
  {
   "cell_type": "markdown",
   "metadata": {},
   "source": [
    "By not using some groups, the group's number is messed. Let's reorganize this."
   ]
  },
  {
   "cell_type": "code",
   "execution_count": 10,
   "metadata": {},
   "outputs": [
    {
     "data": {
      "text/plain": [
       "array([ 1,  2,  3,  4,  5,  6,  7,  8,  9, 11, 12, 13])"
      ]
     },
     "execution_count": 10,
     "metadata": {},
     "output_type": "execute_result"
    }
   ],
   "source": [
    "final_df_temp[\"group\"].unique()"
   ]
  },
  {
   "cell_type": "code",
   "execution_count": 11,
   "metadata": {},
   "outputs": [],
   "source": [
    "final_df_temp.loc[final_df_temp[\"group\"] == 11, \"group\"] = 10\n",
    "final_df_temp.loc[final_df_temp[\"group\"] == 12, \"group\"] = 11\n",
    "final_df_temp.loc[final_df_temp[\"group\"] == 13, \"group\"] = 12"
   ]
  },
  {
   "cell_type": "code",
   "execution_count": 13,
   "metadata": {},
   "outputs": [
    {
     "data": {
      "text/html": [
       "<div>\n",
       "<style scoped>\n",
       "    .dataframe tbody tr th:only-of-type {\n",
       "        vertical-align: middle;\n",
       "    }\n",
       "\n",
       "    .dataframe tbody tr th {\n",
       "        vertical-align: top;\n",
       "    }\n",
       "\n",
       "    .dataframe thead th {\n",
       "        text-align: right;\n",
       "    }\n",
       "</style>\n",
       "<table border=\"1\" class=\"dataframe\">\n",
       "  <thead>\n",
       "    <tr style=\"text-align: right;\">\n",
       "      <th></th>\n",
       "      <th>id</th>\n",
       "      <th>review_1st</th>\n",
       "      <th>review_2nd</th>\n",
       "      <th>description_1st</th>\n",
       "      <th>description_2nd</th>\n",
       "      <th>overview_1st</th>\n",
       "      <th>overview_2nd</th>\n",
       "      <th>votes</th>\n",
       "      <th>reviews_from_critics</th>\n",
       "      <th>popularity</th>\n",
       "      <th>group</th>\n",
       "    </tr>\n",
       "  </thead>\n",
       "  <tbody>\n",
       "    <tr>\n",
       "      <th>0</th>\n",
       "      <td>tt0248123</td>\n",
       "      <td>5.052363</td>\n",
       "      <td>14.008677</td>\n",
       "      <td>19.101181</td>\n",
       "      <td>-5.684755</td>\n",
       "      <td>10.454543</td>\n",
       "      <td>5.274888</td>\n",
       "      <td>6.60</td>\n",
       "      <td>7.0</td>\n",
       "      <td>0.041677</td>\n",
       "      <td>1</td>\n",
       "    </tr>\n",
       "    <tr>\n",
       "      <th>1</th>\n",
       "      <td>tt0443584</td>\n",
       "      <td>0.486805</td>\n",
       "      <td>11.690599</td>\n",
       "      <td>20.577621</td>\n",
       "      <td>-4.113286</td>\n",
       "      <td>13.450911</td>\n",
       "      <td>1.172032</td>\n",
       "      <td>4.45</td>\n",
       "      <td>10.0</td>\n",
       "      <td>5.257142</td>\n",
       "      <td>1</td>\n",
       "    </tr>\n",
       "    <tr>\n",
       "      <th>2</th>\n",
       "      <td>tt0242527</td>\n",
       "      <td>2.242022</td>\n",
       "      <td>11.166927</td>\n",
       "      <td>21.120935</td>\n",
       "      <td>-2.160072</td>\n",
       "      <td>9.920180</td>\n",
       "      <td>0.142537</td>\n",
       "      <td>6.30</td>\n",
       "      <td>47.0</td>\n",
       "      <td>4.406514</td>\n",
       "      <td>1</td>\n",
       "    </tr>\n",
       "    <tr>\n",
       "      <th>3</th>\n",
       "      <td>tt0374180</td>\n",
       "      <td>5.129464</td>\n",
       "      <td>9.997657</td>\n",
       "      <td>18.254795</td>\n",
       "      <td>-2.657217</td>\n",
       "      <td>10.732504</td>\n",
       "      <td>1.921588</td>\n",
       "      <td>5.35</td>\n",
       "      <td>33.0</td>\n",
       "      <td>8.643620</td>\n",
       "      <td>1</td>\n",
       "    </tr>\n",
       "    <tr>\n",
       "      <th>4</th>\n",
       "      <td>tt0428856</td>\n",
       "      <td>4.142411</td>\n",
       "      <td>12.404982</td>\n",
       "      <td>19.261920</td>\n",
       "      <td>-5.632376</td>\n",
       "      <td>12.010869</td>\n",
       "      <td>2.989712</td>\n",
       "      <td>6.40</td>\n",
       "      <td>40.0</td>\n",
       "      <td>5.545420</td>\n",
       "      <td>1</td>\n",
       "    </tr>\n",
       "  </tbody>\n",
       "</table>\n",
       "</div>"
      ],
      "text/plain": [
       "          id  review_1st  review_2nd  description_1st  description_2nd  \\\n",
       "0  tt0248123    5.052363   14.008677        19.101181        -5.684755   \n",
       "1  tt0443584    0.486805   11.690599        20.577621        -4.113286   \n",
       "2  tt0242527    2.242022   11.166927        21.120935        -2.160072   \n",
       "3  tt0374180    5.129464    9.997657        18.254795        -2.657217   \n",
       "4  tt0428856    4.142411   12.404982        19.261920        -5.632376   \n",
       "\n",
       "   overview_1st  overview_2nd  votes  reviews_from_critics  popularity  group  \n",
       "0     10.454543      5.274888   6.60                   7.0    0.041677      1  \n",
       "1     13.450911      1.172032   4.45                  10.0    5.257142      1  \n",
       "2      9.920180      0.142537   6.30                  47.0    4.406514      1  \n",
       "3     10.732504      1.921588   5.35                  33.0    8.643620      1  \n",
       "4     12.010869      2.989712   6.40                  40.0    5.545420      1  "
      ]
     },
     "execution_count": 13,
     "metadata": {},
     "output_type": "execute_result"
    }
   ],
   "source": [
    "final_df_temp.head()"
   ]
  },
  {
   "cell_type": "markdown",
   "metadata": {},
   "source": [
    "# Noramlization\n",
    "\n",
    "Similarity is based on the distance between data point's features. For this reason, normalization is very important for calculating distance. I am going to use min-max normalization to each column. After this process, values will be between 0 to 1."
   ]
  },
  {
   "cell_type": "code",
   "execution_count": 14,
   "metadata": {},
   "outputs": [],
   "source": [
    "def normalize(df):\n",
    "    \"\"\"\n",
    "    Normalize all values in dataframe\n",
    "    \n",
    "    Parameters\n",
    "    ----------\n",
    "    df : dataframe\n",
    "        a dataframe we want to normalize\n",
    "        \n",
    "    Returns\n",
    "    -------\n",
    "    df \n",
    "        a normalized dataframe\n",
    "    \"\"\"\n",
    "    result = df.copy()\n",
    "    for feature_name in df.columns:\n",
    "        max_value = df[feature_name].max()\n",
    "        min_value = df[feature_name].min()\n",
    "        result[feature_name] = (df[feature_name] - min_value) / (max_value - min_value)\n",
    "    return result"
   ]
  },
  {
   "cell_type": "code",
   "execution_count": 15,
   "metadata": {},
   "outputs": [],
   "source": [
    "final_df_temp_id = final_df_temp[['id', 'group']]\n",
    "left_over = final_df_temp.drop(['id', 'group'], axis = 1)"
   ]
  },
  {
   "cell_type": "code",
   "execution_count": 16,
   "metadata": {},
   "outputs": [],
   "source": [
    "# Perform normalization\n",
    "df_norm = normalize(left_over)"
   ]
  },
  {
   "cell_type": "code",
   "execution_count": 17,
   "metadata": {},
   "outputs": [
    {
     "data": {
      "text/html": [
       "<div>\n",
       "<style scoped>\n",
       "    .dataframe tbody tr th:only-of-type {\n",
       "        vertical-align: middle;\n",
       "    }\n",
       "\n",
       "    .dataframe tbody tr th {\n",
       "        vertical-align: top;\n",
       "    }\n",
       "\n",
       "    .dataframe thead th {\n",
       "        text-align: right;\n",
       "    }\n",
       "</style>\n",
       "<table border=\"1\" class=\"dataframe\">\n",
       "  <thead>\n",
       "    <tr style=\"text-align: right;\">\n",
       "      <th></th>\n",
       "      <th>review_1st</th>\n",
       "      <th>review_2nd</th>\n",
       "      <th>description_1st</th>\n",
       "      <th>description_2nd</th>\n",
       "      <th>overview_1st</th>\n",
       "      <th>overview_2nd</th>\n",
       "      <th>votes</th>\n",
       "      <th>reviews_from_critics</th>\n",
       "      <th>popularity</th>\n",
       "    </tr>\n",
       "  </thead>\n",
       "  <tbody>\n",
       "    <tr>\n",
       "      <th>0</th>\n",
       "      <td>0.809561</td>\n",
       "      <td>0.784496</td>\n",
       "      <td>0.450726</td>\n",
       "      <td>0.026841</td>\n",
       "      <td>0.841725</td>\n",
       "      <td>0.437456</td>\n",
       "      <td>0.738854</td>\n",
       "      <td>0.008197</td>\n",
       "      <td>0.000225</td>\n",
       "    </tr>\n",
       "    <tr>\n",
       "      <th>1</th>\n",
       "      <td>0.119524</td>\n",
       "      <td>0.424670</td>\n",
       "      <td>0.662225</td>\n",
       "      <td>0.261958</td>\n",
       "      <td>0.978468</td>\n",
       "      <td>0.143147</td>\n",
       "      <td>0.464968</td>\n",
       "      <td>0.012295</td>\n",
       "      <td>0.028406</td>\n",
       "    </tr>\n",
       "    <tr>\n",
       "      <th>2</th>\n",
       "      <td>0.384807</td>\n",
       "      <td>0.343383</td>\n",
       "      <td>0.740054</td>\n",
       "      <td>0.554190</td>\n",
       "      <td>0.817338</td>\n",
       "      <td>0.069299</td>\n",
       "      <td>0.700637</td>\n",
       "      <td>0.062842</td>\n",
       "      <td>0.023810</td>\n",
       "    </tr>\n",
       "    <tr>\n",
       "      <th>3</th>\n",
       "      <td>0.821214</td>\n",
       "      <td>0.161882</td>\n",
       "      <td>0.329482</td>\n",
       "      <td>0.479809</td>\n",
       "      <td>0.854410</td>\n",
       "      <td>0.196915</td>\n",
       "      <td>0.579618</td>\n",
       "      <td>0.043716</td>\n",
       "      <td>0.046704</td>\n",
       "    </tr>\n",
       "    <tr>\n",
       "      <th>4</th>\n",
       "      <td>0.672031</td>\n",
       "      <td>0.535561</td>\n",
       "      <td>0.473752</td>\n",
       "      <td>0.034677</td>\n",
       "      <td>0.912749</td>\n",
       "      <td>0.273534</td>\n",
       "      <td>0.713376</td>\n",
       "      <td>0.053279</td>\n",
       "      <td>0.029964</td>\n",
       "    </tr>\n",
       "  </tbody>\n",
       "</table>\n",
       "</div>"
      ],
      "text/plain": [
       "   review_1st  review_2nd  description_1st  description_2nd  overview_1st  \\\n",
       "0    0.809561    0.784496         0.450726         0.026841      0.841725   \n",
       "1    0.119524    0.424670         0.662225         0.261958      0.978468   \n",
       "2    0.384807    0.343383         0.740054         0.554190      0.817338   \n",
       "3    0.821214    0.161882         0.329482         0.479809      0.854410   \n",
       "4    0.672031    0.535561         0.473752         0.034677      0.912749   \n",
       "\n",
       "   overview_2nd     votes  reviews_from_critics  popularity  \n",
       "0      0.437456  0.738854              0.008197    0.000225  \n",
       "1      0.143147  0.464968              0.012295    0.028406  \n",
       "2      0.069299  0.700637              0.062842    0.023810  \n",
       "3      0.196915  0.579618              0.043716    0.046704  \n",
       "4      0.273534  0.713376              0.053279    0.029964  "
      ]
     },
     "execution_count": 17,
     "metadata": {},
     "output_type": "execute_result"
    }
   ],
   "source": [
    "df_norm.head()"
   ]
  },
  {
   "cell_type": "code",
   "execution_count": 18,
   "metadata": {},
   "outputs": [],
   "source": [
    "df_final = pd.concat([final_df_temp_id, df_norm], axis = 1)"
   ]
  },
  {
   "cell_type": "code",
   "execution_count": 20,
   "metadata": {},
   "outputs": [
    {
     "data": {
      "text/html": [
       "<div>\n",
       "<style scoped>\n",
       "    .dataframe tbody tr th:only-of-type {\n",
       "        vertical-align: middle;\n",
       "    }\n",
       "\n",
       "    .dataframe tbody tr th {\n",
       "        vertical-align: top;\n",
       "    }\n",
       "\n",
       "    .dataframe thead th {\n",
       "        text-align: right;\n",
       "    }\n",
       "</style>\n",
       "<table border=\"1\" class=\"dataframe\">\n",
       "  <thead>\n",
       "    <tr style=\"text-align: right;\">\n",
       "      <th></th>\n",
       "      <th>id</th>\n",
       "      <th>group</th>\n",
       "      <th>review_1st</th>\n",
       "      <th>review_2nd</th>\n",
       "      <th>description_1st</th>\n",
       "      <th>description_2nd</th>\n",
       "      <th>overview_1st</th>\n",
       "      <th>overview_2nd</th>\n",
       "      <th>votes</th>\n",
       "      <th>reviews_from_critics</th>\n",
       "      <th>popularity</th>\n",
       "    </tr>\n",
       "  </thead>\n",
       "  <tbody>\n",
       "    <tr>\n",
       "      <th>0</th>\n",
       "      <td>tt0248123</td>\n",
       "      <td>1</td>\n",
       "      <td>0.809561</td>\n",
       "      <td>0.784496</td>\n",
       "      <td>0.450726</td>\n",
       "      <td>0.026841</td>\n",
       "      <td>0.841725</td>\n",
       "      <td>0.437456</td>\n",
       "      <td>0.738854</td>\n",
       "      <td>0.008197</td>\n",
       "      <td>0.000225</td>\n",
       "    </tr>\n",
       "    <tr>\n",
       "      <th>1</th>\n",
       "      <td>tt0443584</td>\n",
       "      <td>1</td>\n",
       "      <td>0.119524</td>\n",
       "      <td>0.424670</td>\n",
       "      <td>0.662225</td>\n",
       "      <td>0.261958</td>\n",
       "      <td>0.978468</td>\n",
       "      <td>0.143147</td>\n",
       "      <td>0.464968</td>\n",
       "      <td>0.012295</td>\n",
       "      <td>0.028406</td>\n",
       "    </tr>\n",
       "    <tr>\n",
       "      <th>2</th>\n",
       "      <td>tt0242527</td>\n",
       "      <td>1</td>\n",
       "      <td>0.384807</td>\n",
       "      <td>0.343383</td>\n",
       "      <td>0.740054</td>\n",
       "      <td>0.554190</td>\n",
       "      <td>0.817338</td>\n",
       "      <td>0.069299</td>\n",
       "      <td>0.700637</td>\n",
       "      <td>0.062842</td>\n",
       "      <td>0.023810</td>\n",
       "    </tr>\n",
       "    <tr>\n",
       "      <th>3</th>\n",
       "      <td>tt0374180</td>\n",
       "      <td>1</td>\n",
       "      <td>0.821214</td>\n",
       "      <td>0.161882</td>\n",
       "      <td>0.329482</td>\n",
       "      <td>0.479809</td>\n",
       "      <td>0.854410</td>\n",
       "      <td>0.196915</td>\n",
       "      <td>0.579618</td>\n",
       "      <td>0.043716</td>\n",
       "      <td>0.046704</td>\n",
       "    </tr>\n",
       "    <tr>\n",
       "      <th>4</th>\n",
       "      <td>tt0428856</td>\n",
       "      <td>1</td>\n",
       "      <td>0.672031</td>\n",
       "      <td>0.535561</td>\n",
       "      <td>0.473752</td>\n",
       "      <td>0.034677</td>\n",
       "      <td>0.912749</td>\n",
       "      <td>0.273534</td>\n",
       "      <td>0.713376</td>\n",
       "      <td>0.053279</td>\n",
       "      <td>0.029964</td>\n",
       "    </tr>\n",
       "  </tbody>\n",
       "</table>\n",
       "</div>"
      ],
      "text/plain": [
       "          id  group  review_1st  review_2nd  description_1st  description_2nd  \\\n",
       "0  tt0248123      1    0.809561    0.784496         0.450726         0.026841   \n",
       "1  tt0443584      1    0.119524    0.424670         0.662225         0.261958   \n",
       "2  tt0242527      1    0.384807    0.343383         0.740054         0.554190   \n",
       "3  tt0374180      1    0.821214    0.161882         0.329482         0.479809   \n",
       "4  tt0428856      1    0.672031    0.535561         0.473752         0.034677   \n",
       "\n",
       "   overview_1st  overview_2nd     votes  reviews_from_critics  popularity  \n",
       "0      0.841725      0.437456  0.738854              0.008197    0.000225  \n",
       "1      0.978468      0.143147  0.464968              0.012295    0.028406  \n",
       "2      0.817338      0.069299  0.700637              0.062842    0.023810  \n",
       "3      0.854410      0.196915  0.579618              0.043716    0.046704  \n",
       "4      0.912749      0.273534  0.713376              0.053279    0.029964  "
      ]
     },
     "execution_count": 20,
     "metadata": {},
     "output_type": "execute_result"
    }
   ],
   "source": [
    "df_final.head()"
   ]
  },
  {
   "cell_type": "markdown",
   "metadata": {},
   "source": [
    "Great! We just created \"2. including ['votes'] column + Kmode\" dataframe.\n",
    "\n",
    "To create \"4. NOT including ['votes'] column + Kmode\" dataframe, let's remove 'votes' column."
   ]
  },
  {
   "cell_type": "code",
   "execution_count": 22,
   "metadata": {},
   "outputs": [],
   "source": [
    "df_final_no_votes = df_final.drop(['votes'], axis = 1)"
   ]
  },
  {
   "cell_type": "code",
   "execution_count": 23,
   "metadata": {},
   "outputs": [
    {
     "data": {
      "text/html": [
       "<div>\n",
       "<style scoped>\n",
       "    .dataframe tbody tr th:only-of-type {\n",
       "        vertical-align: middle;\n",
       "    }\n",
       "\n",
       "    .dataframe tbody tr th {\n",
       "        vertical-align: top;\n",
       "    }\n",
       "\n",
       "    .dataframe thead th {\n",
       "        text-align: right;\n",
       "    }\n",
       "</style>\n",
       "<table border=\"1\" class=\"dataframe\">\n",
       "  <thead>\n",
       "    <tr style=\"text-align: right;\">\n",
       "      <th></th>\n",
       "      <th>id</th>\n",
       "      <th>group</th>\n",
       "      <th>review_1st</th>\n",
       "      <th>review_2nd</th>\n",
       "      <th>description_1st</th>\n",
       "      <th>description_2nd</th>\n",
       "      <th>overview_1st</th>\n",
       "      <th>overview_2nd</th>\n",
       "      <th>reviews_from_critics</th>\n",
       "      <th>popularity</th>\n",
       "    </tr>\n",
       "  </thead>\n",
       "  <tbody>\n",
       "    <tr>\n",
       "      <th>0</th>\n",
       "      <td>tt0248123</td>\n",
       "      <td>1</td>\n",
       "      <td>0.809561</td>\n",
       "      <td>0.784496</td>\n",
       "      <td>0.450726</td>\n",
       "      <td>0.026841</td>\n",
       "      <td>0.841725</td>\n",
       "      <td>0.437456</td>\n",
       "      <td>0.008197</td>\n",
       "      <td>0.000225</td>\n",
       "    </tr>\n",
       "    <tr>\n",
       "      <th>1</th>\n",
       "      <td>tt0443584</td>\n",
       "      <td>1</td>\n",
       "      <td>0.119524</td>\n",
       "      <td>0.424670</td>\n",
       "      <td>0.662225</td>\n",
       "      <td>0.261958</td>\n",
       "      <td>0.978468</td>\n",
       "      <td>0.143147</td>\n",
       "      <td>0.012295</td>\n",
       "      <td>0.028406</td>\n",
       "    </tr>\n",
       "    <tr>\n",
       "      <th>2</th>\n",
       "      <td>tt0242527</td>\n",
       "      <td>1</td>\n",
       "      <td>0.384807</td>\n",
       "      <td>0.343383</td>\n",
       "      <td>0.740054</td>\n",
       "      <td>0.554190</td>\n",
       "      <td>0.817338</td>\n",
       "      <td>0.069299</td>\n",
       "      <td>0.062842</td>\n",
       "      <td>0.023810</td>\n",
       "    </tr>\n",
       "    <tr>\n",
       "      <th>3</th>\n",
       "      <td>tt0374180</td>\n",
       "      <td>1</td>\n",
       "      <td>0.821214</td>\n",
       "      <td>0.161882</td>\n",
       "      <td>0.329482</td>\n",
       "      <td>0.479809</td>\n",
       "      <td>0.854410</td>\n",
       "      <td>0.196915</td>\n",
       "      <td>0.043716</td>\n",
       "      <td>0.046704</td>\n",
       "    </tr>\n",
       "    <tr>\n",
       "      <th>4</th>\n",
       "      <td>tt0428856</td>\n",
       "      <td>1</td>\n",
       "      <td>0.672031</td>\n",
       "      <td>0.535561</td>\n",
       "      <td>0.473752</td>\n",
       "      <td>0.034677</td>\n",
       "      <td>0.912749</td>\n",
       "      <td>0.273534</td>\n",
       "      <td>0.053279</td>\n",
       "      <td>0.029964</td>\n",
       "    </tr>\n",
       "  </tbody>\n",
       "</table>\n",
       "</div>"
      ],
      "text/plain": [
       "          id  group  review_1st  review_2nd  description_1st  description_2nd  \\\n",
       "0  tt0248123      1    0.809561    0.784496         0.450726         0.026841   \n",
       "1  tt0443584      1    0.119524    0.424670         0.662225         0.261958   \n",
       "2  tt0242527      1    0.384807    0.343383         0.740054         0.554190   \n",
       "3  tt0374180      1    0.821214    0.161882         0.329482         0.479809   \n",
       "4  tt0428856      1    0.672031    0.535561         0.473752         0.034677   \n",
       "\n",
       "   overview_1st  overview_2nd  reviews_from_critics  popularity  \n",
       "0      0.841725      0.437456              0.008197    0.000225  \n",
       "1      0.978468      0.143147              0.012295    0.028406  \n",
       "2      0.817338      0.069299              0.062842    0.023810  \n",
       "3      0.854410      0.196915              0.043716    0.046704  \n",
       "4      0.912749      0.273534              0.053279    0.029964  "
      ]
     },
     "execution_count": 23,
     "metadata": {},
     "output_type": "execute_result"
    }
   ],
   "source": [
    "df_final_no_votes.head()"
   ]
  },
  {
   "cell_type": "markdown",
   "metadata": {},
   "source": [
    "# Save each dataframe to csv files"
   ]
  },
  {
   "cell_type": "code",
   "execution_count": 21,
   "metadata": {},
   "outputs": [],
   "source": [
    "df_final.to_csv(prefix_path + personal_path + 'case2/Data/yesVotes_kmode_final_df.csv')"
   ]
  },
  {
   "cell_type": "code",
   "execution_count": 24,
   "metadata": {},
   "outputs": [],
   "source": [
    "df_final_no_votes.to_csv(prefix_path + personal_path + 'case2/Data/noVotes_kmode_final_df.csv')"
   ]
  }
 ],
 "metadata": {
  "kernelspec": {
   "display_name": "Python 3",
   "language": "python",
   "name": "python3"
  },
  "language_info": {
   "codemirror_mode": {
    "name": "ipython",
    "version": 3
   },
   "file_extension": ".py",
   "mimetype": "text/x-python",
   "name": "python",
   "nbconvert_exporter": "python",
   "pygments_lexer": "ipython3",
   "version": "3.8.3"
  }
 },
 "nbformat": 4,
 "nbformat_minor": 4
}
