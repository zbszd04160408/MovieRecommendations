{
 "cells": [
  {
   "cell_type": "markdown",
   "metadata": {},
   "source": [
    "# 51-yes-votes-evaluation\n",
    "\n",
    "#### This notebook will be used to evaluate the models used on datasets that contain user ratings."
   ]
  },
  {
   "cell_type": "markdown",
   "metadata": {},
   "source": [
    "### Install packages & run necessary notebooks"
   ]
  },
  {
   "cell_type": "code",
   "execution_count": 1,
   "metadata": {},
   "outputs": [],
   "source": [
    "# import packages\n",
    "import pandas as pd\n",
    "import numpy as np"
   ]
  },
  {
   "cell_type": "code",
   "execution_count": null,
   "metadata": {},
   "outputs": [],
   "source": [
    "# run notebook to get pre-defined functions\n",
    "%%capture\n",
    "%run 50-get-5recommendation-using-euclidian-distance.ipynb"
   ]
  },
  {
   "cell_type": "markdown",
   "metadata": {},
   "source": [
    "### Read in datasets"
   ]
  },
  {
   "cell_type": "code",
   "execution_count": 59,
   "metadata": {
    "scrolled": true
   },
   "outputs": [],
   "source": [
    "# read in data\n",
    "\n",
    "path = 'data/'\n",
    "\n",
    "kmodes = 'yesVotes_kmode_final_df.csv'\n",
    "kmodes_kmeans = 'yesVotes_kmode_kmeans_final_df.csv'\n",
    "\n",
    "\n",
    "kmodes_data = pd.read_csv(path + kmodes)\n",
    "kmodesKmeans_data = pd.read_csv(path + kmodes_kmeans)\n",
    "\n",
    "imdb_recs = 'imdb_recommendations_tid.csv'\n",
    "imdb_data = pd.read_csv(path + imdb_recs)"
   ]
  },
  {
   "cell_type": "markdown",
   "metadata": {},
   "source": [
    "## MODEL 1: KMODES ONLY"
   ]
  },
  {
   "cell_type": "markdown",
   "metadata": {},
   "source": [
    "### Evaluating for one movie id as test"
   ]
  },
  {
   "cell_type": "code",
   "execution_count": 116,
   "metadata": {},
   "outputs": [],
   "source": [
    "# test movie id\n",
    "test = 'tt0374180'"
   ]
  },
  {
   "cell_type": "code",
   "execution_count": 119,
   "metadata": {},
   "outputs": [
    {
     "data": {
      "text/plain": [
       "['tt0041776', 'tt0300015', 'tt0847877', 'tt0116683', 'tt0041182']"
      ]
     },
     "execution_count": 119,
     "metadata": {},
     "output_type": "execute_result"
    }
   ],
   "source": [
    "# run model to get predictions\n",
    "_, test1 = get_5recommendation_noKmeans(kmodes_data, test)\n",
    "test1"
   ]
  },
  {
   "cell_type": "code",
   "execution_count": 120,
   "metadata": {},
   "outputs": [
    {
     "data": {
      "text/html": [
       "<div>\n",
       "<style scoped>\n",
       "    .dataframe tbody tr th:only-of-type {\n",
       "        vertical-align: middle;\n",
       "    }\n",
       "\n",
       "    .dataframe tbody tr th {\n",
       "        vertical-align: top;\n",
       "    }\n",
       "\n",
       "    .dataframe thead th {\n",
       "        text-align: right;\n",
       "    }\n",
       "</style>\n",
       "<table border=\"1\" class=\"dataframe\">\n",
       "  <thead>\n",
       "    <tr style=\"text-align: right;\">\n",
       "      <th></th>\n",
       "      <th>id</th>\n",
       "      <th>recommendation1</th>\n",
       "      <th>recommendation2</th>\n",
       "      <th>recommendation3</th>\n",
       "      <th>recommendation4</th>\n",
       "      <th>recommendation5</th>\n",
       "      <th>recommendation6</th>\n",
       "      <th>recommendation7</th>\n",
       "      <th>recommendation8</th>\n",
       "      <th>recommendation9</th>\n",
       "      <th>recommendation10</th>\n",
       "      <th>recommendation11</th>\n",
       "      <th>recommendation12</th>\n",
       "      <th>imdb_recs</th>\n",
       "    </tr>\n",
       "  </thead>\n",
       "  <tbody>\n",
       "    <tr>\n",
       "      <th>21</th>\n",
       "      <td>tt0374180</td>\n",
       "      <td>tt0108517</td>\n",
       "      <td>tt0100369</td>\n",
       "      <td>tt0087075</td>\n",
       "      <td>tt0091142</td>\n",
       "      <td>tt0381966</td>\n",
       "      <td>tt0115610</td>\n",
       "      <td>tt0303021</td>\n",
       "      <td>tt0450405</td>\n",
       "      <td>tt0470132</td>\n",
       "      <td>tt0257516</td>\n",
       "      <td>tt0336940</td>\n",
       "      <td>tt0116365</td>\n",
       "      <td>[tt0108517, tt0100369, tt0087075, tt0091142, t...</td>\n",
       "    </tr>\n",
       "  </tbody>\n",
       "</table>\n",
       "</div>"
      ],
      "text/plain": [
       "           id recommendation1 recommendation2 recommendation3 recommendation4  \\\n",
       "21  tt0374180       tt0108517       tt0100369       tt0087075       tt0091142   \n",
       "\n",
       "   recommendation5 recommendation6 recommendation7 recommendation8  \\\n",
       "21       tt0381966       tt0115610       tt0303021       tt0450405   \n",
       "\n",
       "   recommendation9 recommendation10 recommendation11 recommendation12  \\\n",
       "21       tt0470132        tt0257516        tt0336940        tt0116365   \n",
       "\n",
       "                                            imdb_recs  \n",
       "21  [tt0108517, tt0100369, tt0087075, tt0091142, t...  "
      ]
     },
     "execution_count": 120,
     "metadata": {},
     "output_type": "execute_result"
    }
   ],
   "source": [
    "# look up movie id in the imdb recommendations dataset\n",
    "test2 = imdb_data.loc[imdb_data['id'] == test]\n",
    "test2"
   ]
  },
  {
   "cell_type": "markdown",
   "metadata": {},
   "source": [
    "The predictions from our model are not listed in the IMDB recommendations at all. This happened for several movies that I checked."
   ]
  },
  {
   "cell_type": "markdown",
   "metadata": {},
   "source": [
    "### Run predictions on full dataset (3k movie ids) and evaluate"
   ]
  },
  {
   "cell_type": "code",
   "execution_count": 60,
   "metadata": {
    "scrolled": false
   },
   "outputs": [],
   "source": [
    "# run function to get predictions for all movies - store as dictionary\n",
    "recs = {}\n",
    "kmodes_ids = kmodes_data['id'].tolist()\n",
    "for i in kmodes_ids:\n",
    "    _, recs_5 = get_5recommendation_noKmeans(kmodes_data, i)\n",
    "    recs[i] = recs_5"
   ]
  },
  {
   "cell_type": "code",
   "execution_count": null,
   "metadata": {},
   "outputs": [],
   "source": [
    "# make dataframe with preds as a list\n",
    "recs_data = pd.DataFrame(list(recs.items()),columns = ['id','recommendations'])"
   ]
  },
  {
   "cell_type": "code",
   "execution_count": 86,
   "metadata": {},
   "outputs": [],
   "source": [
    "# convert all 12 recommendations to list to match preds df\n",
    "cols = list(imdb_data.filter(regex='recommendation').columns)\n",
    "imdb_data['imdb_recs'] = imdb_data[cols].values.tolist()"
   ]
  },
  {
   "cell_type": "code",
   "execution_count": 88,
   "metadata": {},
   "outputs": [],
   "source": [
    "# merge imdb preds and model preds\n",
    "compare_df = recs_data.merge(imdb_data[['id','imdb_recs']], how='inner',on='id')"
   ]
  },
  {
   "cell_type": "code",
   "execution_count": 97,
   "metadata": {},
   "outputs": [],
   "source": [
    "# for each movie id compare the two lists to see how many are accurate\n",
    "for i in range(len(compare_df)):\n",
    "    recs_sum = sum(a == b for a, b in zip(compare_df['recommendations'][i], compare_df['imdb_recs'][i]))\n",
    "    compare_df['acc'] = recs_sum / 5"
   ]
  },
  {
   "cell_type": "markdown",
   "metadata": {},
   "source": [
    "Accuracy is 0.0 for all movies ids."
   ]
  },
  {
   "cell_type": "markdown",
   "metadata": {},
   "source": [
    "## MODEL 2: KMODES + KMEANS"
   ]
  },
  {
   "cell_type": "markdown",
   "metadata": {},
   "source": [
    "### Evaluating for one movie id as test"
   ]
  },
  {
   "cell_type": "code",
   "execution_count": 191,
   "metadata": {},
   "outputs": [],
   "source": [
    "# test movie id\n",
    "test = 'tt0077631'"
   ]
  },
  {
   "cell_type": "code",
   "execution_count": 192,
   "metadata": {},
   "outputs": [
    {
     "data": {
      "text/plain": [
       "['tt0076416', 'tt0049367', 'tt0021025', 'tt0115610', 'tt0211718']"
      ]
     },
     "execution_count": 192,
     "metadata": {},
     "output_type": "execute_result"
    }
   ],
   "source": [
    "# run model on test movie id\n",
    "_, test1 = get_5recommendation_yesKmeans(kmodesKmeans_data, test)\n",
    "test1"
   ]
  },
  {
   "cell_type": "code",
   "execution_count": 161,
   "metadata": {
    "scrolled": true
   },
   "outputs": [
    {
     "data": {
      "text/html": [
       "<div>\n",
       "<style scoped>\n",
       "    .dataframe tbody tr th:only-of-type {\n",
       "        vertical-align: middle;\n",
       "    }\n",
       "\n",
       "    .dataframe tbody tr th {\n",
       "        vertical-align: top;\n",
       "    }\n",
       "\n",
       "    .dataframe thead th {\n",
       "        text-align: right;\n",
       "    }\n",
       "</style>\n",
       "<table border=\"1\" class=\"dataframe\">\n",
       "  <thead>\n",
       "    <tr style=\"text-align: right;\">\n",
       "      <th></th>\n",
       "      <th>id</th>\n",
       "      <th>recommendation1</th>\n",
       "      <th>recommendation2</th>\n",
       "      <th>recommendation3</th>\n",
       "      <th>recommendation4</th>\n",
       "      <th>recommendation5</th>\n",
       "      <th>recommendation6</th>\n",
       "      <th>recommendation7</th>\n",
       "      <th>recommendation8</th>\n",
       "      <th>recommendation9</th>\n",
       "      <th>recommendation10</th>\n",
       "      <th>recommendation11</th>\n",
       "      <th>recommendation12</th>\n",
       "      <th>imdb_recs</th>\n",
       "    </tr>\n",
       "  </thead>\n",
       "  <tbody>\n",
       "    <tr>\n",
       "      <th>2979</th>\n",
       "      <td>tt0053213</td>\n",
       "      <td>tt0054381</td>\n",
       "      <td>tt0030845</td>\n",
       "      <td>tt0059290</td>\n",
       "      <td>tt0053640</td>\n",
       "      <td>tt0049013</td>\n",
       "      <td>tt0051947</td>\n",
       "      <td>tt0052846</td>\n",
       "      <td>tt0059161</td>\n",
       "      <td>tt0052884</td>\n",
       "      <td>tt0051058</td>\n",
       "      <td>tt0061827</td>\n",
       "      <td>tt2175675</td>\n",
       "      <td>[tt0054381, tt0030845, tt0059290, tt0053640, t...</td>\n",
       "    </tr>\n",
       "  </tbody>\n",
       "</table>\n",
       "</div>"
      ],
      "text/plain": [
       "             id recommendation1 recommendation2 recommendation3  \\\n",
       "2979  tt0053213       tt0054381       tt0030845       tt0059290   \n",
       "\n",
       "     recommendation4 recommendation5 recommendation6 recommendation7  \\\n",
       "2979       tt0053640       tt0049013       tt0051947       tt0052846   \n",
       "\n",
       "     recommendation8 recommendation9 recommendation10 recommendation11  \\\n",
       "2979       tt0059161       tt0052884        tt0051058        tt0061827   \n",
       "\n",
       "     recommendation12                                          imdb_recs  \n",
       "2979        tt2175675  [tt0054381, tt0030845, tt0059290, tt0053640, t...  "
      ]
     },
     "execution_count": 161,
     "metadata": {},
     "output_type": "execute_result"
    }
   ],
   "source": [
    "# filter imdb dataset for test movie id\n",
    "test2 = imdb_data.loc[imdb_data['id'] == test]\n",
    "test2"
   ]
  },
  {
   "cell_type": "markdown",
   "metadata": {},
   "source": [
    "Same as above. No predictions found in IMDB recommendations."
   ]
  },
  {
   "cell_type": "markdown",
   "metadata": {},
   "source": [
    "### Run model on full dataset and evaluate"
   ]
  },
  {
   "cell_type": "code",
   "execution_count": 124,
   "metadata": {},
   "outputs": [],
   "source": [
    "# run function to get predictions for all movies - store as dictionary\n",
    "recs_kmeans = {}\n",
    "kmodesKmeans_ids = kmodesKmeans_data['id'].tolist()\n",
    "for i in kmodesKmeans_ids:\n",
    "    _, recsKmeans_5 = get_5recommendation_yesKmeans(kmodesKmeans_data, i)\n",
    "    recs_kmeans[i] = recsKmeans_5"
   ]
  },
  {
   "cell_type": "code",
   "execution_count": 125,
   "metadata": {},
   "outputs": [],
   "source": [
    "# make dataframe with preds as a list\n",
    "recsKmeans_data = pd.DataFrame(list(recs.items()),columns = ['id','recommendations'])"
   ]
  },
  {
   "cell_type": "code",
   "execution_count": 126,
   "metadata": {},
   "outputs": [],
   "source": [
    "# merge imdb preds and model preds\n",
    "compareKmeans_df = recsKmeans_data.merge(imdb_data[['id','imdb_recs']], how='inner',on='id')"
   ]
  },
  {
   "cell_type": "code",
   "execution_count": 127,
   "metadata": {},
   "outputs": [],
   "source": [
    "# for each movie id compare the two lists to see how many are accurate\n",
    "for i in range(len(compareKmeans_df)):\n",
    "    recsKmeans_sum = sum(a == b for a, b in zip(compareKmeans_df['recommendations'][i], compareKmeans_df['imdb_recs'][i]))\n",
    "    compareKmeans_df['acc'] = recsKmeans_sum / 5"
   ]
  },
  {
   "cell_type": "markdown",
   "metadata": {},
   "source": [
    "Accuracy is also 0.0 for all movie ids."
   ]
  }
 ],
 "metadata": {
  "kernelspec": {
   "display_name": "Python 3",
   "language": "python",
   "name": "python3"
  },
  "language_info": {
   "codemirror_mode": {
    "name": "ipython",
    "version": 3
   },
   "file_extension": ".py",
   "mimetype": "text/x-python",
   "name": "python",
   "nbconvert_exporter": "python",
   "pygments_lexer": "ipython3",
   "version": "3.8.3"
  }
 },
 "nbformat": 4,
 "nbformat_minor": 4
}
