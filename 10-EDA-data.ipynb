{
 "cells": [
  {
   "cell_type": "markdown",
   "id": "c78b1ea7-a274-4f6a-a3b9-512acd3fa2c5",
   "metadata": {},
   "source": [
    "# 10-EDA-data"
   ]
  },
  {
   "cell_type": "markdown",
   "id": "2a2d00dd-65a8-4ff6-b429-29dbe6d0a806",
   "metadata": {},
   "source": [
    "> Get some prelimary EDA"
   ]
  },
  {
   "cell_type": "code",
   "execution_count": 1,
   "id": "18af83b6-892e-4802-a167-4e538d92804a",
   "metadata": {},
   "outputs": [],
   "source": [
    "import pandas as pd\n",
    "import numpy as np\n",
    "import matplotlib.pyplot as plt"
   ]
  },
  {
   "cell_type": "code",
   "execution_count": 9,
   "id": "ba5ba9e4-3ec8-4d59-8974-a4553d0ecfa8",
   "metadata": {},
   "outputs": [],
   "source": [
    "id_reviews = pd.read_csv('Data/id_reviews.tsv', sep='\\t', names = ['id', 'review'])\n",
    "main = pd.read_csv('Data/main.csv')"
   ]
  },
  {
   "cell_type": "code",
   "execution_count": 5,
   "id": "153e3691-c40a-4ee5-8c82-840758940480",
   "metadata": {},
   "outputs": [
    {
     "data": {
      "text/html": [
       "<div>\n",
       "<style scoped>\n",
       "    .dataframe tbody tr th:only-of-type {\n",
       "        vertical-align: middle;\n",
       "    }\n",
       "\n",
       "    .dataframe tbody tr th {\n",
       "        vertical-align: top;\n",
       "    }\n",
       "\n",
       "    .dataframe thead th {\n",
       "        text-align: right;\n",
       "    }\n",
       "</style>\n",
       "<table border=\"1\" class=\"dataframe\">\n",
       "  <thead>\n",
       "    <tr style=\"text-align: right;\">\n",
       "      <th></th>\n",
       "      <th>id</th>\n",
       "      <th>review</th>\n",
       "    </tr>\n",
       "  </thead>\n",
       "  <tbody>\n",
       "    <tr>\n",
       "      <th>0</th>\n",
       "      <td>tt0018515</td>\n",
       "      <td>I admit, the great majority of films released ...</td>\n",
       "    </tr>\n",
       "    <tr>\n",
       "      <th>1</th>\n",
       "      <td>tt0018515</td>\n",
       "      <td>This is a very strange film that was long thou...</td>\n",
       "    </tr>\n",
       "    <tr>\n",
       "      <th>2</th>\n",
       "      <td>tt0018515</td>\n",
       "      <td>William Boyd and Louis Wolheim are the \"Two Ar...</td>\n",
       "    </tr>\n",
       "    <tr>\n",
       "      <th>3</th>\n",
       "      <td>tt0018515</td>\n",
       "      <td>Not very many movies come to my mind that cove...</td>\n",
       "    </tr>\n",
       "    <tr>\n",
       "      <th>4</th>\n",
       "      <td>tt0018515</td>\n",
       "      <td>The third movie produced by Howard Hughes, thi...</td>\n",
       "    </tr>\n",
       "    <tr>\n",
       "      <th>...</th>\n",
       "      <td>...</td>\n",
       "      <td>...</td>\n",
       "    </tr>\n",
       "    <tr>\n",
       "      <th>49995</th>\n",
       "      <td>tt0492486</td>\n",
       "      <td>I saw this movie tonight. Never have left comm...</td>\n",
       "    </tr>\n",
       "    <tr>\n",
       "      <th>49996</th>\n",
       "      <td>tt0492486</td>\n",
       "      <td>Shrooms basically is a Slasher Movie. 3 couple...</td>\n",
       "    </tr>\n",
       "    <tr>\n",
       "      <th>49997</th>\n",
       "      <td>tt0861701</td>\n",
       "      <td>I sat down to watch this movie, with my brothe...</td>\n",
       "    </tr>\n",
       "    <tr>\n",
       "      <th>49998</th>\n",
       "      <td>tt0861701</td>\n",
       "      <td>Let me start by saying this: if you liked this...</td>\n",
       "    </tr>\n",
       "    <tr>\n",
       "      <th>49999</th>\n",
       "      <td>tt0861701</td>\n",
       "      <td>The video and audio quality is sub-par. To me,...</td>\n",
       "    </tr>\n",
       "  </tbody>\n",
       "</table>\n",
       "<p>50000 rows × 2 columns</p>\n",
       "</div>"
      ],
      "text/plain": [
       "              id                                             review\n",
       "0      tt0018515  I admit, the great majority of films released ...\n",
       "1      tt0018515  This is a very strange film that was long thou...\n",
       "2      tt0018515  William Boyd and Louis Wolheim are the \"Two Ar...\n",
       "3      tt0018515  Not very many movies come to my mind that cove...\n",
       "4      tt0018515  The third movie produced by Howard Hughes, thi...\n",
       "...          ...                                                ...\n",
       "49995  tt0492486  I saw this movie tonight. Never have left comm...\n",
       "49996  tt0492486  Shrooms basically is a Slasher Movie. 3 couple...\n",
       "49997  tt0861701  I sat down to watch this movie, with my brothe...\n",
       "49998  tt0861701  Let me start by saying this: if you liked this...\n",
       "49999  tt0861701  The video and audio quality is sub-par. To me,...\n",
       "\n",
       "[50000 rows x 2 columns]"
      ]
     },
     "execution_count": 5,
     "metadata": {},
     "output_type": "execute_result"
    }
   ],
   "source": [
    "id_reviews"
   ]
  },
  {
   "cell_type": "code",
   "execution_count": 8,
   "id": "57046c4e-ec2c-42b5-8073-642d396f7a4f",
   "metadata": {},
   "outputs": [
    {
     "data": {
      "text/plain": [
       "'ANALYZE THIS / (1999) *** <br /><br /> It has been a long time since I have seen a comic duo form a better shtick than Robert DeNiro and Billy Crystal in the mob comedy \"Analyze This,\" a smart, amusing satire from director Harold Ramis (\"Multiplicity,\" \"Groundhog Day\"). For a movie like this to succeed past a commercial level, chemistry between the main characters must be amiable and spirited. Crystal and DeNiro indeed mold amiable incentive between themselves, therefore quite a few hilarious moments emerge from their perception of the well-written script by Kenneth Lonergan, Peter Tolan, and Ramis himself. <br /><br />'"
      ]
     },
     "execution_count": 8,
     "metadata": {},
     "output_type": "execute_result"
    }
   ],
   "source": [
    "id_reviews.at[726, \"review\"]"
   ]
  },
  {
   "cell_type": "code",
   "execution_count": 10,
   "id": "23a3f198-95b6-428b-9cb9-17dfe0bde7b9",
   "metadata": {},
   "outputs": [
    {
     "data": {
      "text/html": [
       "<div>\n",
       "<style scoped>\n",
       "    .dataframe tbody tr th:only-of-type {\n",
       "        vertical-align: middle;\n",
       "    }\n",
       "\n",
       "    .dataframe tbody tr th {\n",
       "        vertical-align: top;\n",
       "    }\n",
       "\n",
       "    .dataframe thead th {\n",
       "        text-align: right;\n",
       "    }\n",
       "</style>\n",
       "<table border=\"1\" class=\"dataframe\">\n",
       "  <thead>\n",
       "    <tr style=\"text-align: right;\">\n",
       "      <th></th>\n",
       "      <th>id_x</th>\n",
       "      <th>review</th>\n",
       "      <th>title_x</th>\n",
       "      <th>original_title_x</th>\n",
       "      <th>year</th>\n",
       "      <th>date_published</th>\n",
       "      <th>genre</th>\n",
       "      <th>duration</th>\n",
       "      <th>country</th>\n",
       "      <th>language</th>\n",
       "      <th>...</th>\n",
       "      <th>release_date</th>\n",
       "      <th>revenue</th>\n",
       "      <th>runtime</th>\n",
       "      <th>spoken_languages</th>\n",
       "      <th>status</th>\n",
       "      <th>tagline</th>\n",
       "      <th>title_y</th>\n",
       "      <th>video</th>\n",
       "      <th>vote_average</th>\n",
       "      <th>vote_count</th>\n",
       "    </tr>\n",
       "  </thead>\n",
       "  <tbody>\n",
       "    <tr>\n",
       "      <th>0</th>\n",
       "      <td>tt0018515</td>\n",
       "      <td>I admit, the great majority of films released ...</td>\n",
       "      <td>Notte d'Arabia</td>\n",
       "      <td>Two Arabian Knights</td>\n",
       "      <td>1927</td>\n",
       "      <td>1927-09-23</td>\n",
       "      <td>Adventure, Comedy, Romance</td>\n",
       "      <td>92</td>\n",
       "      <td>USA</td>\n",
       "      <td>English</td>\n",
       "      <td>...</td>\n",
       "      <td>1927-09-23</td>\n",
       "      <td>0.0</td>\n",
       "      <td>92.0</td>\n",
       "      <td>[]</td>\n",
       "      <td>Released</td>\n",
       "      <td>NaN</td>\n",
       "      <td>Two Arabian Knights</td>\n",
       "      <td>False</td>\n",
       "      <td>0.0</td>\n",
       "      <td>0.0</td>\n",
       "    </tr>\n",
       "    <tr>\n",
       "      <th>1</th>\n",
       "      <td>tt0018515</td>\n",
       "      <td>This is a very strange film that was long thou...</td>\n",
       "      <td>Notte d'Arabia</td>\n",
       "      <td>Two Arabian Knights</td>\n",
       "      <td>1927</td>\n",
       "      <td>1927-09-23</td>\n",
       "      <td>Adventure, Comedy, Romance</td>\n",
       "      <td>92</td>\n",
       "      <td>USA</td>\n",
       "      <td>English</td>\n",
       "      <td>...</td>\n",
       "      <td>1927-09-23</td>\n",
       "      <td>0.0</td>\n",
       "      <td>92.0</td>\n",
       "      <td>[]</td>\n",
       "      <td>Released</td>\n",
       "      <td>NaN</td>\n",
       "      <td>Two Arabian Knights</td>\n",
       "      <td>False</td>\n",
       "      <td>0.0</td>\n",
       "      <td>0.0</td>\n",
       "    </tr>\n",
       "    <tr>\n",
       "      <th>2</th>\n",
       "      <td>tt0018515</td>\n",
       "      <td>William Boyd and Louis Wolheim are the \"Two Ar...</td>\n",
       "      <td>Notte d'Arabia</td>\n",
       "      <td>Two Arabian Knights</td>\n",
       "      <td>1927</td>\n",
       "      <td>1927-09-23</td>\n",
       "      <td>Adventure, Comedy, Romance</td>\n",
       "      <td>92</td>\n",
       "      <td>USA</td>\n",
       "      <td>English</td>\n",
       "      <td>...</td>\n",
       "      <td>1927-09-23</td>\n",
       "      <td>0.0</td>\n",
       "      <td>92.0</td>\n",
       "      <td>[]</td>\n",
       "      <td>Released</td>\n",
       "      <td>NaN</td>\n",
       "      <td>Two Arabian Knights</td>\n",
       "      <td>False</td>\n",
       "      <td>0.0</td>\n",
       "      <td>0.0</td>\n",
       "    </tr>\n",
       "    <tr>\n",
       "      <th>3</th>\n",
       "      <td>tt0018515</td>\n",
       "      <td>Not very many movies come to my mind that cove...</td>\n",
       "      <td>Notte d'Arabia</td>\n",
       "      <td>Two Arabian Knights</td>\n",
       "      <td>1927</td>\n",
       "      <td>1927-09-23</td>\n",
       "      <td>Adventure, Comedy, Romance</td>\n",
       "      <td>92</td>\n",
       "      <td>USA</td>\n",
       "      <td>English</td>\n",
       "      <td>...</td>\n",
       "      <td>1927-09-23</td>\n",
       "      <td>0.0</td>\n",
       "      <td>92.0</td>\n",
       "      <td>[]</td>\n",
       "      <td>Released</td>\n",
       "      <td>NaN</td>\n",
       "      <td>Two Arabian Knights</td>\n",
       "      <td>False</td>\n",
       "      <td>0.0</td>\n",
       "      <td>0.0</td>\n",
       "    </tr>\n",
       "    <tr>\n",
       "      <th>4</th>\n",
       "      <td>tt0018515</td>\n",
       "      <td>The third movie produced by Howard Hughes, thi...</td>\n",
       "      <td>Notte d'Arabia</td>\n",
       "      <td>Two Arabian Knights</td>\n",
       "      <td>1927</td>\n",
       "      <td>1927-09-23</td>\n",
       "      <td>Adventure, Comedy, Romance</td>\n",
       "      <td>92</td>\n",
       "      <td>USA</td>\n",
       "      <td>English</td>\n",
       "      <td>...</td>\n",
       "      <td>1927-09-23</td>\n",
       "      <td>0.0</td>\n",
       "      <td>92.0</td>\n",
       "      <td>[]</td>\n",
       "      <td>Released</td>\n",
       "      <td>NaN</td>\n",
       "      <td>Two Arabian Knights</td>\n",
       "      <td>False</td>\n",
       "      <td>0.0</td>\n",
       "      <td>0.0</td>\n",
       "    </tr>\n",
       "    <tr>\n",
       "      <th>...</th>\n",
       "      <td>...</td>\n",
       "      <td>...</td>\n",
       "      <td>...</td>\n",
       "      <td>...</td>\n",
       "      <td>...</td>\n",
       "      <td>...</td>\n",
       "      <td>...</td>\n",
       "      <td>...</td>\n",
       "      <td>...</td>\n",
       "      <td>...</td>\n",
       "      <td>...</td>\n",
       "      <td>...</td>\n",
       "      <td>...</td>\n",
       "      <td>...</td>\n",
       "      <td>...</td>\n",
       "      <td>...</td>\n",
       "      <td>...</td>\n",
       "      <td>...</td>\n",
       "      <td>...</td>\n",
       "      <td>...</td>\n",
       "      <td>...</td>\n",
       "    </tr>\n",
       "    <tr>\n",
       "      <th>28624</th>\n",
       "      <td>tt0492486</td>\n",
       "      <td>This was the surprise film at the Dublin Horro...</td>\n",
       "      <td>Shrooms - Trip senza ritorno</td>\n",
       "      <td>Shrooms</td>\n",
       "      <td>2007</td>\n",
       "      <td>2008-08-22</td>\n",
       "      <td>Comedy, Horror, Mystery</td>\n",
       "      <td>84</td>\n",
       "      <td>Ireland, UK, Denmark</td>\n",
       "      <td>English</td>\n",
       "      <td>...</td>\n",
       "      <td>2007-08-16</td>\n",
       "      <td>4910682.0</td>\n",
       "      <td>84.0</td>\n",
       "      <td>[{'iso_639_1': 'en', 'name': 'English'}, {'iso...</td>\n",
       "      <td>Released</td>\n",
       "      <td>NaN</td>\n",
       "      <td>Shrooms</td>\n",
       "      <td>False</td>\n",
       "      <td>4.8</td>\n",
       "      <td>99.0</td>\n",
       "    </tr>\n",
       "    <tr>\n",
       "      <th>28625</th>\n",
       "      <td>tt0492486</td>\n",
       "      <td>I've seen hundreds of horror movies in my life...</td>\n",
       "      <td>Shrooms - Trip senza ritorno</td>\n",
       "      <td>Shrooms</td>\n",
       "      <td>2007</td>\n",
       "      <td>2008-08-22</td>\n",
       "      <td>Comedy, Horror, Mystery</td>\n",
       "      <td>84</td>\n",
       "      <td>Ireland, UK, Denmark</td>\n",
       "      <td>English</td>\n",
       "      <td>...</td>\n",
       "      <td>2007-08-16</td>\n",
       "      <td>4910682.0</td>\n",
       "      <td>84.0</td>\n",
       "      <td>[{'iso_639_1': 'en', 'name': 'English'}, {'iso...</td>\n",
       "      <td>Released</td>\n",
       "      <td>NaN</td>\n",
       "      <td>Shrooms</td>\n",
       "      <td>False</td>\n",
       "      <td>4.8</td>\n",
       "      <td>99.0</td>\n",
       "    </tr>\n",
       "    <tr>\n",
       "      <th>28626</th>\n",
       "      <td>tt0492486</td>\n",
       "      <td>I cannot remember the last time a horror movie...</td>\n",
       "      <td>Shrooms - Trip senza ritorno</td>\n",
       "      <td>Shrooms</td>\n",
       "      <td>2007</td>\n",
       "      <td>2008-08-22</td>\n",
       "      <td>Comedy, Horror, Mystery</td>\n",
       "      <td>84</td>\n",
       "      <td>Ireland, UK, Denmark</td>\n",
       "      <td>English</td>\n",
       "      <td>...</td>\n",
       "      <td>2007-08-16</td>\n",
       "      <td>4910682.0</td>\n",
       "      <td>84.0</td>\n",
       "      <td>[{'iso_639_1': 'en', 'name': 'English'}, {'iso...</td>\n",
       "      <td>Released</td>\n",
       "      <td>NaN</td>\n",
       "      <td>Shrooms</td>\n",
       "      <td>False</td>\n",
       "      <td>4.8</td>\n",
       "      <td>99.0</td>\n",
       "    </tr>\n",
       "    <tr>\n",
       "      <th>28627</th>\n",
       "      <td>tt0492486</td>\n",
       "      <td>I saw this movie tonight. Never have left comm...</td>\n",
       "      <td>Shrooms - Trip senza ritorno</td>\n",
       "      <td>Shrooms</td>\n",
       "      <td>2007</td>\n",
       "      <td>2008-08-22</td>\n",
       "      <td>Comedy, Horror, Mystery</td>\n",
       "      <td>84</td>\n",
       "      <td>Ireland, UK, Denmark</td>\n",
       "      <td>English</td>\n",
       "      <td>...</td>\n",
       "      <td>2007-08-16</td>\n",
       "      <td>4910682.0</td>\n",
       "      <td>84.0</td>\n",
       "      <td>[{'iso_639_1': 'en', 'name': 'English'}, {'iso...</td>\n",
       "      <td>Released</td>\n",
       "      <td>NaN</td>\n",
       "      <td>Shrooms</td>\n",
       "      <td>False</td>\n",
       "      <td>4.8</td>\n",
       "      <td>99.0</td>\n",
       "    </tr>\n",
       "    <tr>\n",
       "      <th>28628</th>\n",
       "      <td>tt0492486</td>\n",
       "      <td>Shrooms basically is a Slasher Movie. 3 couple...</td>\n",
       "      <td>Shrooms - Trip senza ritorno</td>\n",
       "      <td>Shrooms</td>\n",
       "      <td>2007</td>\n",
       "      <td>2008-08-22</td>\n",
       "      <td>Comedy, Horror, Mystery</td>\n",
       "      <td>84</td>\n",
       "      <td>Ireland, UK, Denmark</td>\n",
       "      <td>English</td>\n",
       "      <td>...</td>\n",
       "      <td>2007-08-16</td>\n",
       "      <td>4910682.0</td>\n",
       "      <td>84.0</td>\n",
       "      <td>[{'iso_639_1': 'en', 'name': 'English'}, {'iso...</td>\n",
       "      <td>Released</td>\n",
       "      <td>NaN</td>\n",
       "      <td>Shrooms</td>\n",
       "      <td>False</td>\n",
       "      <td>4.8</td>\n",
       "      <td>99.0</td>\n",
       "    </tr>\n",
       "  </tbody>\n",
       "</table>\n",
       "<p>28629 rows × 46 columns</p>\n",
       "</div>"
      ],
      "text/plain": [
       "            id_x                                             review  \\\n",
       "0      tt0018515  I admit, the great majority of films released ...   \n",
       "1      tt0018515  This is a very strange film that was long thou...   \n",
       "2      tt0018515  William Boyd and Louis Wolheim are the \"Two Ar...   \n",
       "3      tt0018515  Not very many movies come to my mind that cove...   \n",
       "4      tt0018515  The third movie produced by Howard Hughes, thi...   \n",
       "...          ...                                                ...   \n",
       "28624  tt0492486  This was the surprise film at the Dublin Horro...   \n",
       "28625  tt0492486  I've seen hundreds of horror movies in my life...   \n",
       "28626  tt0492486  I cannot remember the last time a horror movie...   \n",
       "28627  tt0492486  I saw this movie tonight. Never have left comm...   \n",
       "28628  tt0492486  Shrooms basically is a Slasher Movie. 3 couple...   \n",
       "\n",
       "                            title_x     original_title_x  year date_published  \\\n",
       "0                    Notte d'Arabia  Two Arabian Knights  1927     1927-09-23   \n",
       "1                    Notte d'Arabia  Two Arabian Knights  1927     1927-09-23   \n",
       "2                    Notte d'Arabia  Two Arabian Knights  1927     1927-09-23   \n",
       "3                    Notte d'Arabia  Two Arabian Knights  1927     1927-09-23   \n",
       "4                    Notte d'Arabia  Two Arabian Knights  1927     1927-09-23   \n",
       "...                             ...                  ...   ...            ...   \n",
       "28624  Shrooms - Trip senza ritorno              Shrooms  2007     2008-08-22   \n",
       "28625  Shrooms - Trip senza ritorno              Shrooms  2007     2008-08-22   \n",
       "28626  Shrooms - Trip senza ritorno              Shrooms  2007     2008-08-22   \n",
       "28627  Shrooms - Trip senza ritorno              Shrooms  2007     2008-08-22   \n",
       "28628  Shrooms - Trip senza ritorno              Shrooms  2007     2008-08-22   \n",
       "\n",
       "                            genre  duration               country language  \\\n",
       "0      Adventure, Comedy, Romance        92                   USA  English   \n",
       "1      Adventure, Comedy, Romance        92                   USA  English   \n",
       "2      Adventure, Comedy, Romance        92                   USA  English   \n",
       "3      Adventure, Comedy, Romance        92                   USA  English   \n",
       "4      Adventure, Comedy, Romance        92                   USA  English   \n",
       "...                           ...       ...                   ...      ...   \n",
       "28624     Comedy, Horror, Mystery        84  Ireland, UK, Denmark  English   \n",
       "28625     Comedy, Horror, Mystery        84  Ireland, UK, Denmark  English   \n",
       "28626     Comedy, Horror, Mystery        84  Ireland, UK, Denmark  English   \n",
       "28627     Comedy, Horror, Mystery        84  Ireland, UK, Denmark  English   \n",
       "28628     Comedy, Horror, Mystery        84  Ireland, UK, Denmark  English   \n",
       "\n",
       "       ... release_date    revenue runtime  \\\n",
       "0      ...   1927-09-23        0.0    92.0   \n",
       "1      ...   1927-09-23        0.0    92.0   \n",
       "2      ...   1927-09-23        0.0    92.0   \n",
       "3      ...   1927-09-23        0.0    92.0   \n",
       "4      ...   1927-09-23        0.0    92.0   \n",
       "...    ...          ...        ...     ...   \n",
       "28624  ...   2007-08-16  4910682.0    84.0   \n",
       "28625  ...   2007-08-16  4910682.0    84.0   \n",
       "28626  ...   2007-08-16  4910682.0    84.0   \n",
       "28627  ...   2007-08-16  4910682.0    84.0   \n",
       "28628  ...   2007-08-16  4910682.0    84.0   \n",
       "\n",
       "                                        spoken_languages    status  tagline  \\\n",
       "0                                                     []  Released      NaN   \n",
       "1                                                     []  Released      NaN   \n",
       "2                                                     []  Released      NaN   \n",
       "3                                                     []  Released      NaN   \n",
       "4                                                     []  Released      NaN   \n",
       "...                                                  ...       ...      ...   \n",
       "28624  [{'iso_639_1': 'en', 'name': 'English'}, {'iso...  Released      NaN   \n",
       "28625  [{'iso_639_1': 'en', 'name': 'English'}, {'iso...  Released      NaN   \n",
       "28626  [{'iso_639_1': 'en', 'name': 'English'}, {'iso...  Released      NaN   \n",
       "28627  [{'iso_639_1': 'en', 'name': 'English'}, {'iso...  Released      NaN   \n",
       "28628  [{'iso_639_1': 'en', 'name': 'English'}, {'iso...  Released      NaN   \n",
       "\n",
       "                   title_y  video vote_average vote_count  \n",
       "0      Two Arabian Knights  False          0.0        0.0  \n",
       "1      Two Arabian Knights  False          0.0        0.0  \n",
       "2      Two Arabian Knights  False          0.0        0.0  \n",
       "3      Two Arabian Knights  False          0.0        0.0  \n",
       "4      Two Arabian Knights  False          0.0        0.0  \n",
       "...                    ...    ...          ...        ...  \n",
       "28624              Shrooms  False          4.8       99.0  \n",
       "28625              Shrooms  False          4.8       99.0  \n",
       "28626              Shrooms  False          4.8       99.0  \n",
       "28627              Shrooms  False          4.8       99.0  \n",
       "28628              Shrooms  False          4.8       99.0  \n",
       "\n",
       "[28629 rows x 46 columns]"
      ]
     },
     "execution_count": 10,
     "metadata": {},
     "output_type": "execute_result"
    }
   ],
   "source": [
    "main"
   ]
  },
  {
   "cell_type": "code",
   "execution_count": 11,
   "id": "64431457-005f-453a-81b5-0c0eef517320",
   "metadata": {},
   "outputs": [
    {
     "data": {
      "application/vnd.jupyter.widget-view+json": {
       "model_id": "62c01bc2529444589642be0e33415154",
       "version_major": 2,
       "version_minor": 0
      },
      "text/plain": [
       "HBox(children=(FloatProgress(value=0.0, description='Downloading', max=690.0, style=ProgressStyle(description_…"
      ]
     },
     "metadata": {},
     "output_type": "display_data"
    },
    {
     "name": "stdout",
     "output_type": "stream",
     "text": [
      "\n"
     ]
    },
    {
     "data": {
      "application/vnd.jupyter.widget-view+json": {
       "model_id": "a66a98e3ec2e478891529e57aa59ca9a",
       "version_major": 2,
       "version_minor": 0
      },
      "text/plain": [
       "HBox(children=(FloatProgress(value=0.0, description='Downloading', max=2378.0, style=ProgressStyle(description…"
      ]
     },
     "metadata": {},
     "output_type": "display_data"
    },
    {
     "name": "stdout",
     "output_type": "stream",
     "text": [
      "\n"
     ]
    },
    {
     "data": {
      "application/vnd.jupyter.widget-view+json": {
       "model_id": "3b5e7a78d92348cf879fef5133bdb986",
       "version_major": 2,
       "version_minor": 0
      },
      "text/plain": [
       "HBox(children=(FloatProgress(value=0.0, description='Downloading', max=556.0, style=ProgressStyle(description_…"
      ]
     },
     "metadata": {},
     "output_type": "display_data"
    },
    {
     "name": "stdout",
     "output_type": "stream",
     "text": [
      "\n"
     ]
    },
    {
     "data": {
      "application/vnd.jupyter.widget-view+json": {
       "model_id": "23d40c5f15454a56995ec552f1aa5cd2",
       "version_major": 2,
       "version_minor": 0
      },
      "text/plain": [
       "HBox(children=(FloatProgress(value=0.0, description='Downloading', max=122.0, style=ProgressStyle(description_…"
      ]
     },
     "metadata": {},
     "output_type": "display_data"
    },
    {
     "name": "stdout",
     "output_type": "stream",
     "text": [
      "\n"
     ]
    },
    {
     "data": {
      "application/vnd.jupyter.widget-view+json": {
       "model_id": "4a6d2bbaae14436c89429839755ecf97",
       "version_major": 2,
       "version_minor": 0
      },
      "text/plain": [
       "HBox(children=(FloatProgress(value=0.0, description='Downloading', max=341.0, style=ProgressStyle(description_…"
      ]
     },
     "metadata": {},
     "output_type": "display_data"
    },
    {
     "name": "stdout",
     "output_type": "stream",
     "text": [
      "\n"
     ]
    },
    {
     "data": {
      "application/vnd.jupyter.widget-view+json": {
       "model_id": "54a006853f504acfbd385ef8561f33b4",
       "version_major": 2,
       "version_minor": 0
      },
      "text/plain": [
       "HBox(children=(FloatProgress(value=0.0, description='Downloading', max=538971577.0, style=ProgressStyle(descri…"
      ]
     },
     "metadata": {},
     "output_type": "display_data"
    },
    {
     "name": "stdout",
     "output_type": "stream",
     "text": [
      "\n"
     ]
    },
    {
     "data": {
      "application/vnd.jupyter.widget-view+json": {
       "model_id": "504f913a4d4e4b5ab75aad8fa98fb586",
       "version_major": 2,
       "version_minor": 0
      },
      "text/plain": [
       "HBox(children=(FloatProgress(value=0.0, description='Downloading', max=53.0, style=ProgressStyle(description_w…"
      ]
     },
     "metadata": {},
     "output_type": "display_data"
    },
    {
     "name": "stdout",
     "output_type": "stream",
     "text": [
      "\n"
     ]
    },
    {
     "data": {
      "application/vnd.jupyter.widget-view+json": {
       "model_id": "382582dc6c6f435eb91d4a665cdd3914",
       "version_major": 2,
       "version_minor": 0
      },
      "text/plain": [
       "HBox(children=(FloatProgress(value=0.0, description='Downloading', max=112.0, style=ProgressStyle(description_…"
      ]
     },
     "metadata": {},
     "output_type": "display_data"
    },
    {
     "name": "stdout",
     "output_type": "stream",
     "text": [
      "\n"
     ]
    },
    {
     "data": {
      "application/vnd.jupyter.widget-view+json": {
       "model_id": "b0bb8e19e2534929b85a2eb4f479c9e8",
       "version_major": 2,
       "version_minor": 0
      },
      "text/plain": [
       "HBox(children=(FloatProgress(value=0.0, description='Downloading', max=1961847.0, style=ProgressStyle(descript…"
      ]
     },
     "metadata": {},
     "output_type": "display_data"
    },
    {
     "name": "stdout",
     "output_type": "stream",
     "text": [
      "\n"
     ]
    },
    {
     "data": {
      "application/vnd.jupyter.widget-view+json": {
       "model_id": "1372d401b00f441aa2b98b419747624f",
       "version_major": 2,
       "version_minor": 0
      },
      "text/plain": [
       "HBox(children=(FloatProgress(value=0.0, description='Downloading', max=452.0, style=ProgressStyle(description_…"
      ]
     },
     "metadata": {},
     "output_type": "display_data"
    },
    {
     "name": "stdout",
     "output_type": "stream",
     "text": [
      "\n"
     ]
    },
    {
     "data": {
      "application/vnd.jupyter.widget-view+json": {
       "model_id": "937c49a60a904a8896b3df9b049f77e5",
       "version_major": 2,
       "version_minor": 0
      },
      "text/plain": [
       "HBox(children=(FloatProgress(value=0.0, description='Downloading', max=995526.0, style=ProgressStyle(descripti…"
      ]
     },
     "metadata": {},
     "output_type": "display_data"
    },
    {
     "name": "stdout",
     "output_type": "stream",
     "text": [
      "\n"
     ]
    },
    {
     "data": {
      "application/vnd.jupyter.widget-view+json": {
       "model_id": "aa76c29412f044dfab2d290088886976",
       "version_major": 2,
       "version_minor": 0
      },
      "text/plain": [
       "HBox(children=(FloatProgress(value=0.0, description='Downloading', max=190.0, style=ProgressStyle(description_…"
      ]
     },
     "metadata": {},
     "output_type": "display_data"
    },
    {
     "name": "stdout",
     "output_type": "stream",
     "text": [
      "\n"
     ]
    },
    {
     "data": {
      "application/vnd.jupyter.widget-view+json": {
       "model_id": "a3a50296ac6f497f95ad688fd146b8eb",
       "version_major": 2,
       "version_minor": 0
      },
      "text/plain": [
       "HBox(children=(FloatProgress(value=0.0, description='Downloading', max=114.0, style=ProgressStyle(description_…"
      ]
     },
     "metadata": {},
     "output_type": "display_data"
    },
    {
     "name": "stdout",
     "output_type": "stream",
     "text": [
      "\n"
     ]
    },
    {
     "data": {
      "application/vnd.jupyter.widget-view+json": {
       "model_id": "8eb98448b0fc4c8ab8d495778e329d18",
       "version_major": 2,
       "version_minor": 0
      },
      "text/plain": [
       "HBox(children=(FloatProgress(value=0.0, description='Downloading', max=1575975.0, style=ProgressStyle(descript…"
      ]
     },
     "metadata": {},
     "output_type": "display_data"
    },
    {
     "name": "stdout",
     "output_type": "stream",
     "text": [
      "\n",
      "[[-0.03885619  0.01854846 -0.04066143 ...  0.01009195 -0.01660534\n",
      "  -0.00138949]\n",
      " [-0.00059497 -0.00924199 -0.05870511 ...  0.01638779  0.01509568\n",
      "  -0.04368324]]\n"
     ]
    }
   ],
   "source": [
    "from sentence_transformers import SentenceTransformer\n",
    "sentences = [\"This is an example sentence\", \"Each sentence is converted\"]\n",
    "\n",
    "model = SentenceTransformer('sentence-transformers/distiluse-base-multilingual-cased-v1')\n",
    "embeddings = model.encode(sentences)\n",
    "print(embeddings)"
   ]
  },
  {
   "cell_type": "code",
   "execution_count": 12,
   "id": "4e35dc0e-c52c-4ea6-b422-c47be9379fc0",
   "metadata": {},
   "outputs": [
    {
     "data": {
      "text/plain": [
       "(2, 512)"
      ]
     },
     "execution_count": 12,
     "metadata": {},
     "output_type": "execute_result"
    }
   ],
   "source": [
    "embeddings.shape"
   ]
  },
  {
   "cell_type": "code",
   "execution_count": null,
   "id": "c6a8aed7-7d73-4387-b86e-619a3d745f95",
   "metadata": {},
   "outputs": [],
   "source": []
  }
 ],
 "metadata": {
  "kernelspec": {
   "display_name": "Python 3",
   "language": "python",
   "name": "python3"
  },
  "language_info": {
   "codemirror_mode": {
    "name": "ipython",
    "version": 3
   },
   "file_extension": ".py",
   "mimetype": "text/x-python",
   "name": "python",
   "nbconvert_exporter": "python",
   "pygments_lexer": "ipython3",
   "version": "3.8.3"
  }
 },
 "nbformat": 4,
 "nbformat_minor": 5
}
