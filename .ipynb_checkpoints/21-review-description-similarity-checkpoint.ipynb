{
 "cells": [
  {
   "cell_type": "markdown",
   "id": "8c405982",
   "metadata": {},
   "source": [
    "# 21-review-description-similarity"
   ]
  },
  {
   "cell_type": "code",
   "execution_count": 1,
   "id": "ae137418",
   "metadata": {},
   "outputs": [],
   "source": [
    "import pandas as pd\n",
    "import numpy as np\n",
    "import matplotlib.pyplot as plt\n",
    "\n",
    "from sentence_transformers import SentenceTransformer"
   ]
  },
  {
   "cell_type": "code",
   "execution_count": 5,
   "id": "13b5a84e",
   "metadata": {},
   "outputs": [
    {
     "name": "stdout",
     "output_type": "stream",
     "text": [
      "[[-0.03387689  0.09194157  0.04870129 ... -0.0143926  -0.02754976\n",
      "   0.04475824]\n",
      " [ 0.00504993  0.0631698   0.01415723 ...  0.04035439  0.07584123\n",
      "   0.09087349]\n",
      " [-0.00248318  0.09151708  0.04838626 ... -0.02641118 -0.07529834\n",
      "   0.02803212]\n",
      " [-0.01629126  0.1040661   0.0974078  ...  0.00676726 -0.08788456\n",
      "   0.03404383]]\n",
      "(4, 384)\n"
     ]
    }
   ],
   "source": [
    "sentences = [\"That is a happy person\", \"That is a happy dog\", \"That is a very happy person\", \"Today is a sunny day\"]\n",
    "\n",
    "model = SentenceTransformer('sentence-transformers/all-MiniLM-L6-v2')\n",
    "embeddings = model.encode(sentences)\n",
    "print(embeddings)\n",
    "print(embeddings.shape)"
   ]
  },
  {
   "cell_type": "code",
   "execution_count": 7,
   "id": "e9bbb200",
   "metadata": {},
   "outputs": [
    {
     "data": {
      "text/plain": [
       "0.69457746"
      ]
     },
     "execution_count": 7,
     "metadata": {},
     "output_type": "execute_result"
    }
   ],
   "source": [
    "np.dot(embeddings[0, :], embeddings[1, :])/(np.linalg.norm(embeddings[0, :])*np.linalg.norm(embeddings[1, :]))"
   ]
  },
  {
   "cell_type": "code",
   "execution_count": 8,
   "id": "a769c54b",
   "metadata": {},
   "outputs": [
    {
     "data": {
      "text/plain": [
       "0.942915"
      ]
     },
     "execution_count": 8,
     "metadata": {},
     "output_type": "execute_result"
    }
   ],
   "source": [
    "np.dot(embeddings[0, :], embeddings[2, :])/(np.linalg.norm(embeddings[0, :])*np.linalg.norm(embeddings[2, :]))"
   ]
  },
  {
   "cell_type": "code",
   "execution_count": null,
   "id": "f25bc553",
   "metadata": {},
   "outputs": [],
   "source": []
  }
 ],
 "metadata": {
  "kernelspec": {
   "display_name": "Python 3 (ipykernel)",
   "language": "python",
   "name": "python3"
  },
  "language_info": {
   "codemirror_mode": {
    "name": "ipython",
    "version": 3
   },
   "file_extension": ".py",
   "mimetype": "text/x-python",
   "name": "python",
   "nbconvert_exporter": "python",
   "pygments_lexer": "ipython3",
   "version": "3.9.7"
  }
 },
 "nbformat": 4,
 "nbformat_minor": 5
}
